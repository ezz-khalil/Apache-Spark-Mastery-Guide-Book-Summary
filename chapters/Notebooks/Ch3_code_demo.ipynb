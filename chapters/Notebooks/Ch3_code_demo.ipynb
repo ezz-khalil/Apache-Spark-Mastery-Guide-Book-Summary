{
 "cells": [
  {
   "cell_type": "markdown",
   "metadata": {
    "application/vnd.databricks.v1+cell": {
     "cellMetadata": {
      "byteLimit": 2048000,
      "rowLimit": 10000
     },
     "inputWidgets": {},
     "nuid": "201bae35-86b0-4177-9544-a4c74fe6b213",
     "showTitle": false,
     "tableResultSettingsMap": {},
     "title": ""
    }
   },
   "source": [
    "# Chapter 3 - Spark Structured APIs \n"
   ]
  },
  {
   "cell_type": "markdown",
   "metadata": {
    "application/vnd.databricks.v1+cell": {
     "cellMetadata": {
      "byteLimit": 2048000,
      "rowLimit": 10000
     },
     "inputWidgets": {},
     "nuid": "376cf6de-5f61-4178-b62f-e99b32366b84",
     "showTitle": false,
     "tableResultSettingsMap": {},
     "title": ""
    }
   },
   "source": [
    "**In This notebook we will practice Spark using Python (PySpark) including all code examples from the book**\n",
    "\n"
   ]
  },
  {
   "cell_type": "code",
   "execution_count": 0,
   "metadata": {
    "application/vnd.databricks.v1+cell": {
     "cellMetadata": {
      "byteLimit": 2048000,
      "rowLimit": 10000
     },
     "inputWidgets": {},
     "nuid": "5f6117ae-edae-4184-affc-1f6e278e0732",
     "showTitle": false,
     "tableResultSettingsMap": {},
     "title": ""
    }
   },
   "outputs": [],
   "source": [
    "# loading CSV data, Option 1\n",
    "df = spark.read.csv(\"/Volumes/workspace/default/data/BigMart Sales.csv\")"
   ]
  },
  {
   "cell_type": "code",
   "execution_count": 0,
   "metadata": {
    "application/vnd.databricks.v1+cell": {
     "cellMetadata": {
      "byteLimit": 2048000,
      "rowLimit": 10000
     },
     "inputWidgets": {},
     "nuid": "c2b994ad-1545-4ee0-9f6d-2f609794c2a7",
     "showTitle": false,
     "tableResultSettingsMap": {},
     "title": ""
    }
   },
   "outputs": [],
   "source": [
    "# read data, optiion 2\n",
    "df = spark.read.format(\"csv\").load(\"/Volumes/workspace/default/data/BigMart Sales.csv\")"
   ]
  },
  {
   "cell_type": "code",
   "execution_count": 0,
   "metadata": {
    "application/vnd.databricks.v1+cell": {
     "cellMetadata": {
      "byteLimit": 2048000,
      "rowLimit": 10000
     },
     "inputWidgets": {},
     "nuid": "95e588c0-9603-4dc7-813f-e4f400d6dd4b",
     "showTitle": false,
     "tableResultSettingsMap": {},
     "title": ""
    }
   },
   "outputs": [
    {
     "output_type": "execute_result",
     "data": {
      "text/html": [
       "<div>\n",
       "<style scoped>\n",
       "    .dataframe tbody tr th:only-of-type {\n",
       "        vertical-align: middle;\n",
       "    }\n",
       "\n",
       "    .dataframe tbody tr th {\n",
       "        vertical-align: top;\n",
       "    }\n",
       "\n",
       "    .dataframe thead th {\n",
       "        text-align: right;\n",
       "    }\n",
       "</style>\n",
       "<table border=\"1\" class=\"dataframe\">\n",
       "  <thead>\n",
       "    <tr style=\"text-align: right;\">\n",
       "      <th></th>\n",
       "      <th>_c0</th>\n",
       "      <th>_c1</th>\n",
       "      <th>_c2</th>\n",
       "      <th>_c3</th>\n",
       "      <th>_c4</th>\n",
       "      <th>_c5</th>\n",
       "      <th>_c6</th>\n",
       "      <th>_c7</th>\n",
       "      <th>_c8</th>\n",
       "      <th>_c9</th>\n",
       "      <th>_c10</th>\n",
       "      <th>_c11</th>\n",
       "    </tr>\n",
       "  </thead>\n",
       "  <tbody>\n",
       "    <tr>\n",
       "      <th>0</th>\n",
       "      <td>Item_Identifier</td>\n",
       "      <td>Item_Weight</td>\n",
       "      <td>Item_Fat_Content</td>\n",
       "      <td>Item_Visibility</td>\n",
       "      <td>Item_Type</td>\n",
       "      <td>Item_MRP</td>\n",
       "      <td>Outlet_Identifier</td>\n",
       "      <td>Outlet_Establishment_Year</td>\n",
       "      <td>Outlet_Size</td>\n",
       "      <td>Outlet_Location_Type</td>\n",
       "      <td>Outlet_Type</td>\n",
       "      <td>Item_Outlet_Sales</td>\n",
       "    </tr>\n",
       "    <tr>\n",
       "      <th>1</th>\n",
       "      <td>FDA15</td>\n",
       "      <td>9.3</td>\n",
       "      <td>Low Fat</td>\n",
       "      <td>0.016047301</td>\n",
       "      <td>Dairy</td>\n",
       "      <td>249.8092</td>\n",
       "      <td>OUT049</td>\n",
       "      <td>1999</td>\n",
       "      <td>Medium</td>\n",
       "      <td>Tier 1</td>\n",
       "      <td>Supermarket Type1</td>\n",
       "      <td>3735.138</td>\n",
       "    </tr>\n",
       "    <tr>\n",
       "      <th>2</th>\n",
       "      <td>DRC01</td>\n",
       "      <td>5.92</td>\n",
       "      <td>Regular</td>\n",
       "      <td>0.019278216</td>\n",
       "      <td>Soft Drinks</td>\n",
       "      <td>48.2692</td>\n",
       "      <td>OUT018</td>\n",
       "      <td>2009</td>\n",
       "      <td>Medium</td>\n",
       "      <td>Tier 3</td>\n",
       "      <td>Supermarket Type2</td>\n",
       "      <td>443.4228</td>\n",
       "    </tr>\n",
       "    <tr>\n",
       "      <th>3</th>\n",
       "      <td>FDN15</td>\n",
       "      <td>17.5</td>\n",
       "      <td>Low Fat</td>\n",
       "      <td>0.016760075</td>\n",
       "      <td>Meat</td>\n",
       "      <td>141.618</td>\n",
       "      <td>OUT049</td>\n",
       "      <td>1999</td>\n",
       "      <td>Medium</td>\n",
       "      <td>Tier 1</td>\n",
       "      <td>Supermarket Type1</td>\n",
       "      <td>2097.27</td>\n",
       "    </tr>\n",
       "    <tr>\n",
       "      <th>4</th>\n",
       "      <td>FDX07</td>\n",
       "      <td>19.2</td>\n",
       "      <td>Regular</td>\n",
       "      <td>0</td>\n",
       "      <td>Fruits and Vegetables</td>\n",
       "      <td>182.095</td>\n",
       "      <td>OUT010</td>\n",
       "      <td>1998</td>\n",
       "      <td>None</td>\n",
       "      <td>Tier 3</td>\n",
       "      <td>Grocery Store</td>\n",
       "      <td>732.38</td>\n",
       "    </tr>\n",
       "    <tr>\n",
       "      <th>5</th>\n",
       "      <td>NCD19</td>\n",
       "      <td>8.93</td>\n",
       "      <td>Low Fat</td>\n",
       "      <td>0</td>\n",
       "      <td>Household</td>\n",
       "      <td>53.8614</td>\n",
       "      <td>OUT013</td>\n",
       "      <td>1987</td>\n",
       "      <td>High</td>\n",
       "      <td>Tier 3</td>\n",
       "      <td>Supermarket Type1</td>\n",
       "      <td>994.7052</td>\n",
       "    </tr>\n",
       "    <tr>\n",
       "      <th>6</th>\n",
       "      <td>FDP36</td>\n",
       "      <td>10.395</td>\n",
       "      <td>Regular</td>\n",
       "      <td>0</td>\n",
       "      <td>Baking Goods</td>\n",
       "      <td>51.4008</td>\n",
       "      <td>OUT018</td>\n",
       "      <td>2009</td>\n",
       "      <td>Medium</td>\n",
       "      <td>Tier 3</td>\n",
       "      <td>Supermarket Type2</td>\n",
       "      <td>556.6088</td>\n",
       "    </tr>\n",
       "    <tr>\n",
       "      <th>7</th>\n",
       "      <td>FDO10</td>\n",
       "      <td>13.65</td>\n",
       "      <td>Regular</td>\n",
       "      <td>0.012741089</td>\n",
       "      <td>Snack Foods</td>\n",
       "      <td>57.6588</td>\n",
       "      <td>OUT013</td>\n",
       "      <td>1987</td>\n",
       "      <td>High</td>\n",
       "      <td>Tier 3</td>\n",
       "      <td>Supermarket Type1</td>\n",
       "      <td>343.5528</td>\n",
       "    </tr>\n",
       "    <tr>\n",
       "      <th>8</th>\n",
       "      <td>FDP10</td>\n",
       "      <td>None</td>\n",
       "      <td>Low Fat</td>\n",
       "      <td>0.127469857</td>\n",
       "      <td>Snack Foods</td>\n",
       "      <td>107.7622</td>\n",
       "      <td>OUT027</td>\n",
       "      <td>1985</td>\n",
       "      <td>Medium</td>\n",
       "      <td>Tier 3</td>\n",
       "      <td>Supermarket Type3</td>\n",
       "      <td>4022.7636</td>\n",
       "    </tr>\n",
       "    <tr>\n",
       "      <th>9</th>\n",
       "      <td>FDH17</td>\n",
       "      <td>16.2</td>\n",
       "      <td>Regular</td>\n",
       "      <td>0.016687114</td>\n",
       "      <td>Frozen Foods</td>\n",
       "      <td>96.9726</td>\n",
       "      <td>OUT045</td>\n",
       "      <td>2002</td>\n",
       "      <td>None</td>\n",
       "      <td>Tier 2</td>\n",
       "      <td>Supermarket Type1</td>\n",
       "      <td>1076.5986</td>\n",
       "    </tr>\n",
       "  </tbody>\n",
       "</table>\n",
       "</div>"
      ],
      "text/plain": [
       "               _c0          _c1  ...               _c10               _c11\n",
       "0  Item_Identifier  Item_Weight  ...        Outlet_Type  Item_Outlet_Sales\n",
       "1            FDA15          9.3  ...  Supermarket Type1           3735.138\n",
       "2            DRC01         5.92  ...  Supermarket Type2           443.4228\n",
       "3            FDN15         17.5  ...  Supermarket Type1            2097.27\n",
       "4            FDX07         19.2  ...      Grocery Store             732.38\n",
       "5            NCD19         8.93  ...  Supermarket Type1           994.7052\n",
       "6            FDP36       10.395  ...  Supermarket Type2           556.6088\n",
       "7            FDO10        13.65  ...  Supermarket Type1           343.5528\n",
       "8            FDP10         None  ...  Supermarket Type3          4022.7636\n",
       "9            FDH17         16.2  ...  Supermarket Type1          1076.5986\n",
       "\n",
       "[10 rows x 12 columns]"
      ]
     },
     "execution_count": 146,
     "metadata": {},
     "output_type": "execute_result"
    }
   ],
   "source": [
    "# if we want preview data of this dataframe, we can use show() method or display() method or limit() method\n",
    "df.limit(10).toPandas()"
   ]
  },
  {
   "cell_type": "code",
   "execution_count": 0,
   "metadata": {
    "application/vnd.databricks.v1+cell": {
     "cellMetadata": {
      "byteLimit": 2048000,
      "rowLimit": 10000
     },
     "inputWidgets": {},
     "nuid": "6269c021-de13-4e84-bed6-55b9d66b6029",
     "showTitle": false,
     "tableResultSettingsMap": {},
     "title": ""
    }
   },
   "outputs": [],
   "source": [
    "# To let spark to get column names from first record we need to add an option to read method, to add option we use the syntax option(option name, option value) \n",
    "df1 = spark.read.csv(\"/Volumes/workspace/default/data/BigMart Sales.csv\", header=True)\n"
   ]
  },
  {
   "cell_type": "code",
   "execution_count": 0,
   "metadata": {
    "application/vnd.databricks.v1+cell": {
     "cellMetadata": {
      "byteLimit": 2048000,
      "rowLimit": 10000
     },
     "inputWidgets": {},
     "nuid": "a75309ef-27db-4fe0-ba41-a701381a9857",
     "showTitle": false,
     "tableResultSettingsMap": {},
     "title": ""
    }
   },
   "outputs": [
    {
     "output_type": "display_data",
     "data": {
      "text/html": [
       "<style scoped>\n",
       "  .table-result-container {\n",
       "    max-height: 300px;\n",
       "    overflow: auto;\n",
       "  }\n",
       "  table, th, td {\n",
       "    border: 1px solid black;\n",
       "    border-collapse: collapse;\n",
       "  }\n",
       "  th, td {\n",
       "    padding: 5px;\n",
       "  }\n",
       "  th {\n",
       "    text-align: left;\n",
       "  }\n",
       "</style><div class='table-result-container'><table class='table-result'><thead style='background-color: white'><tr><th>Item_Identifier</th><th>Item_Weight</th><th>Item_Fat_Content</th><th>Item_Visibility</th><th>Item_Type</th><th>Item_MRP</th><th>Outlet_Identifier</th><th>Outlet_Establishment_Year</th><th>Outlet_Size</th><th>Outlet_Location_Type</th><th>Outlet_Type</th><th>Item_Outlet_Sales</th></tr></thead><tbody><tr><td>FDA15</td><td>9.3</td><td>Low Fat</td><td>0.016047301</td><td>Dairy</td><td>249.8092</td><td>OUT049</td><td>1999</td><td>Medium</td><td>Tier 1</td><td>Supermarket Type1</td><td>3735.138</td></tr><tr><td>DRC01</td><td>5.92</td><td>Regular</td><td>0.019278216</td><td>Soft Drinks</td><td>48.2692</td><td>OUT018</td><td>2009</td><td>Medium</td><td>Tier 3</td><td>Supermarket Type2</td><td>443.4228</td></tr><tr><td>FDN15</td><td>17.5</td><td>Low Fat</td><td>0.016760075</td><td>Meat</td><td>141.618</td><td>OUT049</td><td>1999</td><td>Medium</td><td>Tier 1</td><td>Supermarket Type1</td><td>2097.27</td></tr><tr><td>FDX07</td><td>19.2</td><td>Regular</td><td>0</td><td>Fruits and Vegetables</td><td>182.095</td><td>OUT010</td><td>1998</td><td>null</td><td>Tier 3</td><td>Grocery Store</td><td>732.38</td></tr><tr><td>NCD19</td><td>8.93</td><td>Low Fat</td><td>0</td><td>Household</td><td>53.8614</td><td>OUT013</td><td>1987</td><td>High</td><td>Tier 3</td><td>Supermarket Type1</td><td>994.7052</td></tr><tr><td>FDP36</td><td>10.395</td><td>Regular</td><td>0</td><td>Baking Goods</td><td>51.4008</td><td>OUT018</td><td>2009</td><td>Medium</td><td>Tier 3</td><td>Supermarket Type2</td><td>556.6088</td></tr><tr><td>FDO10</td><td>13.65</td><td>Regular</td><td>0.012741089</td><td>Snack Foods</td><td>57.6588</td><td>OUT013</td><td>1987</td><td>High</td><td>Tier 3</td><td>Supermarket Type1</td><td>343.5528</td></tr><tr><td>FDP10</td><td>null</td><td>Low Fat</td><td>0.127469857</td><td>Snack Foods</td><td>107.7622</td><td>OUT027</td><td>1985</td><td>Medium</td><td>Tier 3</td><td>Supermarket Type3</td><td>4022.7636</td></tr><tr><td>FDH17</td><td>16.2</td><td>Regular</td><td>0.016687114</td><td>Frozen Foods</td><td>96.9726</td><td>OUT045</td><td>2002</td><td>null</td><td>Tier 2</td><td>Supermarket Type1</td><td>1076.5986</td></tr><tr><td>FDU28</td><td>19.2</td><td>Regular</td><td>0.09444959</td><td>Frozen Foods</td><td>187.8214</td><td>OUT017</td><td>2007</td><td>null</td><td>Tier 2</td><td>Supermarket Type1</td><td>4710.535</td></tr></tbody></table></div>"
      ]
     },
     "metadata": {
      "application/vnd.databricks.v1+output": {
       "addedWidgets": {},
       "aggData": [],
       "aggError": "",
       "aggOverflow": false,
       "aggSchema": [],
       "aggSeriesLimitReached": false,
       "aggType": "",
       "arguments": {},
       "columnCustomDisplayInfos": {},
       "data": [
        [
         "FDA15",
         "9.3",
         "Low Fat",
         "0.016047301",
         "Dairy",
         "249.8092",
         "OUT049",
         "1999",
         "Medium",
         "Tier 1",
         "Supermarket Type1",
         "3735.138"
        ],
        [
         "DRC01",
         "5.92",
         "Regular",
         "0.019278216",
         "Soft Drinks",
         "48.2692",
         "OUT018",
         "2009",
         "Medium",
         "Tier 3",
         "Supermarket Type2",
         "443.4228"
        ],
        [
         "FDN15",
         "17.5",
         "Low Fat",
         "0.016760075",
         "Meat",
         "141.618",
         "OUT049",
         "1999",
         "Medium",
         "Tier 1",
         "Supermarket Type1",
         "2097.27"
        ],
        [
         "FDX07",
         "19.2",
         "Regular",
         "0",
         "Fruits and Vegetables",
         "182.095",
         "OUT010",
         "1998",
         null,
         "Tier 3",
         "Grocery Store",
         "732.38"
        ],
        [
         "NCD19",
         "8.93",
         "Low Fat",
         "0",
         "Household",
         "53.8614",
         "OUT013",
         "1987",
         "High",
         "Tier 3",
         "Supermarket Type1",
         "994.7052"
        ],
        [
         "FDP36",
         "10.395",
         "Regular",
         "0",
         "Baking Goods",
         "51.4008",
         "OUT018",
         "2009",
         "Medium",
         "Tier 3",
         "Supermarket Type2",
         "556.6088"
        ],
        [
         "FDO10",
         "13.65",
         "Regular",
         "0.012741089",
         "Snack Foods",
         "57.6588",
         "OUT013",
         "1987",
         "High",
         "Tier 3",
         "Supermarket Type1",
         "343.5528"
        ],
        [
         "FDP10",
         null,
         "Low Fat",
         "0.127469857",
         "Snack Foods",
         "107.7622",
         "OUT027",
         "1985",
         "Medium",
         "Tier 3",
         "Supermarket Type3",
         "4022.7636"
        ],
        [
         "FDH17",
         "16.2",
         "Regular",
         "0.016687114",
         "Frozen Foods",
         "96.9726",
         "OUT045",
         "2002",
         null,
         "Tier 2",
         "Supermarket Type1",
         "1076.5986"
        ],
        [
         "FDU28",
         "19.2",
         "Regular",
         "0.09444959",
         "Frozen Foods",
         "187.8214",
         "OUT017",
         "2007",
         null,
         "Tier 2",
         "Supermarket Type1",
         "4710.535"
        ]
       ],
       "datasetInfos": [],
       "dbfsResultPath": null,
       "isJsonSchema": true,
       "metadata": {},
       "overflow": false,
       "plotOptions": {
        "customPlotOptions": {},
        "displayType": "table",
        "pivotAggregation": null,
        "pivotColumns": null,
        "xColumns": null,
        "yColumns": null
       },
       "removedWidgets": [],
       "schema": [
        {
         "metadata": "{}",
         "name": "Item_Identifier",
         "type": "\"string\""
        },
        {
         "metadata": "{}",
         "name": "Item_Weight",
         "type": "\"string\""
        },
        {
         "metadata": "{}",
         "name": "Item_Fat_Content",
         "type": "\"string\""
        },
        {
         "metadata": "{}",
         "name": "Item_Visibility",
         "type": "\"string\""
        },
        {
         "metadata": "{}",
         "name": "Item_Type",
         "type": "\"string\""
        },
        {
         "metadata": "{}",
         "name": "Item_MRP",
         "type": "\"string\""
        },
        {
         "metadata": "{}",
         "name": "Outlet_Identifier",
         "type": "\"string\""
        },
        {
         "metadata": "{}",
         "name": "Outlet_Establishment_Year",
         "type": "\"string\""
        },
        {
         "metadata": "{}",
         "name": "Outlet_Size",
         "type": "\"string\""
        },
        {
         "metadata": "{}",
         "name": "Outlet_Location_Type",
         "type": "\"string\""
        },
        {
         "metadata": "{}",
         "name": "Outlet_Type",
         "type": "\"string\""
        },
        {
         "metadata": "{}",
         "name": "Item_Outlet_Sales",
         "type": "\"string\""
        }
       ],
       "type": "table"
      }
     },
     "output_type": "display_data"
    }
   ],
   "source": [
    "df1.limit(10).display()"
   ]
  },
  {
   "cell_type": "code",
   "execution_count": 0,
   "metadata": {
    "application/vnd.databricks.v1+cell": {
     "cellMetadata": {
      "byteLimit": 2048000,
      "rowLimit": 10000
     },
     "inputWidgets": {},
     "nuid": "a0d301d4-4e2f-4d05-a1ee-948166692028",
     "showTitle": false,
     "tableResultSettingsMap": {},
     "title": ""
    }
   },
   "outputs": [
    {
     "output_type": "stream",
     "name": "stdout",
     "output_type": "stream",
     "text": [
      "root\n |-- Item_Identifier: string (nullable = true)\n |-- Item_Weight: string (nullable = true)\n |-- Item_Fat_Content: string (nullable = true)\n |-- Item_Visibility: string (nullable = true)\n |-- Item_Type: string (nullable = true)\n |-- Item_MRP: string (nullable = true)\n |-- Outlet_Identifier: string (nullable = true)\n |-- Outlet_Establishment_Year: string (nullable = true)\n |-- Outlet_Size: string (nullable = true)\n |-- Outlet_Location_Type: string (nullable = true)\n |-- Outlet_Type: string (nullable = true)\n |-- Item_Outlet_Sales: string (nullable = true)\n\n"
     ]
    }
   ],
   "source": [
    "# To check datatypes, we use a method called printSchema() to get column names and datatype for each column\n",
    "df1.printSchema()"
   ]
  },
  {
   "cell_type": "markdown",
   "metadata": {
    "application/vnd.databricks.v1+cell": {
     "cellMetadata": {
      "byteLimit": 2048000,
      "rowLimit": 10000
     },
     "inputWidgets": {},
     "nuid": "0c9b190f-ee27-472b-b264-03898978cbdf",
     "showTitle": false,
     "tableResultSettingsMap": {},
     "title": ""
    }
   },
   "source": [
    "\n",
    "as we see spark assigns a default data type for all the columns as string, to assign column data type we \n",
    "have two options first is to let Spark suggest the data type based on data available in the DataFrame or \n",
    "second option is to explicitly define datatype for each column. To let Spark, suggest columns data types \n",
    "we use the option **InferSchema**    \n"
   ]
  },
  {
   "cell_type": "code",
   "execution_count": 0,
   "metadata": {
    "application/vnd.databricks.v1+cell": {
     "cellMetadata": {
      "byteLimit": 2048000,
      "rowLimit": 10000
     },
     "inputWidgets": {},
     "nuid": "fef1c6c7-4ecb-41a1-8ae9-e9c6c4d9e321",
     "showTitle": false,
     "tableResultSettingsMap": {},
     "title": ""
    }
   },
   "outputs": [],
   "source": [
    "df1 = spark.read.csv(\"/Volumes/workspace/default/data/BigMart Sales.csv\", header=True , inferSchema=True)"
   ]
  },
  {
   "cell_type": "code",
   "execution_count": 0,
   "metadata": {
    "application/vnd.databricks.v1+cell": {
     "cellMetadata": {
      "byteLimit": 2048000,
      "rowLimit": 10000
     },
     "inputWidgets": {},
     "nuid": "df5bfc96-740d-4b39-be86-58e7e11c2349",
     "showTitle": false,
     "tableResultSettingsMap": {},
     "title": ""
    }
   },
   "outputs": [
    {
     "output_type": "stream",
     "name": "stdout",
     "output_type": "stream",
     "text": [
      "root\n |-- Item_Identifier: string (nullable = true)\n |-- Item_Weight: double (nullable = true)\n |-- Item_Fat_Content: string (nullable = true)\n |-- Item_Visibility: double (nullable = true)\n |-- Item_Type: string (nullable = true)\n |-- Item_MRP: double (nullable = true)\n |-- Outlet_Identifier: string (nullable = true)\n |-- Outlet_Establishment_Year: integer (nullable = true)\n |-- Outlet_Size: string (nullable = true)\n |-- Outlet_Location_Type: string (nullable = true)\n |-- Outlet_Type: string (nullable = true)\n |-- Item_Outlet_Sales: double (nullable = true)\n\n"
     ]
    }
   ],
   "source": [
    "# now let's check columns data type\n",
    "df1.printSchema()"
   ]
  },
  {
   "cell_type": "code",
   "execution_count": 0,
   "metadata": {
    "application/vnd.databricks.v1+cell": {
     "cellMetadata": {
      "byteLimit": 2048000,
      "rowLimit": 10000
     },
     "inputWidgets": {},
     "nuid": "e3d69acf-7290-45c5-ad9a-e81a2c4e5efe",
     "showTitle": false,
     "tableResultSettingsMap": {},
     "title": ""
    }
   },
   "outputs": [],
   "source": [
    "# also we can define the schema manually \n",
    "# option 1 \n",
    "schema = '''\n",
    "    Item_Identifier string,\n",
    "    Item_Weight double,\n",
    "    Item_Fat_Content string,\n",
    "    Item_Visibility double,\n",
    "    Item_Type string,\n",
    "    Item_MRP double,\n",
    "    Outlet_Identifier string,\n",
    "    Outlet_Establishment_Year integer,\n",
    "    Outlet_Size string,\n",
    "    Outlet_Location_Type string,\n",
    "    Outlet_Type string,\n",
    "    Item_Outlet_Sales double\n",
    "\n",
    "'''\n",
    "\n",
    "df1 = spark.read.csv(\"/Volumes/workspace/default/data/BigMart Sales.csv\", header= True , schema=schema)"
   ]
  },
  {
   "cell_type": "code",
   "execution_count": 0,
   "metadata": {
    "application/vnd.databricks.v1+cell": {
     "cellMetadata": {
      "byteLimit": 2048000,
      "rowLimit": 10000
     },
     "inputWidgets": {},
     "nuid": "8700f487-557b-4eca-a928-cf6ef61c3a32",
     "showTitle": false,
     "tableResultSettingsMap": {},
     "title": ""
    }
   },
   "outputs": [
    {
     "output_type": "stream",
     "name": "stdout",
     "output_type": "stream",
     "text": [
      "root\n |-- Item_Identifier: string (nullable = true)\n |-- Item_Weight: double (nullable = true)\n |-- Item_Fat_Content: string (nullable = true)\n |-- Item_Visibility: double (nullable = true)\n |-- Item_Type: string (nullable = true)\n |-- Item_MRP: double (nullable = true)\n |-- Outlet_Identifier: string (nullable = true)\n |-- Outlet_Establishment_Year: integer (nullable = true)\n |-- Outlet_Size: string (nullable = true)\n |-- Outlet_Location_Type: string (nullable = true)\n |-- Outlet_Type: string (nullable = true)\n |-- Item_Outlet_Sales: double (nullable = true)\n\n"
     ]
    }
   ],
   "source": [
    "df1.printSchema()"
   ]
  },
  {
   "cell_type": "code",
   "execution_count": 0,
   "metadata": {
    "application/vnd.databricks.v1+cell": {
     "cellMetadata": {
      "byteLimit": 2048000,
      "rowLimit": 10000
     },
     "inputWidgets": {},
     "nuid": "2694fa60-a4a6-47d6-a823-729a2a738a6f",
     "showTitle": false,
     "tableResultSettingsMap": {},
     "title": ""
    }
   },
   "outputs": [],
   "source": [
    "from pyspark.sql.types import *"
   ]
  },
  {
   "cell_type": "code",
   "execution_count": 0,
   "metadata": {
    "application/vnd.databricks.v1+cell": {
     "cellMetadata": {
      "byteLimit": 2048000,
      "rowLimit": 10000
     },
     "inputWidgets": {},
     "nuid": "b1d8e467-e708-49ea-b55a-d123b60364f4",
     "showTitle": false,
     "tableResultSettingsMap": {},
     "title": ""
    }
   },
   "outputs": [],
   "source": [
    "# option 2\n",
    "\n",
    "\n",
    "schema = StructType([\n",
    "    StructField('Item_Identifier', StringType(), True),\n",
    "    StructField('Item_Weight', DoubleType(), True),\n",
    "    StructField('Item_Fat_Content', StringType(), True),\n",
    "    StructField('Item_Visibility', DoubleType(), True),\n",
    "    StructField('Item_Type', StringType(), True),\n",
    "    StructField('Item_MRP', DoubleType(), True),\n",
    "    StructField('Outlet_Identifier', StringType(), True),\n",
    "    StructField('Outlet_Establishment_Year', IntegerType(), True),\n",
    "    StructField('Outlet_Size', StringType(), True),\n",
    "    StructField('Outlet_Location_Type', StringType(), True),\n",
    "    StructField('Outlet_Type', StringType(), True),\n",
    "    StructField('Item_Outlet_Sales', DoubleType(), True)\n",
    "\n",
    "])\n",
    "\n",
    "df1 = spark.read.csv(\"/Volumes/workspace/default/data/BigMart Sales.csv\", header= True , schema=schema)"
   ]
  },
  {
   "cell_type": "code",
   "execution_count": 0,
   "metadata": {
    "application/vnd.databricks.v1+cell": {
     "cellMetadata": {
      "byteLimit": 2048000,
      "rowLimit": 10000
     },
     "inputWidgets": {},
     "nuid": "3c5b125a-3c1c-43ca-b0c0-5f60e8c93d97",
     "showTitle": false,
     "tableResultSettingsMap": {},
     "title": ""
    }
   },
   "outputs": [
    {
     "output_type": "stream",
     "name": "stdout",
     "output_type": "stream",
     "text": [
      "root\n |-- Item_Identifier: string (nullable = true)\n |-- Item_Weight: double (nullable = true)\n |-- Item_Fat_Content: string (nullable = true)\n |-- Item_Visibility: double (nullable = true)\n |-- Item_Type: string (nullable = true)\n |-- Item_MRP: double (nullable = true)\n |-- Outlet_Identifier: string (nullable = true)\n |-- Outlet_Establishment_Year: integer (nullable = true)\n |-- Outlet_Size: string (nullable = true)\n |-- Outlet_Location_Type: string (nullable = true)\n |-- Outlet_Type: string (nullable = true)\n |-- Item_Outlet_Sales: double (nullable = true)\n\n"
     ]
    }
   ],
   "source": [
    "df1.printSchema()"
   ]
  },
  {
   "cell_type": "markdown",
   "metadata": {
    "application/vnd.databricks.v1+cell": {
     "cellMetadata": {
      "byteLimit": 2048000,
      "rowLimit": 10000
     },
     "inputWidgets": {},
     "nuid": "bdd718ae-5715-427a-8bfc-9db0641f1445",
     "showTitle": false,
     "tableResultSettingsMap": {},
     "title": ""
    }
   },
   "source": [
    "## Data Manipulation \n",
    "After we defined DataFrame let’s see how we can manipulate data in a DataFrame, in this section we \n",
    "will work with Employees Data from Chicago Open Data Portal"
   ]
  },
  {
   "cell_type": "code",
   "execution_count": 0,
   "metadata": {
    "application/vnd.databricks.v1+cell": {
     "cellMetadata": {
      "byteLimit": 2048000,
      "rowLimit": 10000
     },
     "inputWidgets": {},
     "nuid": "b0f0d239-30f0-494f-9531-85fd3105a543",
     "showTitle": false,
     "tableResultSettingsMap": {},
     "title": ""
    }
   },
   "outputs": [],
   "source": [
    "# defining the schema of the dataset\n",
    "schema = StructType([\n",
    "    StructField(\"NAME\",StringType(),True), \n",
    "    StructField(\"JOB_TITLE\",StringType(),True), \n",
    "    StructField(\"DEPARTMENET\",StringType(),True), \n",
    "    StructField(\"FULL_PART_TIME\",StringType(),True), \n",
    "    StructField(\"MONTHLY_HOURLY\",StringType(),True), \n",
    "    StructField(\"TYPICAL_HOURS\",IntegerType(),True), \n",
    "    StructField(\"ANNUAL_SALARY\",DoubleType(),True), \n",
    "    StructField(\"HOURLY_RATE\",DoubleType(),True) \n",
    "])"
   ]
  },
  {
   "cell_type": "code",
   "execution_count": 0,
   "metadata": {
    "application/vnd.databricks.v1+cell": {
     "cellMetadata": {
      "byteLimit": 2048000,
      "rowLimit": 10000
     },
     "inputWidgets": {},
     "nuid": "6b6142da-5fec-41e2-a6be-22afdbc5b09a",
     "showTitle": false,
     "tableResultSettingsMap": {},
     "title": ""
    }
   },
   "outputs": [],
   "source": [
    "emp_data = spark.read.csv(\"/Volumes/workspace/default/data/Employee_Data.csv\", header=True, schema=schema)\n"
   ]
  },
  {
   "cell_type": "markdown",
   "metadata": {
    "application/vnd.databricks.v1+cell": {
     "cellMetadata": {
      "byteLimit": 2048000,
      "rowLimit": 10000
     },
     "inputWidgets": {},
     "nuid": "58e69544-e708-4d1a-872f-fb22be71bc9a",
     "showTitle": false,
     "tableResultSettingsMap": {},
     "title": ""
    }
   },
   "source": [
    "### Discover DataFrame"
   ]
  },
  {
   "cell_type": "markdown",
   "metadata": {
    "application/vnd.databricks.v1+cell": {
     "cellMetadata": {
      "byteLimit": 2048000,
      "rowLimit": 10000
     },
     "inputWidgets": {},
     "nuid": "c1f004e2-28ce-4467-b655-81b89975f8b8",
     "showTitle": false,
     "tableResultSettingsMap": {},
     "title": ""
    }
   },
   "source": [
    "#### 1- SHOW method \n",
    "\n",
    "To display DataFrame data we need to use Show() method, we have different options in show method \n",
    "as following: \n",
    "\n",
    "- show(truncate:boolean) -> Truncate Boolean value to truncate any string \n",
    "values that over than 20 characters \n",
    "- show(number of rows) -> By default when we call show() method it will \n",
    "display only 20 records from the DataFrame, we \n",
    "can override that by specifying number of \n",
    "returned records \n"
   ]
  },
  {
   "cell_type": "markdown",
   "metadata": {
    "application/vnd.databricks.v1+cell": {
     "cellMetadata": {
      "byteLimit": 2048000,
      "rowLimit": 10000
     },
     "inputWidgets": {},
     "nuid": "935f4e03-5751-4ad6-bccf-78dd98cf5db4",
     "showTitle": false,
     "tableResultSettingsMap": {},
     "title": ""
    }
   },
   "source": [
    "#### 2- First & Head methods\n",
    "To return the first record of the DataFrame, use the method first() or head(), result will be of type Row \n"
   ]
  },
  {
   "cell_type": "code",
   "execution_count": 0,
   "metadata": {
    "application/vnd.databricks.v1+cell": {
     "cellMetadata": {
      "byteLimit": 2048000,
      "rowLimit": 10000
     },
     "inputWidgets": {},
     "nuid": "e8881fb9-20c6-4475-9770-f0b5925ae02f",
     "showTitle": false,
     "tableResultSettingsMap": {},
     "title": ""
    }
   },
   "outputs": [
    {
     "output_type": "execute_result",
     "data": {
      "text/plain": [
       "Row(NAME='AARON,  JEFFERY M', JOB_TITLE='SERGEANT', DEPARTMENET='POLICE', FULL_PART_TIME='F', MONTHLY_HOURLY='Salary', TYPICAL_HOURS=None, ANNUAL_SALARY=101442.0, HOURLY_RATE=None)"
      ]
     },
     "execution_count": 18,
     "metadata": {},
     "output_type": "execute_result"
    }
   ],
   "source": [
    "emp_data.head()"
   ]
  },
  {
   "cell_type": "code",
   "execution_count": 0,
   "metadata": {
    "application/vnd.databricks.v1+cell": {
     "cellMetadata": {
      "byteLimit": 2048000,
      "rowLimit": 10000
     },
     "inputWidgets": {},
     "nuid": "703b2598-8a85-4f38-8f4d-8fb8314a378a",
     "showTitle": false,
     "tableResultSettingsMap": {},
     "title": ""
    }
   },
   "outputs": [
    {
     "output_type": "execute_result",
     "data": {
      "text/plain": [
       "'AARON,  JEFFERY M'"
      ]
     },
     "execution_count": 19,
     "metadata": {},
     "output_type": "execute_result"
    }
   ],
   "source": [
    "# we can use indexing to acces data inside the row\n",
    "emp_data.head()[0]"
   ]
  },
  {
   "cell_type": "markdown",
   "metadata": {
    "application/vnd.databricks.v1+cell": {
     "cellMetadata": {
      "byteLimit": 2048000,
      "rowLimit": 10000
     },
     "inputWidgets": {},
     "nuid": "3e3f67ff-d37b-4b34-8f9a-4daf658d73c1",
     "showTitle": false,
     "tableResultSettingsMap": {},
     "title": ""
    }
   },
   "source": [
    "#### 3- Select columns\n",
    "In this example we need to SELECT data for Employee Name, Department, and Job Title, we can use \n",
    "select() method with column names mentioned explicitly as input to this method "
   ]
  },
  {
   "cell_type": "code",
   "execution_count": 0,
   "metadata": {
    "application/vnd.databricks.v1+cell": {
     "cellMetadata": {
      "byteLimit": 2048000,
      "rowLimit": 10000
     },
     "inputWidgets": {},
     "nuid": "89c780a7-fa8b-46ee-8d88-169658512a05",
     "showTitle": false,
     "tableResultSettingsMap": {},
     "title": ""
    }
   },
   "outputs": [
    {
     "output_type": "stream",
     "name": "stdout",
     "output_type": "stream",
     "text": [
      "+-------------------+----------------+--------------------------------------+\n|NAME               |DEPARTMENET     |JOB_TITLE                             |\n+-------------------+----------------+--------------------------------------+\n|AARON,  JEFFERY M  |POLICE          |SERGEANT                              |\n|AARON,  KARINA     |POLICE          |POLICE OFFICER (ASSIGNED AS DETECTIVE)|\n|AARON,  KIMBERLEI R|GENERAL SERVICES|CHIEF CONTRACT EXPEDITER              |\n|ABAD JR,  VICENTE M|WATER MGMNT     |CIVIL ENGINEER IV                     |\n|ABARCA,  EMMANUEL  |TRANSPORTN      |CONCRETE LABORER                      |\n+-------------------+----------------+--------------------------------------+\nonly showing top 5 rows\n"
     ]
    }
   ],
   "source": [
    "emp_data.select('NAME','DEPARTMENET','JOB_TITLE').show(5,False)"
   ]
  },
  {
   "cell_type": "code",
   "execution_count": 0,
   "metadata": {
    "application/vnd.databricks.v1+cell": {
     "cellMetadata": {
      "byteLimit": 2048000,
      "rowLimit": 10000
     },
     "inputWidgets": {},
     "nuid": "dd3c3b89-8dc5-488a-a5a0-bd24ef2499ab",
     "showTitle": false,
     "tableResultSettingsMap": {},
     "title": ""
    }
   },
   "outputs": [
    {
     "output_type": "stream",
     "name": "stdout",
     "output_type": "stream",
     "text": [
      "+-------------------+----------------+--------------------------------------+\n|NAME               |DEPARTMENET     |JOB_TITLE                             |\n+-------------------+----------------+--------------------------------------+\n|AARON,  JEFFERY M  |POLICE          |SERGEANT                              |\n|AARON,  KARINA     |POLICE          |POLICE OFFICER (ASSIGNED AS DETECTIVE)|\n|AARON,  KIMBERLEI R|GENERAL SERVICES|CHIEF CONTRACT EXPEDITER              |\n|ABAD JR,  VICENTE M|WATER MGMNT     |CIVIL ENGINEER IV                     |\n|ABARCA,  EMMANUEL  |TRANSPORTN      |CONCRETE LABORER                      |\n+-------------------+----------------+--------------------------------------+\nonly showing top 5 rows\n"
     ]
    }
   ],
   "source": [
    "# we can select column names with col function\n",
    "from pyspark.sql.functions import *\n",
    "emp_data.select(col('NAME'),col('DEPARTMENET'),col('JOB_TITLE')).show(5,False)"
   ]
  },
  {
   "cell_type": "code",
   "execution_count": 0,
   "metadata": {
    "application/vnd.databricks.v1+cell": {
     "cellMetadata": {
      "byteLimit": 2048000,
      "rowLimit": 10000
     },
     "inputWidgets": {},
     "nuid": "f226bc5b-817a-4418-9d35-160d44ce2087",
     "showTitle": false,
     "tableResultSettingsMap": {},
     "title": ""
    }
   },
   "outputs": [
    {
     "output_type": "stream",
     "name": "stdout",
     "output_type": "stream",
     "text": [
      "+-------------------+----------------+--------------------------------------+\n|Full_Name          |Dept            |JOB_TITLE                             |\n+-------------------+----------------+--------------------------------------+\n|AARON,  JEFFERY M  |POLICE          |SERGEANT                              |\n|AARON,  KARINA     |POLICE          |POLICE OFFICER (ASSIGNED AS DETECTIVE)|\n|AARON,  KIMBERLEI R|GENERAL SERVICES|CHIEF CONTRACT EXPEDITER              |\n|ABAD JR,  VICENTE M|WATER MGMNT     |CIVIL ENGINEER IV                     |\n|ABARCA,  EMMANUEL  |TRANSPORTN      |CONCRETE LABORER                      |\n+-------------------+----------------+--------------------------------------+\nonly showing top 5 rows\n"
     ]
    }
   ],
   "source": [
    "# selectExpr() similar to SQL\n",
    "emp_data.selectExpr('NAME as Full_Name','DEPARTMENET as Dept','JOB_TITLE').show(5,False)"
   ]
  },
  {
   "cell_type": "markdown",
   "metadata": {
    "application/vnd.databricks.v1+cell": {
     "cellMetadata": {
      "byteLimit": 2048000,
      "rowLimit": 10000
     },
     "inputWidgets": {},
     "nuid": "4d0e0111-fc3c-493a-9dc9-088240e644f4",
     "showTitle": false,
     "tableResultSettingsMap": {},
     "title": ""
    }
   },
   "source": [
    "#### Exercise\n",
    "\n",
    "write application to generate report with the following:\n",
    "  - Employee name\n",
    "  - monthly salary (annual over 30 days)\n",
    "  - hourly Salary (hourly rate * tybical hours)"
   ]
  },
  {
   "cell_type": "code",
   "execution_count": 0,
   "metadata": {
    "application/vnd.databricks.v1+cell": {
     "cellMetadata": {
      "byteLimit": 2048000,
      "rowLimit": 10000
     },
     "inputWidgets": {},
     "nuid": "616c68c1-61a1-4e42-94f0-40ab84a29fa8",
     "showTitle": false,
     "tableResultSettingsMap": {},
     "title": ""
    }
   },
   "outputs": [
    {
     "output_type": "stream",
     "name": "stdout",
     "output_type": "stream",
     "text": [
      "root\n |-- NAME: string (nullable = true)\n |-- JOB_TITLE: string (nullable = true)\n |-- DEPARTMENET: string (nullable = true)\n |-- FULL_PART_TIME: string (nullable = true)\n |-- MONTHLY_HOURLY: string (nullable = true)\n |-- TYPICAL_HOURS: integer (nullable = true)\n |-- ANNUAL_SALARY: double (nullable = true)\n |-- HOURLY_RATE: double (nullable = true)\n\n"
     ]
    }
   ],
   "source": [
    "emp_data.printSchema()"
   ]
  },
  {
   "cell_type": "code",
   "execution_count": 0,
   "metadata": {
    "application/vnd.databricks.v1+cell": {
     "cellMetadata": {
      "byteLimit": 2048000,
      "rowLimit": 10000
     },
     "inputWidgets": {},
     "nuid": "a8af50d2-d847-4805-b09d-1081ad80f86c",
     "showTitle": false,
     "tableResultSettingsMap": {},
     "title": ""
    }
   },
   "outputs": [
    {
     "output_type": "stream",
     "name": "stdout",
     "output_type": "stream",
     "text": [
      "+---------------------+--------------+-------------+\n|Full_name            |Monthly_Salary|Hourly_Salary|\n+---------------------+--------------+-------------+\n|AARON,  JEFFERY M    |3381.4        |NULL         |\n|AARON,  KARINA       |3137.4        |NULL         |\n|AARON,  KIMBERLEI R  |3700.8        |NULL         |\n|ABAD JR,  VICENTE M  |3826.0        |NULL         |\n|ABARCA,  EMMANUEL    |NULL          |1748.8       |\n|ABARCA,  FRANCES J   |1602.6        |NULL         |\n|ABASCAL,  REECE E    |NULL          |397.2        |\n|ABBATACOLA,  ROBERT J|NULL          |1974.0       |\n|ABBATEMARCO,  JAMES J|3445.0        |NULL         |\n|ABBATE,  TERRY M     |3111.8        |NULL         |\n+---------------------+--------------+-------------+\nonly showing top 10 rows\n"
     ]
    }
   ],
   "source": [
    "emp_data.selectExpr(\"NAME as Full_name\",\"ANNUAL_SALARY / 30.0 as Monthly_Salary\",\"HOURLY_RATE * TYPICAL_HOURS as Hourly_Salary\").show(10,False)"
   ]
  },
  {
   "cell_type": "markdown",
   "metadata": {
    "application/vnd.databricks.v1+cell": {
     "cellMetadata": {
      "byteLimit": 2048000,
      "rowLimit": 10000
     },
     "inputWidgets": {},
     "nuid": "bfac7f9c-f8ed-481d-b209-cb1c1c5f9a54",
     "showTitle": false,
     "tableResultSettingsMap": {},
     "title": ""
    }
   },
   "source": [
    "#### Sort DataFrame"
   ]
  },
  {
   "cell_type": "code",
   "execution_count": 0,
   "metadata": {
    "application/vnd.databricks.v1+cell": {
     "cellMetadata": {
      "byteLimit": 2048000,
      "rowLimit": 10000
     },
     "inputWidgets": {},
     "nuid": "ae004ef1-e0e5-4467-962d-419e48450068",
     "showTitle": false,
     "tableResultSettingsMap": {},
     "title": ""
    }
   },
   "outputs": [
    {
     "output_type": "stream",
     "name": "stdout",
     "output_type": "stream",
     "text": [
      "+----------------------+--------------+-------------+\n|NAME                  |DEPARTMENET   |ANNUAL_SALARY|\n+----------------------+--------------+-------------+\n|RHEE,  JAMIE L        |AVIATION      |275004.0     |\n|JOHNSON,  EDDIE T     |POLICE        |260004.0     |\n|LIGHTFOOT,  LORI E    |MAYOR'S OFFICE|216210.0     |\n|FORD II,  RICHARD C   |FIRE          |202728.0     |\n|NANCE HOLT,  ANNETTE M|FIRE          |197736.0     |\n|RICCIO,  ANTHONY J    |POLICE        |197724.0     |\n|CLASSEN,  MAURICE A   |MAYOR'S OFFICE|195000.0     |\n|BRODERSEN,  ERNEST F  |FIRE          |187680.0     |\n|HELMOLD,  BRIAN       |FIRE          |187680.0     |\n|SAMPEY,  TIMOTHY T    |FIRE          |187680.0     |\n+----------------------+--------------+-------------+\nonly showing top 10 rows\n"
     ]
    }
   ],
   "source": [
    "emp_data.select(col(\"NAME\"),col(\"DEPARTMENET\"),col(\"ANNUAL_SALARY\")).sort(\"ANNUAL_SALARY\",ascending=False).show(10,False)"
   ]
  },
  {
   "cell_type": "code",
   "execution_count": 0,
   "metadata": {
    "application/vnd.databricks.v1+cell": {
     "cellMetadata": {
      "byteLimit": 2048000,
      "rowLimit": 10000
     },
     "inputWidgets": {},
     "nuid": "3b06f2cf-66b0-4b21-b862-a5ba2f94f454",
     "showTitle": false,
     "tableResultSettingsMap": {},
     "title": ""
    }
   },
   "outputs": [
    {
     "output_type": "stream",
     "name": "stdout",
     "output_type": "stream",
     "text": [
      "+----------------------+--------------+-------------+\n|NAME                  |DEPARTMENET   |ANNUAL_SALARY|\n+----------------------+--------------+-------------+\n|RHEE,  JAMIE L        |AVIATION      |275004.0     |\n|JOHNSON,  EDDIE T     |POLICE        |260004.0     |\n|LIGHTFOOT,  LORI E    |MAYOR'S OFFICE|216210.0     |\n|FORD II,  RICHARD C   |FIRE          |202728.0     |\n|NANCE HOLT,  ANNETTE M|FIRE          |197736.0     |\n|RICCIO,  ANTHONY J    |POLICE        |197724.0     |\n|CLASSEN,  MAURICE A   |MAYOR'S OFFICE|195000.0     |\n|BRODERSEN,  ERNEST F  |FIRE          |187680.0     |\n|HELMOLD,  BRIAN       |FIRE          |187680.0     |\n|SAMPEY,  TIMOTHY T    |FIRE          |187680.0     |\n+----------------------+--------------+-------------+\nonly showing top 10 rows\n"
     ]
    }
   ],
   "source": [
    "# or we can use orderBy() function\n",
    "emp_data.select(col(\"NAME\"),col(\"DEPARTMENET\"),col(\"ANNUAL_SALARY\")).orderBy(col(\"ANNUAL_SALARY\").desc()).show(10,False)"
   ]
  },
  {
   "cell_type": "markdown",
   "metadata": {
    "application/vnd.databricks.v1+cell": {
     "cellMetadata": {
      "byteLimit": 2048000,
      "rowLimit": 10000
     },
     "inputWidgets": {},
     "nuid": "1d5dfb89-8338-4cca-a90b-e1cffd3d9867",
     "showTitle": false,
     "tableResultSettingsMap": {},
     "title": ""
    }
   },
   "source": [
    "#### Distinct Records\n",
    "To get distinct records out of a DataFrame to check duplications, or to get a distinct values of a column \n",
    "you can use distinct() function"
   ]
  },
  {
   "cell_type": "code",
   "execution_count": 0,
   "metadata": {
    "application/vnd.databricks.v1+cell": {
     "cellMetadata": {
      "byteLimit": 2048000,
      "rowLimit": 10000
     },
     "inputWidgets": {},
     "nuid": "439b1557-d6d2-42fa-aac8-829c4e0e3ae7",
     "showTitle": false,
     "tableResultSettingsMap": {},
     "title": ""
    }
   },
   "outputs": [
    {
     "output_type": "stream",
     "name": "stdout",
     "output_type": "stream",
     "text": [
      "+--------------------------------------+\n|JOB_TITLE                             |\n+--------------------------------------+\n|FRM OF LABORER-CONCRETE               |\n|POLICE OFFICER (PER ARBITRATION AWARD)|\n|STORES LABORER                        |\n|FIRE ENGINEER-PARAMEDIC               |\n|COORD OF STREET PERMITS               |\n|MANAGER OF ADMINSTRATIVE ADJUDICATION |\n|ASST MANAGER - BD OF ELECTIONS        |\n|POLICE LEGAL OFFICER I                |\n|PERSONNEL ASSISTANT                   |\n|ASST DIR OF NEWS AFFAIRS              |\n|PROCUREMENT SPECIALIST                |\n|PROJECT COORD                         |\n|WATER RATE TAKER                      |\n|LABOR RELATIONS SUPVSR                |\n|CIVIL ENGINEER IV                     |\n|NULL                                  |\n|SUPERINTENDENT'S CHIEF OF STAFF       |\n|SANITATION LABORER                    |\n|FILTRATION ENGINEER IV                |\n|FINGERPRINT TECHNICIAN II             |\n+--------------------------------------+\nonly showing top 20 rows\n"
     ]
    }
   ],
   "source": [
    "emp_data.select(col(\"JOB_TITLE\")).distinct().show(truncate=False)"
   ]
  },
  {
   "cell_type": "code",
   "execution_count": 0,
   "metadata": {
    "application/vnd.databricks.v1+cell": {
     "cellMetadata": {
      "byteLimit": 2048000,
      "rowLimit": 10000
     },
     "inputWidgets": {},
     "nuid": "775f4bd3-3513-4257-babe-99370b5ddf91",
     "showTitle": false,
     "tableResultSettingsMap": {},
     "title": ""
    }
   },
   "outputs": [
    {
     "output_type": "stream",
     "name": "stdout",
     "output_type": "stream",
     "text": [
      "+-----------------------------------------------------------------------------------------------------------------------------------------------------------------------------------------------------------------------------------------------------------------------------------------------------------------------------------------------------------------------------------------------------------------------------------------------------------------------------------------------------------------------------------------------------------------------------------------------------------------------------------------------------------------------------------------------------------------------------------------------------------------------------------------------------------------------------------------------------------------------------------------------------------------------------------------------------------------------------------------------------------------------------------------------------------------------------------------------------------------------------------------------------------------------------------------------------------------------------------------------------------------------------------------------------------------------------------------------------------------------------------------------------------------------------------------------------------------------------------------------------------------------------------------------------------------------------------------------------------------------------------------------------------------------------------------------------------------------------------------------------------------------------------------------------------------------------------------------------------------------------------------------------------------------------------------------------------------------------------------------------------------------------------------------------------------------------------------------------------------+\n|JOB_TITLE_freqItems                                                                                                                                                                                                                                                                                                                                                                                                                                                                                                                                                                                                                                                                                                                                                                                                                                                                                                                                                                                                                                                                                                                                                                                                                                                                                                                                                                                                                                                                                                                                                                                                                                                                                                                                                                                                                                                                                                                                                                                                                                                                                              |\n+-----------------------------------------------------------------------------------------------------------------------------------------------------------------------------------------------------------------------------------------------------------------------------------------------------------------------------------------------------------------------------------------------------------------------------------------------------------------------------------------------------------------------------------------------------------------------------------------------------------------------------------------------------------------------------------------------------------------------------------------------------------------------------------------------------------------------------------------------------------------------------------------------------------------------------------------------------------------------------------------------------------------------------------------------------------------------------------------------------------------------------------------------------------------------------------------------------------------------------------------------------------------------------------------------------------------------------------------------------------------------------------------------------------------------------------------------------------------------------------------------------------------------------------------------------------------------------------------------------------------------------------------------------------------------------------------------------------------------------------------------------------------------------------------------------------------------------------------------------------------------------------------------------------------------------------------------------------------------------------------------------------------------------------------------------------------------------------------------------------------+\n|[EXEC ADMINISTRATIVE ASST II, FIREFIGHTER-EMT (RECRUIT), LIBRARIAN I, PARAMEDIC I/C, FIRE ENGINEER-EMT, STAFF ASST, PARAMEDIC FIELD CHIEF, PLUMBER, FIRST DEPUTY COMMISSIONER, AIRPORT MAINTENANCE FOREMAN, FIREFIGHTER-EMT, SANITATION LABORER, PROJECTS ADMINISTRATOR, SENIOR PUBLIC INFORMATION OFFICER, ASST CORPORATION COUNSEL SUPVSR, FIREFIGHTER/PARAMEDIC, LIBRARY CLERK, DETENTION AIDE, FOSTER GRANDPARENT, LIBRARIAN II, SEWER BRICKLAYER, OPERATING ENGINEER-GROUP A, LIBRARIAN IV, CROSSING GUARD, PROJECT COORD, REFUSE COLLECTION COORD, POLICE COMMUNICATIONS OPERATOR II, AIRPORT OPERATIONS SUPVSR I, FIRE ENGINEER, FLEET SERVICES ASST, HOISTING ENGINEER, POLICE OFFICER (ASSIGNED AS EVIDENCE TECHNICIAN), CRIMINAL INTELLIGENCE ANALYST, SENIOR DATA ENTRY OPERATOR, LIBRARY ASSOCIATE - HOURLY, STAFF ASST TO THE ALDERMAN, LIBRARY PAGE, BATTALION CHIEF - EMT, CONCRETE LABORER, ADMINISTRATIVE ASST II, MACHINIST (AUTOMOTIVE), AVIATION COMMUNICATIONS OPERATOR, SENIOR COMPANION, POLICE OFFICER, ELECTRICAL MECHANIC, OPERATING ENGINEER-GROUP C, GENERAL LABORER - DSS, ADMINISTRATIVE ASST, ASST CORPORATION COUNSEL II, PUBLIC HEALTH NUTRITIONIST II, POLICE COMMUNICATIONS OPERATOR I, POLICE ADMINISTRATIVE CLERK, TRAFFIC CONTROL AIDE-HOURLY, POLICE OFFICER / FLD TRNG OFFICER, SERGEANT, CAPTAIN-EMT, AVIATION SECURITY OFFICER, LAW CLERK, FIREFIGHTER, ASST CHIEF OPERATING ENGINEER, PARKING ENFORCEMENT AIDE, CONSTRUCTION LABORER, BRIDGE AND STRUCTURAL IRON WORKER, LIEUTENANT-EMT, MOTOR TRUCK DRIVER, PROJECT MANAGER, POLICE OFFICER (ASSIGNED AS DETECTIVE), FRM OF MACHINISTS - AUTOMOTIVE, HOISTING ENGINEER - MECHANIC, LEGAL SECRETARY, LIBRARIAN III, ASST CORPORATION COUNSEL III, LIEUTENANT, SR PROCUREMENT SPECIALIST, CHIEF DATA BASE ANALYST, HEAD LIBRARY CLERK, LABORER, CROSSING GUARD - PER CBA, DISPATCHER - ASPHALT, FIRE COMMUNICATIONS OPERATOR I, PARAMEDIC, MECHANICAL ENGINEER IV, POOL MOTOR TRUCK DRIVER, COMMANDER, FOREMAN OF MOTOR TRUCK DRIVERS, ELECTRICAL MECHANIC (AUTOMOTIVE), FIREFIGHTER (PER ARBITRATORS AWARD)-PARAMEDIC]|\n+-----------------------------------------------------------------------------------------------------------------------------------------------------------------------------------------------------------------------------------------------------------------------------------------------------------------------------------------------------------------------------------------------------------------------------------------------------------------------------------------------------------------------------------------------------------------------------------------------------------------------------------------------------------------------------------------------------------------------------------------------------------------------------------------------------------------------------------------------------------------------------------------------------------------------------------------------------------------------------------------------------------------------------------------------------------------------------------------------------------------------------------------------------------------------------------------------------------------------------------------------------------------------------------------------------------------------------------------------------------------------------------------------------------------------------------------------------------------------------------------------------------------------------------------------------------------------------------------------------------------------------------------------------------------------------------------------------------------------------------------------------------------------------------------------------------------------------------------------------------------------------------------------------------------------------------------------------------------------------------------------------------------------------------------------------------------------------------------------------------------+\n\n"
     ]
    }
   ],
   "source": [
    "# or we can use freqItems() function\n",
    "emp_data.freqItems(['JOB_TITLE']).show(truncate=False)"
   ]
  },
  {
   "cell_type": "markdown",
   "metadata": {
    "application/vnd.databricks.v1+cell": {
     "cellMetadata": {
      "byteLimit": 2048000,
      "rowLimit": 10000
     },
     "inputWidgets": {},
     "nuid": "770d91c9-4cc9-487f-875a-c691b904fba8",
     "showTitle": false,
     "tableResultSettingsMap": {},
     "title": ""
    }
   },
   "source": [
    "#### Filter Records\n",
    "In some cases, we need to filter data based on a certain logic either to reduce number of records or to \n",
    "get specific records of interest. To filter a DataFrame based on a condition or a set of conditions we \n",
    "need to use filter()"
   ]
  },
  {
   "cell_type": "code",
   "execution_count": 0,
   "metadata": {
    "application/vnd.databricks.v1+cell": {
     "cellMetadata": {
      "byteLimit": 2048000,
      "rowLimit": 10000
     },
     "inputWidgets": {},
     "nuid": "7a94744e-223d-47ac-9895-03e0bfb6fd62",
     "showTitle": false,
     "tableResultSettingsMap": {},
     "title": ""
    }
   },
   "outputs": [
    {
     "output_type": "stream",
     "name": "stdout",
     "output_type": "stream",
     "text": [
      "+---------------------------+-----------------------------------------------+-----------+--------------+--------------+-------------+-------------+-----------+\n|NAME                       |JOB_TITLE                                      |DEPARTMENET|FULL_PART_TIME|MONTHLY_HOURLY|TYPICAL_HOURS|ANNUAL_SALARY|HOURLY_RATE|\n+---------------------------+-----------------------------------------------+-----------+--------------+--------------+-------------+-------------+-----------+\n|ABREU,  ROSITA             |PERSONAL COMPUTER OPERATOR III                 |HEALTH     |F             |Salary        |NULL         |73104.0      |NULL       |\n|ABUBAKER,  MOHAMMED G      |SENIOR ENVIRONMENTAL INSPECTOR                 |HEALTH     |F             |Salary        |NULL         |88044.0      |NULL       |\n|ACEVEDO,  DAILHA           |COMMUNICABLE DISEASE CONTROL INVESTIGATOR II   |HEALTH     |F             |Salary        |NULL         |76584.0      |NULL       |\n|ADAMS THOMAS,  CHEEAREASE R|PUBLIC HEALTH ADMINISTRATOR I                  |HEALTH     |F             |Salary        |NULL         |84024.0      |NULL       |\n|ADEKA,  IBILOLA I          |SUPERVISING DISEASE CONTROL INVESTIGATOR - EXCL|HEALTH     |F             |Salary        |NULL         |79812.0      |NULL       |\n|ADESANYA,  EMMANUEL S      |ENVIRONMENTAL ENGINEER III                     |HEALTH     |F             |Salary        |NULL         |114780.0     |NULL       |\n|ADEYEMO,  MOJIROLA M       |PUBLIC HEALTH ADMINISTRATOR I                  |HEALTH     |F             |Salary        |NULL         |80232.0      |NULL       |\n|AIKENS,  CLORA M           |PUBLIC HEALTH NURSE IV                         |HEALTH     |F             |Salary        |NULL         |114948.0     |NULL       |\n|AKOMAA,  MERCY             |PUBLIC HEALTH NUTRITIONIST I                   |HEALTH     |F             |Salary        |NULL         |42528.0      |NULL       |\n|ALAKA,  KADIJAT T          |CLINICAL THERAPIST III                         |HEALTH     |F             |Salary        |NULL         |69444.0      |NULL       |\n|ALANZO,  SHARON            |PUBLIC HEALTH NURSE I                          |HEALTH     |F             |Salary        |NULL         |101244.0     |NULL       |\n|ALBARILLO,  VERBENA S      |PUBLIC HEALTH NUTRITIONIST III                 |HEALTH     |F             |Salary        |NULL         |72840.0      |NULL       |\n|ALCAZAR,  GUADALUPE R      |PUBLIC HEALTH NURSE II                         |HEALTH     |F             |Salary        |NULL         |106344.0     |NULL       |\n|ALICEA,  VILMA R           |COMMUNICABLE DISEASE CONTROL INVESTIGATOR II   |HEALTH     |F             |Salary        |NULL         |76584.0      |NULL       |\n|ALMAZAN IZAGUIRRE,  CECILIA|PUBLIC HEALTH ADMINISTRATOR III                |HEALTH     |F             |Salary        |NULL         |105948.0     |NULL       |\n|ALVARADO,  LISA M          |SANITARIAN II                                  |HEALTH     |F             |Salary        |NULL         |60132.0      |NULL       |\n|AMADI,  RITA N             |PUBLIC HEALTH ADMINISTRATOR II                 |HEALTH     |F             |Salary        |NULL         |92136.0      |NULL       |\n|AMPADU,  DORIS C           |CLERK III                                      |HEALTH     |F             |Salary        |NULL         |60744.0      |NULL       |\n|ANDERSON,  HANNAH L        |PUBLIC HEALTH ADMINISTRATOR III                |HEALTH     |F             |Salary        |NULL         |96564.0      |NULL       |\n|ANDERSON,  TEFFANY         |PUBLIC HEALTH ADMINISTRATOR III                |HEALTH     |F             |Salary        |NULL         |83172.0      |NULL       |\n+---------------------------+-----------------------------------------------+-----------+--------------+--------------+-------------+-------------+-----------+\nonly showing top 20 rows\n"
     ]
    }
   ],
   "source": [
    "# filtering data to get health dept.\n",
    "emp_data.filter(col(\"DEPARTMENET\") == \"HEALTH\").show(truncate=False)"
   ]
  },
  {
   "cell_type": "code",
   "execution_count": 0,
   "metadata": {
    "application/vnd.databricks.v1+cell": {
     "cellMetadata": {
      "byteLimit": 2048000,
      "rowLimit": 10000
     },
     "inputWidgets": {},
     "nuid": "a5e4273a-b3aa-4cb7-abaf-230719e08182",
     "showTitle": false,
     "tableResultSettingsMap": {},
     "title": ""
    }
   },
   "outputs": [
    {
     "output_type": "stream",
     "name": "stdout",
     "output_type": "stream",
     "text": [
      "+---------------------------+-----------------------------------------------+-----------+--------------+--------------+-------------+-------------+-----------+\n|NAME                       |JOB_TITLE                                      |DEPARTMENET|FULL_PART_TIME|MONTHLY_HOURLY|TYPICAL_HOURS|ANNUAL_SALARY|HOURLY_RATE|\n+---------------------------+-----------------------------------------------+-----------+--------------+--------------+-------------+-------------+-----------+\n|ABREU,  ROSITA             |PERSONAL COMPUTER OPERATOR III                 |HEALTH     |F             |Salary        |NULL         |73104.0      |NULL       |\n|ABUBAKER,  MOHAMMED G      |SENIOR ENVIRONMENTAL INSPECTOR                 |HEALTH     |F             |Salary        |NULL         |88044.0      |NULL       |\n|ACEVEDO,  DAILHA           |COMMUNICABLE DISEASE CONTROL INVESTIGATOR II   |HEALTH     |F             |Salary        |NULL         |76584.0      |NULL       |\n|ADAMS THOMAS,  CHEEAREASE R|PUBLIC HEALTH ADMINISTRATOR I                  |HEALTH     |F             |Salary        |NULL         |84024.0      |NULL       |\n|ADEKA,  IBILOLA I          |SUPERVISING DISEASE CONTROL INVESTIGATOR - EXCL|HEALTH     |F             |Salary        |NULL         |79812.0      |NULL       |\n|ADESANYA,  EMMANUEL S      |ENVIRONMENTAL ENGINEER III                     |HEALTH     |F             |Salary        |NULL         |114780.0     |NULL       |\n|ADEYEMO,  MOJIROLA M       |PUBLIC HEALTH ADMINISTRATOR I                  |HEALTH     |F             |Salary        |NULL         |80232.0      |NULL       |\n|AIKENS,  CLORA M           |PUBLIC HEALTH NURSE IV                         |HEALTH     |F             |Salary        |NULL         |114948.0     |NULL       |\n|AKOMAA,  MERCY             |PUBLIC HEALTH NUTRITIONIST I                   |HEALTH     |F             |Salary        |NULL         |42528.0      |NULL       |\n|ALAKA,  KADIJAT T          |CLINICAL THERAPIST III                         |HEALTH     |F             |Salary        |NULL         |69444.0      |NULL       |\n|ALANZO,  SHARON            |PUBLIC HEALTH NURSE I                          |HEALTH     |F             |Salary        |NULL         |101244.0     |NULL       |\n|ALBARILLO,  VERBENA S      |PUBLIC HEALTH NUTRITIONIST III                 |HEALTH     |F             |Salary        |NULL         |72840.0      |NULL       |\n|ALCAZAR,  GUADALUPE R      |PUBLIC HEALTH NURSE II                         |HEALTH     |F             |Salary        |NULL         |106344.0     |NULL       |\n|ALICEA,  VILMA R           |COMMUNICABLE DISEASE CONTROL INVESTIGATOR II   |HEALTH     |F             |Salary        |NULL         |76584.0      |NULL       |\n|ALMAZAN IZAGUIRRE,  CECILIA|PUBLIC HEALTH ADMINISTRATOR III                |HEALTH     |F             |Salary        |NULL         |105948.0     |NULL       |\n|ALVARADO,  LISA M          |SANITARIAN II                                  |HEALTH     |F             |Salary        |NULL         |60132.0      |NULL       |\n|AMADI,  RITA N             |PUBLIC HEALTH ADMINISTRATOR II                 |HEALTH     |F             |Salary        |NULL         |92136.0      |NULL       |\n|AMPADU,  DORIS C           |CLERK III                                      |HEALTH     |F             |Salary        |NULL         |60744.0      |NULL       |\n|ANDERSON,  HANNAH L        |PUBLIC HEALTH ADMINISTRATOR III                |HEALTH     |F             |Salary        |NULL         |96564.0      |NULL       |\n|ANDERSON,  TEFFANY         |PUBLIC HEALTH ADMINISTRATOR III                |HEALTH     |F             |Salary        |NULL         |83172.0      |NULL       |\n+---------------------------+-----------------------------------------------+-----------+--------------+--------------+-------------+-------------+-----------+\nonly showing top 20 rows\n"
     ]
    }
   ],
   "source": [
    "# we can make more than one condition.\n",
    "# option 1\n",
    "emp_data.filter( (col('DEPARTMENET')==\"HEALTH\")  ).filter((col('MONTHLY_HOURLY')==\"Salary\")).show(truncate=False)"
   ]
  },
  {
   "cell_type": "code",
   "execution_count": 0,
   "metadata": {
    "application/vnd.databricks.v1+cell": {
     "cellMetadata": {
      "byteLimit": 2048000,
      "rowLimit": 10000
     },
     "inputWidgets": {},
     "nuid": "a3b86a8c-58a8-4fe2-a658-6785002231b8",
     "showTitle": false,
     "tableResultSettingsMap": {},
     "title": ""
    }
   },
   "outputs": [
    {
     "output_type": "stream",
     "name": "stdout",
     "output_type": "stream",
     "text": [
      "+---------------------------+-----------------------------------------------+-----------+--------------+--------------+-------------+-------------+-----------+\n|NAME                       |JOB_TITLE                                      |DEPARTMENET|FULL_PART_TIME|MONTHLY_HOURLY|TYPICAL_HOURS|ANNUAL_SALARY|HOURLY_RATE|\n+---------------------------+-----------------------------------------------+-----------+--------------+--------------+-------------+-------------+-----------+\n|ABREU,  ROSITA             |PERSONAL COMPUTER OPERATOR III                 |HEALTH     |F             |Salary        |NULL         |73104.0      |NULL       |\n|ABUBAKER,  MOHAMMED G      |SENIOR ENVIRONMENTAL INSPECTOR                 |HEALTH     |F             |Salary        |NULL         |88044.0      |NULL       |\n|ACEVEDO,  DAILHA           |COMMUNICABLE DISEASE CONTROL INVESTIGATOR II   |HEALTH     |F             |Salary        |NULL         |76584.0      |NULL       |\n|ADAMS THOMAS,  CHEEAREASE R|PUBLIC HEALTH ADMINISTRATOR I                  |HEALTH     |F             |Salary        |NULL         |84024.0      |NULL       |\n|ADEKA,  IBILOLA I          |SUPERVISING DISEASE CONTROL INVESTIGATOR - EXCL|HEALTH     |F             |Salary        |NULL         |79812.0      |NULL       |\n|ADESANYA,  EMMANUEL S      |ENVIRONMENTAL ENGINEER III                     |HEALTH     |F             |Salary        |NULL         |114780.0     |NULL       |\n|ADEYEMO,  MOJIROLA M       |PUBLIC HEALTH ADMINISTRATOR I                  |HEALTH     |F             |Salary        |NULL         |80232.0      |NULL       |\n|AIKENS,  CLORA M           |PUBLIC HEALTH NURSE IV                         |HEALTH     |F             |Salary        |NULL         |114948.0     |NULL       |\n|AKOMAA,  MERCY             |PUBLIC HEALTH NUTRITIONIST I                   |HEALTH     |F             |Salary        |NULL         |42528.0      |NULL       |\n|ALAKA,  KADIJAT T          |CLINICAL THERAPIST III                         |HEALTH     |F             |Salary        |NULL         |69444.0      |NULL       |\n|ALANZO,  SHARON            |PUBLIC HEALTH NURSE I                          |HEALTH     |F             |Salary        |NULL         |101244.0     |NULL       |\n|ALBARILLO,  VERBENA S      |PUBLIC HEALTH NUTRITIONIST III                 |HEALTH     |F             |Salary        |NULL         |72840.0      |NULL       |\n|ALCAZAR,  GUADALUPE R      |PUBLIC HEALTH NURSE II                         |HEALTH     |F             |Salary        |NULL         |106344.0     |NULL       |\n|ALICEA,  VILMA R           |COMMUNICABLE DISEASE CONTROL INVESTIGATOR II   |HEALTH     |F             |Salary        |NULL         |76584.0      |NULL       |\n|ALMAZAN IZAGUIRRE,  CECILIA|PUBLIC HEALTH ADMINISTRATOR III                |HEALTH     |F             |Salary        |NULL         |105948.0     |NULL       |\n|ALVARADO,  LISA M          |SANITARIAN II                                  |HEALTH     |F             |Salary        |NULL         |60132.0      |NULL       |\n|AMADI,  RITA N             |PUBLIC HEALTH ADMINISTRATOR II                 |HEALTH     |F             |Salary        |NULL         |92136.0      |NULL       |\n|AMPADU,  DORIS C           |CLERK III                                      |HEALTH     |F             |Salary        |NULL         |60744.0      |NULL       |\n|ANDERSON,  HANNAH L        |PUBLIC HEALTH ADMINISTRATOR III                |HEALTH     |F             |Salary        |NULL         |96564.0      |NULL       |\n|ANDERSON,  TEFFANY         |PUBLIC HEALTH ADMINISTRATOR III                |HEALTH     |F             |Salary        |NULL         |83172.0      |NULL       |\n+---------------------------+-----------------------------------------------+-----------+--------------+--------------+-------------+-------------+-----------+\nonly showing top 20 rows\n"
     ]
    }
   ],
   "source": [
    "# option 2\n",
    "# we can expr() to make conditions like SQL\n",
    "emp_data.filter(expr(\"DEPARTMENET='HEALTH' AND MONTHLY_HOURLY='Salary'\")).show(truncate=False)"
   ]
  },
  {
   "cell_type": "markdown",
   "metadata": {
    "application/vnd.databricks.v1+cell": {
     "cellMetadata": {
      "byteLimit": 2048000,
      "rowLimit": 10000
     },
     "inputWidgets": {},
     "nuid": "b61f8f70-f55a-42e6-890a-af51e25be2e9",
     "showTitle": false,
     "tableResultSettingsMap": {},
     "title": ""
    }
   },
   "source": [
    "#### droping Duplicates\n",
    "In some cases, we need to drop out the duplicate records either because of business requirements in \n",
    "our application or in a purpose of testing DataFrame to check if we have duplicate records or not. \n",
    "We can execute dropDuplicates method on specific columns or across all columns in a DataFrame, let’s \n",
    "filter duplicated records on department name, and job title columns so we can demonstrate \n",
    "dropDuplicates behavior, lets select data from two columns and examine duplication"
   ]
  },
  {
   "cell_type": "code",
   "execution_count": 0,
   "metadata": {
    "application/vnd.databricks.v1+cell": {
     "cellMetadata": {
      "byteLimit": 2048000,
      "rowLimit": 10000
     },
     "inputWidgets": {},
     "nuid": "5108ceac-7b88-402e-b931-58a1060ac0a3",
     "showTitle": false,
     "tableResultSettingsMap": {},
     "title": ""
    }
   },
   "outputs": [
    {
     "output_type": "stream",
     "name": "stdout",
     "output_type": "stream",
     "text": [
      "+----------------------------------+-----------+\n|JOB_TITLE                         |DEPARTMENET|\n+----------------------------------+-----------+\n|CONSTRUCTION LABORER              |WATER MGMNT|\n|OPERATING ENGINEER-GROUP A        |WATER MGMNT|\n|WATER CHEMIST II                  |WATER MGMNT|\n|STEAMFITTER                       |WATER MGMNT|\n|FOREMAN OF WATER PIPE CONSTRUCTION|WATER MGMNT|\n|CONSTRUCTION LABORER              |WATER MGMNT|\n|WATER RATE TAKER                  |WATER MGMNT|\n|OPERATING ENGINEER-GROUP A        |WATER MGMNT|\n|ASST CHIEF OPERATING ENGINEER     |WATER MGMNT|\n|EMERGENCY CREW DISPATCHER         |WATER MGMNT|\n|HOISTING ENGINEER                 |WATER MGMNT|\n|CONSTRUCTION LABORER              |WATER MGMNT|\n|HOISTING ENGINEER                 |WATER MGMNT|\n|MOTOR TRUCK DRIVER                |WATER MGMNT|\n|CIVIL ENGINEER IV                 |WATER MGMNT|\n|CIVIL ENGINEER IV                 |WATER MGMNT|\n|SEWER BRICKLAYER                  |WATER MGMNT|\n|MOTOR TRUCK DRIVER                |WATER MGMNT|\n|ENGINEERING TECHNICIAN VI         |WATER MGMNT|\n|OPERATING ENGINEER-GROUP C        |WATER MGMNT|\n|SEWER BRICKLAYER                  |WATER MGMNT|\n|HOISTING ENGINEER                 |WATER MGMNT|\n|ASST DISTRICT SUPERINTENDENT      |WATER MGMNT|\n|CONSTRUCTION LABORER              |WATER MGMNT|\n|WATER CHEMIST II                  |WATER MGMNT|\n|LABORER - APPRENTICE              |WATER MGMNT|\n|ELECTRICAL MECHANIC               |WATER MGMNT|\n|CIVIL ENGINEER II                 |WATER MGMNT|\n|OPERATING ENGINEER-GROUP A        |WATER MGMNT|\n|CONSTRUCTION LABORER              |WATER MGMNT|\n|CARPENTER                         |WATER MGMNT|\n|OPERATING ENGINEER-GROUP A        |WATER MGMNT|\n|CHIEF CONTRACT EXPEDITER          |WATER MGMNT|\n|CONSTRUCTION LABORER              |WATER MGMNT|\n|CONSTRUCTION LABORER              |WATER MGMNT|\n|DEPUTY COMMISSIONER               |WATER MGMNT|\n|LABORER - APPRENTICE              |WATER MGMNT|\n|FILTRATION ENGINEER V             |WATER MGMNT|\n|CONSTRUCTION LABORER              |WATER MGMNT|\n|FILTRATION ENGINEER V             |WATER MGMNT|\n|CONSTRUCTION LABORER              |WATER MGMNT|\n|CHIEF PROGRAMMER/ANALYST          |WATER MGMNT|\n|WATCHMAN                          |WATER MGMNT|\n|OPERATING ENGINEER-GROUP A        |WATER MGMNT|\n|WATER CHEMIST II                  |WATER MGMNT|\n|CONSTRUCTION LABORER              |WATER MGMNT|\n|CIVIL ENGINEER V                  |WATER MGMNT|\n|FILTRATION ENGINEER II            |WATER MGMNT|\n|CONSTRUCTION LABORER              |WATER MGMNT|\n|CONSTRUCTION LABORER              |WATER MGMNT|\n|OPERATING ENGINEER-GROUP A        |WATER MGMNT|\n|OPERATING ENGINEER-GROUP C        |WATER MGMNT|\n|ELECTRICAL MECHANIC               |WATER MGMNT|\n|FILTRATION ENGINEER II            |WATER MGMNT|\n|MOTOR TRUCK DRIVER                |WATER MGMNT|\n|CONSTRUCTION LABORER              |WATER MGMNT|\n|STATION LABORER                   |WATER MGMNT|\n|MOTOR TRUCK DRIVER                |WATER MGMNT|\n|STATIONARY FIREMAN                |WATER MGMNT|\n|MOTOR TRUCK DRIVER                |WATER MGMNT|\n|FILTRATION ENGINEER IV            |WATER MGMNT|\n|CONSTRUCTION LABORER              |WATER MGMNT|\n|MOTOR TRUCK DRIVER                |WATER MGMNT|\n|CONSTRUCTION LABORER              |WATER MGMNT|\n|CONSTRUCTION LABORER              |WATER MGMNT|\n|MOTOR TRUCK DRIVER                |WATER MGMNT|\n|MOTOR TRUCK DRIVER                |WATER MGMNT|\n|ASST DISTRICT SUPERINTENDENT      |WATER MGMNT|\n|POOL MOTOR TRUCK DRIVER           |WATER MGMNT|\n|PAINTER                           |WATER MGMNT|\n|CHIEF OPERATING ENGINEER          |WATER MGMNT|\n|FILTRATION ENGINEER II            |WATER MGMNT|\n|ASST TO THE COMMISSIONER          |WATER MGMNT|\n|WATER CHEMIST II                  |WATER MGMNT|\n|MASON INSPECTOR                   |WATER MGMNT|\n|WATER CHEMIST II                  |WATER MGMNT|\n|CONSTRUCTION LABORER              |WATER MGMNT|\n|PERSONAL COMPUTER OPERATOR II     |WATER MGMNT|\n|MOTOR TRUCK DRIVER                |WATER MGMNT|\n|FOREMAN OF PLUMBERS               |WATER MGMNT|\n|CONSTRUCTION LABORER              |WATER MGMNT|\n|ELECTRICAL MECHANIC               |WATER MGMNT|\n|ELECTRICAL MECHANIC               |WATER MGMNT|\n|HOISTING ENGINEER                 |WATER MGMNT|\n|HOUSE DRAIN INSPECTOR             |WATER MGMNT|\n|OPERATING ENGINEER-GROUP A        |WATER MGMNT|\n|WATER RATE TAKER                  |WATER MGMNT|\n|CIVIL ENGINEER III                |WATER MGMNT|\n|MOTOR TRUCK DRIVER                |WATER MGMNT|\n|EMERGENCY CREW DISPATCHER         |WATER MGMNT|\n|CONSTRUCTION LABORER              |WATER MGMNT|\n|MOTOR TRUCK DRIVER                |WATER MGMNT|\n|CONSTRUCTION LABORER              |WATER MGMNT|\n|FILTRATION ENGINEER II            |WATER MGMNT|\n|POOL MOTOR TRUCK DRIVER           |WATER MGMNT|\n|CONSTRUCTION LABORER              |WATER MGMNT|\n|ASST CHIEF OPERATING ENGINEER     |WATER MGMNT|\n|FOREMAN OF WATER PIPE CONSTRUCTION|WATER MGMNT|\n|CONSTRUCTION LABORER              |WATER MGMNT|\n|CONSTRUCTION LABORER              |WATER MGMNT|\n+----------------------------------+-----------+\nonly showing top 100 rows\n"
     ]
    }
   ],
   "source": [
    "emp_data.select('JOB_TITLE', 'DEPARTMENET').orderBy(col('DEPARTMENET'),ascending=False).show(100,False)"
   ]
  },
  {
   "cell_type": "code",
   "execution_count": 0,
   "metadata": {
    "application/vnd.databricks.v1+cell": {
     "cellMetadata": {
      "byteLimit": 2048000,
      "rowLimit": 10000
     },
     "inputWidgets": {},
     "nuid": "e87d5b4d-41af-4dff-a44d-41192b61ad39",
     "showTitle": false,
     "tableResultSettingsMap": {},
     "title": ""
    }
   },
   "outputs": [
    {
     "output_type": "stream",
     "name": "stdout",
     "output_type": "stream",
     "text": [
      "+--------------------------------------+-----------+\n|JOB_TITLE                             |DEPARTMENET|\n+--------------------------------------+-----------+\n|WATER CHEMIST III                     |WATER MGMNT|\n|POOL MOTOR TRUCK DRIVER               |WATER MGMNT|\n|PAINTER                               |WATER MGMNT|\n|PLUMBING INSPECTOR                    |WATER MGMNT|\n|HOUSE DRAIN INSPECTOR                 |WATER MGMNT|\n|MANAGING DEPUTY COMMISSIONER          |WATER MGMNT|\n|SUPERVISING CLERK                     |WATER MGMNT|\n|HEAD STOREKEEPER                      |WATER MGMNT|\n|MASON INSPECTOR                       |WATER MGMNT|\n|FOREMAN OF PLUMBERS                   |WATER MGMNT|\n|CHIEF CONTRACT EXPEDITER              |WATER MGMNT|\n|MICROBIOLOGIST III                    |WATER MGMNT|\n|FOREMAN OF WATER PIPE CONSTRUCTION    |WATER MGMNT|\n|SEWER BRICKLAYER                      |WATER MGMNT|\n|DEPUTY COMMISSIONER                   |WATER MGMNT|\n|SUPERINTENDENT OF WATER METERS        |WATER MGMNT|\n|EXEC ADMINISTRATIVE ASST I            |WATER MGMNT|\n|WATER METER MACHINIST                 |WATER MGMNT|\n|MICROBIOLOGIST IV                     |WATER MGMNT|\n|WATER CHEMIST II                      |WATER MGMNT|\n|MOTOR TRUCK DRIVER                    |WATER MGMNT|\n|DISTRICT CLERK                        |WATER MGMNT|\n|PLUMBER                               |WATER MGMNT|\n|CAULKER                               |WATER MGMNT|\n|ACCOUNTING TECHNICIAN III             |WATER MGMNT|\n|ADMIN SERVICES OFFICER I-EXCLUDED     |WATER MGMNT|\n|OPERATING ENGINEER-GROUP C            |WATER MGMNT|\n|MICROBIOLOGIST II                     |WATER MGMNT|\n|CLERK IV                              |WATER MGMNT|\n|DATA ENTRY OPERATOR                   |WATER MGMNT|\n|ELECTRICAL MECHANIC                   |WATER MGMNT|\n|SANITARY ENGINEER II                  |WATER MGMNT|\n|CONSTRUCTION LABORER (SUB-FOREMAN)    |WATER MGMNT|\n|PROJECT COORD                         |WATER MGMNT|\n|CEMENT FINISHER                       |WATER MGMNT|\n|FOREMAN OF SEWER CLEANING             |WATER MGMNT|\n|STEAMFITTER                           |WATER MGMNT|\n|WATER RATE TAKER                      |WATER MGMNT|\n|FILTRATION ENGINEER IV                |WATER MGMNT|\n|CHIEF PROGRAMMER/ANALYST              |WATER MGMNT|\n|FOREMAN OF SEWER BRICKLAYERS          |WATER MGMNT|\n|CONSTRUCTION LABORER                  |WATER MGMNT|\n|PLUMBING INSPECTOR I/C                |WATER MGMNT|\n|PROJECTS ADMINISTRATOR                |WATER MGMNT|\n|ADMINISTRATIVE ASST II                |WATER MGMNT|\n|ADMINISTRATIVE ASST III               |WATER MGMNT|\n|FOREMAN OF CONSTRUCTION LABORERS      |WATER MGMNT|\n|CONTRACTS ADMINISTRATOR               |WATER MGMNT|\n|MACHINIST                             |WATER MGMNT|\n|FOREMAN OF PIPE / SALVAGE YARDS       |WATER MGMNT|\n|COMMISSIONER OF WATER MGMT            |WATER MGMNT|\n|SANITARY ENGINEER III                 |WATER MGMNT|\n|ASST CHIEF DISPATCHER                 |WATER MGMNT|\n|WATCHMAN                              |WATER MGMNT|\n|SENIOR DATA ENTRY OPERATOR            |WATER MGMNT|\n|WATER METER ASSESSOR                  |WATER MGMNT|\n|OPERATING ENGINEER-GROUP A            |WATER MGMNT|\n|LABORER - APPRENTICE                  |WATER MGMNT|\n|STATIONARY FIREMAN                    |WATER MGMNT|\n|COORD OF SECURITY SERVICES            |WATER MGMNT|\n|STATION LABORER                       |WATER MGMNT|\n|INFORMATION COORD                     |WATER MGMNT|\n|ASST COMMISSIONER                     |WATER MGMNT|\n|FILTRATION ENGINEER II                |WATER MGMNT|\n|CIVIL ENGINEER III                    |WATER MGMNT|\n|ASST DISTRICT SUPERINTENDENT          |WATER MGMNT|\n|PIPE LOCATING MACHINE OPERATOR        |WATER MGMNT|\n|GEN SUPT OF WATER MANAGEMENT          |WATER MGMNT|\n|PERSONAL COMPUTER OPERATOR II         |WATER MGMNT|\n|MANAGER OF AUDIT AND INTERNAL CONTROLS|WATER MGMNT|\n|WATER CHEMIST IV                      |WATER MGMNT|\n|DIRECTOR OF LEGAL SERVICES            |WATER MGMNT|\n|ENGINEERING TECHNICIAN V              |WATER MGMNT|\n|CIVIL ENGINEER II                     |WATER MGMNT|\n|HOISTING ENGINEER                     |WATER MGMNT|\n|MARINE ENGINEER                       |WATER MGMNT|\n|EMERGENCY CREW DISPATCHER             |WATER MGMNT|\n|COORDINATING ENGINEER I               |WATER MGMNT|\n|LABORATORY TECHNICIAN III             |WATER MGMNT|\n|FIRST DEPUTY COMMISSIONER             |WATER MGMNT|\n|CHIEF OPERATING ENGINEER              |WATER MGMNT|\n|CIVIL ENGINEER IV                     |WATER MGMNT|\n|CUSTODIAL WORKER                      |WATER MGMNT|\n|CHIEF WATER CHEMIST                   |WATER MGMNT|\n|ASSISTANT DIRECTOR OF FINANCE         |WATER MGMNT|\n|FOREMAN OF ELECTRICAL MECHANICS       |WATER MGMNT|\n|CIVIL ENGINEER V                      |WATER MGMNT|\n|MACHINIST - APPRENTICE                |WATER MGMNT|\n|PROCUREMENT CONTROL OFFICER           |WATER MGMNT|\n|CARPENTER                             |WATER MGMNT|\n|CLERK IV - TIMEKEEPER                 |WATER MGMNT|\n|WATER CONSERVATION ENGINEER           |WATER MGMNT|\n|SUPT OF CONSTRUCTION AND MAINTENANCE  |WATER MGMNT|\n|FOREMAN OF MACHINISTS                 |WATER MGMNT|\n|ASST CHIEF OPERATING ENGINEER         |WATER MGMNT|\n|FOREMAN OF MOTOR TRUCK DRIVERS        |WATER MGMNT|\n|ENGINEERING TECHNICIAN VI             |WATER MGMNT|\n|ASST SUPT OF WATER METERS             |WATER MGMNT|\n|EQUIPMENT DISPATCHER                  |WATER MGMNT|\n|PRINCIPAL STOREKEEPER                 |WATER MGMNT|\n+--------------------------------------+-----------+\nonly showing top 100 rows\n"
     ]
    }
   ],
   "source": [
    "# now let's try to drop duplicates on both columns and check the dataframe\n",
    "emp_data.select('JOB_TITLE', 'DEPARTMENET').dropDuplicates(['JOB_TITLE','DEPARTMENET']).orderBy(col('DEPARTMENET'),ascending=False).show(100,False)"
   ]
  },
  {
   "cell_type": "markdown",
   "metadata": {
    "application/vnd.databricks.v1+cell": {
     "cellMetadata": {
      "byteLimit": 2048000,
      "rowLimit": 10000
     },
     "inputWidgets": {},
     "nuid": "9f728a60-b9e9-4f34-a912-3c027abe34bd",
     "showTitle": false,
     "tableResultSettingsMap": {},
     "title": ""
    }
   },
   "source": [
    "#### Handle Null Values\n",
    "We have three approaches in handling NULL values: \n",
    "  -  Approach 1: Replace Null value with other default value \n",
    "  - Approach 2: Drop records which has Null values "
   ]
  },
  {
   "cell_type": "code",
   "execution_count": 0,
   "metadata": {
    "application/vnd.databricks.v1+cell": {
     "cellMetadata": {
      "byteLimit": 2048000,
      "rowLimit": 10000
     },
     "inputWidgets": {},
     "nuid": "022516e6-d10c-4203-96ed-73faaebbd867",
     "showTitle": false,
     "tableResultSettingsMap": {},
     "title": ""
    }
   },
   "outputs": [
    {
     "output_type": "stream",
     "name": "stdout",
     "output_type": "stream",
     "text": [
      "+-------------+\n|ANNUAL_SALARY|\n+-------------+\n|101442.0     |\n|94122.0      |\n|111024.0     |\n|114780.0     |\n|NULL         |\n|48078.0      |\n|NULL         |\n|NULL         |\n|103350.0     |\n|93354.0      |\n|NULL         |\n|68616.0      |\n|56304.0      |\n|84054.0      |\n|87006.0      |\n|105804.0     |\n|68616.0      |\n|101442.0     |\n|94476.0      |\n|116280.0     |\n|99324.0      |\n|NULL         |\n|61884.0      |\n|NULL         |\n|90024.0      |\n|91080.0      |\n|48078.0      |\n|48078.0      |\n|72510.0      |\n|80016.0      |\n+-------------+\nonly showing top 30 rows\n"
     ]
    }
   ],
   "source": [
    "## Approch 1 : Replace null values with other values\n",
    "'''\n",
    "DataFrame.na.fill(value):\n",
    "   Replace null values with a certain values it will \n",
    "    work if all columns that has null values with the \n",
    "    same datatype, for example if we have two \n",
    "    column with Integer data type and one column \n",
    "    with String Data type and we typed \n",
    "    DataFrame.na.fill(0.0) none of the Null values \n",
    "    will be replaced  \n",
    "'''\n",
    "emp_data.select(\"ANNUAL_SALARY\").show(30,False)"
   ]
  },
  {
   "cell_type": "code",
   "execution_count": 0,
   "metadata": {
    "application/vnd.databricks.v1+cell": {
     "cellMetadata": {
      "byteLimit": 2048000,
      "rowLimit": 10000
     },
     "inputWidgets": {},
     "nuid": "33518557-0423-41a3-b554-6ad12204f842",
     "showTitle": false,
     "tableResultSettingsMap": {},
     "title": ""
    }
   },
   "outputs": [
    {
     "output_type": "stream",
     "name": "stdout",
     "output_type": "stream",
     "text": [
      "+-------------+\n|ANNUAL_SALARY|\n+-------------+\n|101442.0     |\n|94122.0      |\n|111024.0     |\n|114780.0     |\n|0.0          |\n|48078.0      |\n|0.0          |\n|0.0          |\n|103350.0     |\n|93354.0      |\n|0.0          |\n|68616.0      |\n|56304.0      |\n|84054.0      |\n|87006.0      |\n|105804.0     |\n|68616.0      |\n|101442.0     |\n|94476.0      |\n|116280.0     |\n|99324.0      |\n|0.0          |\n|61884.0      |\n|0.0          |\n|90024.0      |\n|91080.0      |\n|48078.0      |\n|48078.0      |\n|72510.0      |\n|80016.0      |\n+-------------+\nonly showing top 30 rows\n"
     ]
    }
   ],
   "source": [
    "emp_data.select(\"ANNUAL_SALARY\").na.fill(0.0).show(30,False)"
   ]
  },
  {
   "cell_type": "code",
   "execution_count": 0,
   "metadata": {
    "application/vnd.databricks.v1+cell": {
     "cellMetadata": {
      "byteLimit": 2048000,
      "rowLimit": 10000
     },
     "inputWidgets": {},
     "nuid": "e9ed7138-e184-4f22-bee3-2a849beb1c7b",
     "showTitle": false,
     "tableResultSettingsMap": {},
     "title": ""
    }
   },
   "outputs": [
    {
     "output_type": "stream",
     "name": "stdout",
     "output_type": "stream",
     "text": [
      "+------------------------+--------------------------------------+----------------+--------------+--------------+-------------+-------------+-----------+\n|NAME                    |JOB_TITLE                             |DEPARTMENET     |FULL_PART_TIME|MONTHLY_HOURLY|TYPICAL_HOURS|ANNUAL_SALARY|HOURLY_RATE|\n+------------------------+--------------------------------------+----------------+--------------+--------------+-------------+-------------+-----------+\n|AARON,  JEFFERY M       |SERGEANT                              |POLICE          |F             |Salary        |8            |101442.0     |0.0        |\n|AARON,  KARINA          |POLICE OFFICER (ASSIGNED AS DETECTIVE)|POLICE          |F             |Salary        |8            |94122.0      |0.0        |\n|AARON,  KIMBERLEI R     |CHIEF CONTRACT EXPEDITER              |GENERAL SERVICES|F             |Salary        |8            |111024.0     |0.0        |\n|ABAD JR,  VICENTE M     |CIVIL ENGINEER IV                     |WATER MGMNT     |F             |Salary        |8            |114780.0     |0.0        |\n|ABARCA,  EMMANUEL       |CONCRETE LABORER                      |TRANSPORTN      |F             |Hourly        |40           |0.0          |43.72      |\n|ABARCA,  FRANCES J      |POLICE OFFICER                        |POLICE          |F             |Salary        |8            |48078.0      |0.0        |\n|ABASCAL,  REECE E       |TRAFFIC CONTROL AIDE-HOURLY           |OEMC            |Missing       |Hourly        |20           |0.0          |19.86      |\n|ABBATACOLA,  ROBERT J   |ELECTRICAL MECHANIC                   |AVIATION        |F             |Hourly        |40           |0.0          |49.35      |\n|ABBATEMARCO,  JAMES J   |FIRE ENGINEER-EMT                     |FIRE            |Missing       |Salary        |8            |103350.0     |0.0        |\n|ABBATE,  TERRY M        |POLICE OFFICER                        |POLICE          |Missing       |Salary        |8            |93354.0      |0.0        |\n|ABBOTT,  BETTY L        |SENIOR PROGRAMMER/ANALYST             |FAMILY & SUPPORT|P             |Hourly        |20           |0.0          |2.65       |\n|ABBOTT,  CARMELLA       |POLICE OFFICER                        |POLICE          |F             |Salary        |8            |68616.0      |0.0        |\n|ABDALLAH,  MARAM M      |PARAMEDIC                             |FIRE            |F             |Salary        |8            |56304.0      |0.0        |\n|ABDALLAH,  ZAID         |POLICE OFFICER                        |POLICE          |F             |Salary        |8            |84054.0      |0.0        |\n|ABDELHADI,  ABDALMAHD   |POLICE OFFICER                        |POLICE          |Missing       |Salary        |8            |87006.0      |0.0        |\n|ABDELLATIF,  AREF R     |FIREFIGHTER/PARAMEDIC                 |FIRE            |F             |Salary        |8            |105804.0     |0.0        |\n|ABDELLATIF,  HASSAN     |POLICE OFFICER                        |POLICE          |F             |Salary        |8            |68616.0      |0.0        |\n|ABDELMAJEID,  AZIZ      |SERGEANT                              |POLICE          |F             |Salary        |8            |101442.0     |0.0        |\n|ABDOLLAHZADEH,  ALI     |FIREFIGHTER/PARAMEDIC                 |FIRE            |F             |Salary        |8            |94476.0      |0.0        |\n|ABDUL-KARIM,  MUHAMMAD A|ENGINEERING TECHNICIAN VI             |WATER MGMNT     |F             |Salary        |8            |116280.0     |0.0        |\n|ABDULLAH,  DANIEL N     |FIREFIGHTER-EMT                       |FIRE            |F             |Salary        |8            |99324.0      |0.0        |\n|ABDULLAH,  RASHAD       |ELECTRICAL MECHANIC (AUTOMOTIVE)      |GENERAL SERVICES|F             |Hourly        |40           |0.0          |49.35      |\n|ABDULLA,  MARYEM E      |ASST CORPORATION COUNSEL I            |LAW             |F             |Salary        |8            |61884.0      |0.0        |\n|ABDUL-SHAKUR,  TAHIR    |SANITATION LABORER                    |STREETS & SAN   |F             |Hourly        |40           |0.0          |24.46      |\n|ABEJERO,  JASON V       |POLICE OFFICER                        |POLICE          |F             |Salary        |8            |90024.0      |0.0        |\n|ABERCROMBIE IV,  EARL S |PARAMEDIC I/C                         |FIRE            |F             |Salary        |8            |91080.0      |0.0        |\n|ABERNETHY,  LYDIA M     |POLICE OFFICER                        |POLICE          |F             |Salary        |8            |48078.0      |0.0        |\n|ABES,  JOSE A           |POLICE OFFICER                        |POLICE          |F             |Salary        |8            |48078.0      |0.0        |\n|ABFALL,  RICHARD C      |POLICE OFFICER                        |POLICE          |F             |Salary        |8            |72510.0      |0.0        |\n|ABNEY,  PATRICK         |POLICE OFFICER                        |POLICE          |F             |Salary        |8            |80016.0      |0.0        |\n+------------------------+--------------------------------------+----------------+--------------+--------------+-------------+-------------+-----------+\nonly showing top 30 rows\n"
     ]
    }
   ],
   "source": [
    "# handling null in multiple columns with diffirent data types\n",
    "emp_data.na.fill(0.0,['ANNUAL_SALARY','HOURLY_RATE']).na.fill(8.0,['TYPICAL_HOURS'])\\\n",
    "        .na.fill(\"Missing\",['FULL_PART_TIME']).show(30,False)\n"
   ]
  },
  {
   "cell_type": "code",
   "execution_count": 0,
   "metadata": {
    "application/vnd.databricks.v1+cell": {
     "cellMetadata": {
      "byteLimit": 2048000,
      "rowLimit": 10000
     },
     "inputWidgets": {},
     "nuid": "1083dfe6-9446-43ef-b82a-270483c8581e",
     "showTitle": false,
     "tableResultSettingsMap": {},
     "title": ""
    }
   },
   "outputs": [
    {
     "output_type": "stream",
     "name": "stdout",
     "output_type": "stream",
     "text": [
      "+----+---------+-----------+--------------+--------------+-------------+-------------+-----------+\n|NAME|JOB_TITLE|DEPARTMENET|FULL_PART_TIME|MONTHLY_HOURLY|TYPICAL_HOURS|ANNUAL_SALARY|HOURLY_RATE|\n+----+---------+-----------+--------------+--------------+-------------+-------------+-----------+\n+----+---------+-----------+--------------+--------------+-------------+-------------+-----------+\n\n"
     ]
    }
   ],
   "source": [
    "## Approch 2 : Drop null values\n",
    "# to drop any record with null values\n",
    "emp_data.na.drop(how='any').show(30,False)\n",
    "# we'll got no records as all recoreds have null values"
   ]
  },
  {
   "cell_type": "code",
   "execution_count": 0,
   "metadata": {
    "application/vnd.databricks.v1+cell": {
     "cellMetadata": {
      "byteLimit": 2048000,
      "rowLimit": 10000
     },
     "inputWidgets": {},
     "nuid": "4c21bb70-3e38-46e8-b27d-ec1e6540a9b5",
     "showTitle": false,
     "tableResultSettingsMap": {},
     "title": ""
    }
   },
   "outputs": [
    {
     "output_type": "stream",
     "name": "stdout",
     "output_type": "stream",
     "text": [
      "+------------------------+--------------------------------------+----------------+--------------+--------------+-------------+-------------+-----------+\n|NAME                    |JOB_TITLE                             |DEPARTMENET     |FULL_PART_TIME|MONTHLY_HOURLY|TYPICAL_HOURS|ANNUAL_SALARY|HOURLY_RATE|\n+------------------------+--------------------------------------+----------------+--------------+--------------+-------------+-------------+-----------+\n|AARON,  JEFFERY M       |SERGEANT                              |POLICE          |F             |Salary        |NULL         |101442.0     |NULL       |\n|AARON,  KARINA          |POLICE OFFICER (ASSIGNED AS DETECTIVE)|POLICE          |F             |Salary        |NULL         |94122.0      |NULL       |\n|AARON,  KIMBERLEI R     |CHIEF CONTRACT EXPEDITER              |GENERAL SERVICES|F             |Salary        |NULL         |111024.0     |NULL       |\n|ABAD JR,  VICENTE M     |CIVIL ENGINEER IV                     |WATER MGMNT     |F             |Salary        |NULL         |114780.0     |NULL       |\n|ABARCA,  EMMANUEL       |CONCRETE LABORER                      |TRANSPORTN      |F             |Hourly        |40           |NULL         |43.72      |\n|ABARCA,  FRANCES J      |POLICE OFFICER                        |POLICE          |F             |Salary        |NULL         |48078.0      |NULL       |\n|ABASCAL,  REECE E       |TRAFFIC CONTROL AIDE-HOURLY           |OEMC            |NULL          |Hourly        |20           |NULL         |19.86      |\n|ABBATACOLA,  ROBERT J   |ELECTRICAL MECHANIC                   |AVIATION        |F             |Hourly        |40           |NULL         |49.35      |\n|ABBATEMARCO,  JAMES J   |FIRE ENGINEER-EMT                     |FIRE            |NULL          |Salary        |NULL         |103350.0     |NULL       |\n|ABBATE,  TERRY M        |POLICE OFFICER                        |POLICE          |NULL          |Salary        |NULL         |93354.0      |NULL       |\n|ABBOTT,  BETTY L        |SENIOR PROGRAMMER/ANALYST             |FAMILY & SUPPORT|P             |Hourly        |20           |NULL         |2.65       |\n|ABBOTT,  CARMELLA       |POLICE OFFICER                        |POLICE          |F             |Salary        |NULL         |68616.0      |NULL       |\n|ABDALLAH,  MARAM M      |PARAMEDIC                             |FIRE            |F             |Salary        |NULL         |56304.0      |NULL       |\n|ABDALLAH,  ZAID         |POLICE OFFICER                        |POLICE          |F             |Salary        |NULL         |84054.0      |NULL       |\n|ABDELHADI,  ABDALMAHD   |POLICE OFFICER                        |POLICE          |NULL          |Salary        |NULL         |87006.0      |NULL       |\n|ABDELLATIF,  AREF R     |FIREFIGHTER/PARAMEDIC                 |FIRE            |F             |Salary        |NULL         |105804.0     |NULL       |\n|ABDELLATIF,  HASSAN     |POLICE OFFICER                        |POLICE          |F             |Salary        |NULL         |68616.0      |NULL       |\n|ABDELMAJEID,  AZIZ      |SERGEANT                              |POLICE          |F             |Salary        |NULL         |101442.0     |NULL       |\n|ABDOLLAHZADEH,  ALI     |FIREFIGHTER/PARAMEDIC                 |FIRE            |F             |Salary        |NULL         |94476.0      |NULL       |\n|ABDUL-KARIM,  MUHAMMAD A|ENGINEERING TECHNICIAN VI             |WATER MGMNT     |F             |Salary        |NULL         |116280.0     |NULL       |\n|ABDULLAH,  DANIEL N     |FIREFIGHTER-EMT                       |FIRE            |F             |Salary        |NULL         |99324.0      |NULL       |\n|ABDULLAH,  RASHAD       |ELECTRICAL MECHANIC (AUTOMOTIVE)      |GENERAL SERVICES|F             |Hourly        |40           |NULL         |49.35      |\n|ABDULLA,  MARYEM E      |ASST CORPORATION COUNSEL I            |LAW             |F             |Salary        |NULL         |61884.0      |NULL       |\n|ABDUL-SHAKUR,  TAHIR    |SANITATION LABORER                    |STREETS & SAN   |F             |Hourly        |40           |NULL         |24.46      |\n|ABEJERO,  JASON V       |POLICE OFFICER                        |POLICE          |F             |Salary        |NULL         |90024.0      |NULL       |\n|ABERCROMBIE IV,  EARL S |PARAMEDIC I/C                         |FIRE            |F             |Salary        |NULL         |91080.0      |NULL       |\n|ABERNETHY,  LYDIA M     |POLICE OFFICER                        |POLICE          |F             |Salary        |NULL         |48078.0      |NULL       |\n|ABES,  JOSE A           |POLICE OFFICER                        |POLICE          |F             |Salary        |NULL         |48078.0      |NULL       |\n|ABFALL,  RICHARD C      |POLICE OFFICER                        |POLICE          |F             |Salary        |NULL         |72510.0      |NULL       |\n|ABNEY,  PATRICK         |POLICE OFFICER                        |POLICE          |F             |Salary        |NULL         |80016.0      |NULL       |\n+------------------------+--------------------------------------+----------------+--------------+--------------+-------------+-------------+-----------+\nonly showing top 30 rows\n"
     ]
    }
   ],
   "source": [
    "# we can also drop the record  only if have nulls in all columns\n",
    "emp_data.na.drop(how='all').show(30,False)"
   ]
  },
  {
   "cell_type": "code",
   "execution_count": 0,
   "metadata": {
    "application/vnd.databricks.v1+cell": {
     "cellMetadata": {
      "byteLimit": 2048000,
      "rowLimit": 10000
     },
     "inputWidgets": {},
     "nuid": "91719c1b-f6e6-47cb-aa8e-da887ae9bca8",
     "showTitle": false,
     "tableResultSettingsMap": {},
     "title": ""
    }
   },
   "outputs": [
    {
     "output_type": "stream",
     "name": "stdout",
     "output_type": "stream",
     "text": [
      "+----------------------+----------------------------------+----------------+--------------+--------------+-------------+-------------+-----------+\n|NAME                  |JOB_TITLE                         |DEPARTMENET     |FULL_PART_TIME|MONTHLY_HOURLY|TYPICAL_HOURS|ANNUAL_SALARY|HOURLY_RATE|\n+----------------------+----------------------------------+----------------+--------------+--------------+-------------+-------------+-----------+\n|ABARCA,  EMMANUEL     |CONCRETE LABORER                  |TRANSPORTN      |F             |Hourly        |40           |NULL         |43.72      |\n|ABASCAL,  REECE E     |TRAFFIC CONTROL AIDE-HOURLY       |OEMC            |NULL          |Hourly        |20           |NULL         |19.86      |\n|ABBATACOLA,  ROBERT J |ELECTRICAL MECHANIC               |AVIATION        |F             |Hourly        |40           |NULL         |49.35      |\n|ABBOTT,  BETTY L      |SENIOR PROGRAMMER/ANALYST         |FAMILY & SUPPORT|P             |Hourly        |20           |NULL         |2.65       |\n|ABDULLAH,  RASHAD     |ELECTRICAL MECHANIC (AUTOMOTIVE)  |GENERAL SERVICES|F             |Hourly        |40           |NULL         |49.35      |\n|ABDUL-SHAKUR,  TAHIR  |SANITATION LABORER                |STREETS & SAN   |F             |Hourly        |40           |NULL         |24.46      |\n|ABRAMS,  DANIELLE T   |SANITATION LABORER                |STREETS & SAN   |F             |Hourly        |40           |NULL         |37.76      |\n|ABRAMS,  SAMUEL A     |POOL MOTOR TRUCK DRIVER           |STREETS & SAN   |F             |Hourly        |40           |NULL         |36.45      |\n|ABRAMS,  TIFFANY      |OPERATING ENGINEER-GROUP C        |WATER MGMNT     |F             |Hourly        |40           |NULL         |49.26      |\n|ABREU,  DILAN         |SEWER BRICKLAYER                  |WATER MGMNT     |F             |Hourly        |40           |NULL         |46.88      |\n|ABRONS,  KENNETH L    |ELECTRICAL MECHANIC               |AVIATION        |F             |Hourly        |40           |NULL         |49.35      |\n|ABUHASHISH,  AWWAD    |FOREMAN OF WATER PIPE CONSTRUCTION|WATER MGMNT     |F             |Hourly        |40           |NULL         |54.05      |\n|ACCARDO,  ANTHONY D   |FOREMAN OF CONSTRUCTION LABORERS  |AVIATION        |F             |Hourly        |40           |NULL         |44.82      |\n|ACCIARI,  NICHOLAS B  |MOTOR TRUCK DRIVER                |STREETS & SAN   |F             |Hourly        |40           |NULL         |37.0       |\n|ACEVEDO,  JAVIER      |ASPHALT LABORER                   |TRANSPORTN      |F             |Hourly        |40           |NULL         |43.72      |\n|ACKLIN,  QIANA D      |CROSSING GUARD                    |OEMC            |P             |Hourly        |20           |NULL         |18.52      |\n|ACOSTA,  CESAR I      |STEAMFITTER                       |WATER MGMNT     |F             |Hourly        |40           |NULL         |49.6       |\n|ACOSTA,  HECTOR M     |WINDOW WASHER                     |GENERAL SERVICES|F             |Hourly        |40           |NULL         |22.75      |\n|ACOSTA,  PABLO S      |SANITATION LABORER                |STREETS & SAN   |F             |Hourly        |40           |NULL         |37.76      |\n|ACRES,  ANTHONY E     |LABORER                           |GENERAL SERVICES|F             |Hourly        |40           |NULL         |43.72      |\n|ACUNA AUSTIN,  VILMA E|SENIOR COMPANION                  |FAMILY & SUPPORT|P             |Hourly        |20           |NULL         |2.65       |\n|ADAIR,  STEVEN        |SANITATION LABORER                |STREETS & SAN   |F             |Hourly        |40           |NULL         |37.76      |\n|ADAMCZYK JR,  JAN     |BOOTER - PARKING                  |FINANCE         |F             |Hourly        |40           |NULL         |33.9       |\n|ADAME,  PEDRO         |CUSTODIAL WORKER                  |AVIATION        |F             |Hourly        |40           |NULL         |22.1       |\n|ADAMICKA,  PETER K    |MACHINIST (AUTOMOTIVE)            |GENERAL SERVICES|F             |Hourly        |40           |NULL         |48.93      |\n|ADAMOWSKI,  ANDREW J  |MOTOR TRUCK DRIVER                |AVIATION        |F             |Hourly        |40           |NULL         |36.45      |\n|ADAMS,  CHRISTINA     |TITLE V PROGRAM TRAINEE I         |FAMILY & SUPPORT|P             |Hourly        |20           |NULL         |8.25       |\n|ADAMS,  FREDA L       |TRAFFIC CONTROL AIDE-HOURLY       |OEMC            |P             |Hourly        |20           |NULL         |19.86      |\n|ADAMS,  GARY W        |SANITATION LABORER                |STREETS & SAN   |F             |Hourly        |40           |NULL         |37.76      |\n|ADAMS,  KRYSTA        |LABORER                           |TRANSPORTN      |F             |Hourly        |40           |NULL         |30.6       |\n+----------------------+----------------------------------+----------------+--------------+--------------+-------------+-------------+-----------+\nonly showing top 30 rows\n"
     ]
    }
   ],
   "source": [
    "'''\n",
    "We can merge between use of “any” or “All” with specifying some certain columns, in the following \n",
    "example we will drop the record if TYPICAL_HOURS, and HOURLY_RATE columns both have null values\n",
    "'''\n",
    "\n",
    "emp_data.na.drop(how='any',subset=['TYPICAL_HOURS','HOURLY_RATE']).show(30,False)"
   ]
  },
  {
   "cell_type": "code",
   "execution_count": 0,
   "metadata": {
    "application/vnd.databricks.v1+cell": {
     "cellMetadata": {
      "byteLimit": 2048000,
      "rowLimit": 10000
     },
     "inputWidgets": {},
     "nuid": "68216d05-a264-4e19-a563-eaa60e9781ce",
     "showTitle": false,
     "tableResultSettingsMap": {},
     "title": ""
    }
   },
   "outputs": [
    {
     "output_type": "execute_result",
     "data": {
      "text/plain": [
       "7"
      ]
     },
     "execution_count": 40,
     "metadata": {},
     "output_type": "execute_result"
    }
   ],
   "source": [
    "# we also can count number of nulls in specific columns\n",
    "emp_data.filter(col('FULL_PART_TIME').isNull()).count()\n"
   ]
  },
  {
   "cell_type": "code",
   "execution_count": 0,
   "metadata": {
    "application/vnd.databricks.v1+cell": {
     "cellMetadata": {
      "byteLimit": 2048000,
      "rowLimit": 10000
     },
     "inputWidgets": {},
     "nuid": "3228d242-e5e4-4344-99db-ff889432d0c0",
     "showTitle": false,
     "tableResultSettingsMap": {},
     "title": ""
    }
   },
   "outputs": [
    {
     "output_type": "execute_result",
     "data": {
      "text/plain": [
       "33579"
      ]
     },
     "execution_count": 41,
     "metadata": {},
     "output_type": "execute_result"
    }
   ],
   "source": [
    "# count non null values\n",
    "emp_data.filter(col('FULL_PART_TIME').isNotNull()).count()"
   ]
  },
  {
   "cell_type": "markdown",
   "metadata": {
    "application/vnd.databricks.v1+cell": {
     "cellMetadata": {
      "byteLimit": 2048000,
      "rowLimit": 10000
     },
     "inputWidgets": {},
     "nuid": "1aaafbe9-e1b7-407c-a2a2-4b35dbabf504",
     "showTitle": false,
     "tableResultSettingsMap": {},
     "title": ""
    }
   },
   "source": [
    "### DataFrame Alter Operations\n",
    "\n",
    "In this section we will check the process which effect on the structure of the DataFrame, some of these \n",
    "operations can be done using select and expr as mentioned before, following list of operations we will \n",
    "cover in this section:\n",
    "-  Add New column\n",
    "- Rename column name\n",
    "-  Remove existing column\n",
    "- Alter column type "
   ]
  },
  {
   "cell_type": "markdown",
   "metadata": {
    "application/vnd.databricks.v1+cell": {
     "cellMetadata": {
      "byteLimit": 2048000,
      "rowLimit": 10000
     },
     "inputWidgets": {},
     "nuid": "5133cc11-82b4-423f-833d-eea7a66f3072",
     "showTitle": false,
     "tableResultSettingsMap": {},
     "title": ""
    }
   },
   "source": [
    "#### Add new column\n",
    "To add a new column, we will use withColumn method, syntax for this method is as following:\n",
    "\n",
    "**withColumn**(new column name:String, \n",
    "expression of the new column: Column) "
   ]
  },
  {
   "cell_type": "code",
   "execution_count": 0,
   "metadata": {
    "application/vnd.databricks.v1+cell": {
     "cellMetadata": {
      "byteLimit": 2048000,
      "rowLimit": 10000
     },
     "inputWidgets": {},
     "nuid": "4ac7a881-4a9e-4f3d-a2e1-0a8872528ace",
     "showTitle": false,
     "tableResultSettingsMap": {},
     "title": ""
    }
   },
   "outputs": [
    {
     "output_type": "stream",
     "name": "stdout",
     "output_type": "stream",
     "text": [
      "+----------------+---------------+\n|DEPARTMENET     |MANAGEMENT_FLAG|\n+----------------+---------------+\n|POLICE          |false          |\n|POLICE          |false          |\n|GENERAL SERVICES|false          |\n|WATER MGMNT     |true           |\n|TRANSPORTN      |false          |\n|POLICE          |false          |\n|OEMC            |false          |\n|AVIATION        |false          |\n|FIRE            |false          |\n|POLICE          |false          |\n|FAMILY & SUPPORT|false          |\n|POLICE          |false          |\n|FIRE            |false          |\n|POLICE          |false          |\n|POLICE          |false          |\n|FIRE            |false          |\n|POLICE          |false          |\n|POLICE          |false          |\n|FIRE            |false          |\n|WATER MGMNT     |true           |\n|FIRE            |false          |\n|GENERAL SERVICES|false          |\n|LAW             |false          |\n|STREETS & SAN   |false          |\n|POLICE          |false          |\n|FIRE            |false          |\n|POLICE          |false          |\n|POLICE          |false          |\n|POLICE          |false          |\n|POLICE          |false          |\n+----------------+---------------+\nonly showing top 30 rows\n"
     ]
    }
   ],
   "source": [
    "emp_data.withColumn('MANAGEMENT_FLAG', expr('DEPARTMENET LIKE \"%MGMNT%\"')).select('DEPARTMENET','MANAGEMENT_FLAG').show(30,False)"
   ]
  },
  {
   "cell_type": "code",
   "execution_count": 0,
   "metadata": {
    "application/vnd.databricks.v1+cell": {
     "cellMetadata": {
      "byteLimit": 2048000,
      "rowLimit": 10000
     },
     "inputWidgets": {},
     "nuid": "43152532-67ad-42d6-b249-cd499544523f",
     "showTitle": false,
     "tableResultSettingsMap": {},
     "title": ""
    }
   },
   "outputs": [],
   "source": [
    "hourly_emp = emp_data.filter(col('HOURLY_RATE') > 0)\\\n",
    "    .withColumn('HOURLY_PAYMENT', col('HOURLY_RATE') * col('TYPICAL_HOURS'))\\\n",
    "    .select('NAME','JOB_TITLE','DEPARTMENET','HOURLY_RATE','TYPICAL_HOURS','HOURLY_PAYMENT')\n"
   ]
  },
  {
   "cell_type": "code",
   "execution_count": 0,
   "metadata": {
    "application/vnd.databricks.v1+cell": {
     "cellMetadata": {
      "byteLimit": 2048000,
      "rowLimit": 10000
     },
     "inputWidgets": {},
     "nuid": "81d4b3b9-7858-4c5d-9c65-8133e28cbb19",
     "showTitle": false,
     "tableResultSettingsMap": {},
     "title": ""
    }
   },
   "outputs": [
    {
     "output_type": "stream",
     "name": "stdout",
     "output_type": "stream",
     "text": [
      "+----------------------+----------------------------------+----------------+-----------+-------------+------------------+\n|NAME                  |JOB_TITLE                         |DEPARTMENET     |HOURLY_RATE|TYPICAL_HOURS|HOURLY_PAYMENT    |\n+----------------------+----------------------------------+----------------+-----------+-------------+------------------+\n|ABARCA,  EMMANUEL     |CONCRETE LABORER                  |TRANSPORTN      |43.72      |40           |1748.8            |\n|ABASCAL,  REECE E     |TRAFFIC CONTROL AIDE-HOURLY       |OEMC            |19.86      |20           |397.2             |\n|ABBATACOLA,  ROBERT J |ELECTRICAL MECHANIC               |AVIATION        |49.35      |40           |1974.0            |\n|ABBOTT,  BETTY L      |SENIOR PROGRAMMER/ANALYST         |FAMILY & SUPPORT|2.65       |20           |53.0              |\n|ABDULLAH,  RASHAD     |ELECTRICAL MECHANIC (AUTOMOTIVE)  |GENERAL SERVICES|49.35      |40           |1974.0            |\n|ABDUL-SHAKUR,  TAHIR  |SANITATION LABORER                |STREETS & SAN   |24.46      |40           |978.4000000000001 |\n|ABRAMS,  DANIELLE T   |SANITATION LABORER                |STREETS & SAN   |37.76      |40           |1510.3999999999999|\n|ABRAMS,  SAMUEL A     |POOL MOTOR TRUCK DRIVER           |STREETS & SAN   |36.45      |40           |1458.0            |\n|ABRAMS,  TIFFANY      |OPERATING ENGINEER-GROUP C        |WATER MGMNT     |49.26      |40           |1970.3999999999999|\n|ABREU,  DILAN         |SEWER BRICKLAYER                  |WATER MGMNT     |46.88      |40           |1875.2            |\n|ABRONS,  KENNETH L    |ELECTRICAL MECHANIC               |AVIATION        |49.35      |40           |1974.0            |\n|ABUHASHISH,  AWWAD    |FOREMAN OF WATER PIPE CONSTRUCTION|WATER MGMNT     |54.05      |40           |2162.0            |\n|ACCARDO,  ANTHONY D   |FOREMAN OF CONSTRUCTION LABORERS  |AVIATION        |44.82      |40           |1792.8            |\n|ACCIARI,  NICHOLAS B  |MOTOR TRUCK DRIVER                |STREETS & SAN   |37.0       |40           |1480.0            |\n|ACEVEDO,  JAVIER      |ASPHALT LABORER                   |TRANSPORTN      |43.72      |40           |1748.8            |\n|ACKLIN,  QIANA D      |CROSSING GUARD                    |OEMC            |18.52      |20           |370.4             |\n|ACOSTA,  CESAR I      |STEAMFITTER                       |WATER MGMNT     |49.6       |40           |1984.0            |\n|ACOSTA,  HECTOR M     |WINDOW WASHER                     |GENERAL SERVICES|22.75      |40           |910.0             |\n|ACOSTA,  PABLO S      |SANITATION LABORER                |STREETS & SAN   |37.76      |40           |1510.3999999999999|\n|ACRES,  ANTHONY E     |LABORER                           |GENERAL SERVICES|43.72      |40           |1748.8            |\n|ACUNA AUSTIN,  VILMA E|SENIOR COMPANION                  |FAMILY & SUPPORT|2.65       |20           |53.0              |\n|ADAIR,  STEVEN        |SANITATION LABORER                |STREETS & SAN   |37.76      |40           |1510.3999999999999|\n|ADAMCZYK JR,  JAN     |BOOTER - PARKING                  |FINANCE         |33.9       |40           |1356.0            |\n|ADAME,  PEDRO         |CUSTODIAL WORKER                  |AVIATION        |22.1       |40           |884.0             |\n|ADAMICKA,  PETER K    |MACHINIST (AUTOMOTIVE)            |GENERAL SERVICES|48.93      |40           |1957.2            |\n|ADAMOWSKI,  ANDREW J  |MOTOR TRUCK DRIVER                |AVIATION        |36.45      |40           |1458.0            |\n|ADAMS,  CHRISTINA     |TITLE V PROGRAM TRAINEE I         |FAMILY & SUPPORT|8.25       |20           |165.0             |\n|ADAMS,  FREDA L       |TRAFFIC CONTROL AIDE-HOURLY       |OEMC            |19.86      |20           |397.2             |\n|ADAMS,  GARY W        |SANITATION LABORER                |STREETS & SAN   |37.76      |40           |1510.3999999999999|\n|ADAMS,  KRYSTA        |LABORER                           |TRANSPORTN      |30.6       |40           |1224.0            |\n|ADAMS,  MARJORIE E    |LIBRARY PAGE                      |PUBLIC LIBRARY  |13.8       |20           |276.0             |\n|ADAMS,  MARSHANIKA S  |CROSSING GUARD - PER CBA          |OEMC            |13.94      |20           |278.8             |\n|ADAMS,  MICHAEL J     |WATCHMAN                          |GENERAL SERVICES|22.92      |40           |916.8000000000001 |\n|ADAMS,  QUAN R        |MOTOR TRUCK DRIVER                |STREETS & SAN   |36.45      |40           |1458.0            |\n|ADAMS,  ROSITA        |CROSSING GUARD - PER CBA          |OEMC            |15.94      |20           |318.8             |\n|ADAMS,  SHEILA        |GENERAL LABORER - DSS             |STREETS & SAN   |23.05      |40           |922.0             |\n|ADCOCK,  TOMMY W      |CONCRETE LABORER                  |TRANSPORTN      |43.72      |40           |1748.8            |\n|ADDANTE,  VINCENZO    |POOL MOTOR TRUCK DRIVER           |STREETS & SAN   |36.45      |40           |1458.0            |\n|ADEWOLE,  KAREEM A    |CONSTRUCTION LABORER              |WATER MGMNT     |43.72      |40           |1748.8            |\n|ADEWOLE,  SAHEED      |TRAFFIC CONTROL AIDE-HOURLY       |OEMC            |19.86      |20           |397.2             |\n|ADROW,  GREGORY L     |PAINTER                           |TRANSPORTN      |47.3       |40           |1892.0            |\n|AFOENYI,  PHYLLIS     |TITLE V PROGRAM TRAINEE I         |FAMILY & SUPPORT|8.25       |20           |165.0             |\n|AGNEW,  ANTONIO E     |MOTOR TRUCK DRIVER                |AVIATION        |36.45      |40           |1458.0            |\n|AGSALUD,  FERNAN S    |SANITATION LABORER                |STREETS & SAN   |39.98      |40           |1599.1999999999998|\n|AGSALUD JR,  JUANITO S|SANITATION LABORER                |STREETS & SAN   |37.76      |40           |1510.3999999999999|\n|AGUAYO,  LUIS M       |LABORER - APPRENTICE              |WATER MGMNT     |30.6       |40           |1224.0            |\n|AGUILA,  JUANITA      |MOTOR TRUCK DRIVER                |AVIATION        |36.45      |40           |1458.0            |\n|AGUILAR,  ANDRIA      |ALDERMANIC AIDE                   |CITY COUNCIL    |20.0       |20           |400.0             |\n|AGUILAR,  EFRAIN      |SANITATION LABORER                |STREETS & SAN   |37.76      |40           |1510.3999999999999|\n|AGUILAR,  EVARISTO P  |MOTOR TRUCK DRIVER                |AVIATION        |36.45      |40           |1458.0            |\n+----------------------+----------------------------------+----------------+-----------+-------------+------------------+\nonly showing top 50 rows\n"
     ]
    }
   ],
   "source": [
    "hourly_emp.show(50,False)"
   ]
  },
  {
   "cell_type": "markdown",
   "metadata": {
    "application/vnd.databricks.v1+cell": {
     "cellMetadata": {
      "byteLimit": 2048000,
      "rowLimit": 10000
     },
     "inputWidgets": {},
     "nuid": "db126b3c-f3e5-4e33-84a5-3e59a0266e35",
     "showTitle": false,
     "tableResultSettingsMap": {},
     "title": ""
    }
   },
   "source": [
    "#### Rename Column\n",
    "To rename a column simply we need to use withColumnRenamed method as following\n",
    "\n",
    "**withColumnRenamed**(old column name:String, \n",
    "new column name:String) "
   ]
  },
  {
   "cell_type": "code",
   "execution_count": 0,
   "metadata": {
    "application/vnd.databricks.v1+cell": {
     "cellMetadata": {
      "byteLimit": 2048000,
      "rowLimit": 10000
     },
     "inputWidgets": {},
     "nuid": "a89ac5fc-d4de-43ba-9741-ff2dd88db3b4",
     "showTitle": false,
     "tableResultSettingsMap": {},
     "title": ""
    }
   },
   "outputs": [
    {
     "output_type": "stream",
     "name": "stdout",
     "output_type": "stream",
     "text": [
      "+------------------------+------------------------------------------+----------------+--------------+--------------+-------------+-------------+-----------+\n|EMP_NAME                |TITLE                                     |DEPARTMENET     |FULL_PART_TIME|MONTHLY_HOURLY|TYPICAL_HOURS|ANNUAL_SALARY|HOURLY_RATE|\n+------------------------+------------------------------------------+----------------+--------------+--------------+-------------+-------------+-----------+\n|AARON,  JEFFERY M       |SERGEANT                                  |POLICE          |F             |Salary        |NULL         |101442.0     |NULL       |\n|AARON,  KARINA          |POLICE OFFICER (ASSIGNED AS DETECTIVE)    |POLICE          |F             |Salary        |NULL         |94122.0      |NULL       |\n|AARON,  KIMBERLEI R     |CHIEF CONTRACT EXPEDITER                  |GENERAL SERVICES|F             |Salary        |NULL         |111024.0     |NULL       |\n|ABAD JR,  VICENTE M     |CIVIL ENGINEER IV                         |WATER MGMNT     |F             |Salary        |NULL         |114780.0     |NULL       |\n|ABARCA,  EMMANUEL       |CONCRETE LABORER                          |TRANSPORTN      |F             |Hourly        |40           |NULL         |43.72      |\n|ABARCA,  FRANCES J      |POLICE OFFICER                            |POLICE          |F             |Salary        |NULL         |48078.0      |NULL       |\n|ABASCAL,  REECE E       |TRAFFIC CONTROL AIDE-HOURLY               |OEMC            |NULL          |Hourly        |20           |NULL         |19.86      |\n|ABBATACOLA,  ROBERT J   |ELECTRICAL MECHANIC                       |AVIATION        |F             |Hourly        |40           |NULL         |49.35      |\n|ABBATEMARCO,  JAMES J   |FIRE ENGINEER-EMT                         |FIRE            |NULL          |Salary        |NULL         |103350.0     |NULL       |\n|ABBATE,  TERRY M        |POLICE OFFICER                            |POLICE          |NULL          |Salary        |NULL         |93354.0      |NULL       |\n|ABBOTT,  BETTY L        |SENIOR PROGRAMMER/ANALYST                 |FAMILY & SUPPORT|P             |Hourly        |20           |NULL         |2.65       |\n|ABBOTT,  CARMELLA       |POLICE OFFICER                            |POLICE          |F             |Salary        |NULL         |68616.0      |NULL       |\n|ABDALLAH,  MARAM M      |PARAMEDIC                                 |FIRE            |F             |Salary        |NULL         |56304.0      |NULL       |\n|ABDALLAH,  ZAID         |POLICE OFFICER                            |POLICE          |F             |Salary        |NULL         |84054.0      |NULL       |\n|ABDELHADI,  ABDALMAHD   |POLICE OFFICER                            |POLICE          |NULL          |Salary        |NULL         |87006.0      |NULL       |\n|ABDELLATIF,  AREF R     |FIREFIGHTER/PARAMEDIC                     |FIRE            |F             |Salary        |NULL         |105804.0     |NULL       |\n|ABDELLATIF,  HASSAN     |POLICE OFFICER                            |POLICE          |F             |Salary        |NULL         |68616.0      |NULL       |\n|ABDELMAJEID,  AZIZ      |SERGEANT                                  |POLICE          |F             |Salary        |NULL         |101442.0     |NULL       |\n|ABDOLLAHZADEH,  ALI     |FIREFIGHTER/PARAMEDIC                     |FIRE            |F             |Salary        |NULL         |94476.0      |NULL       |\n|ABDUL-KARIM,  MUHAMMAD A|ENGINEERING TECHNICIAN VI                 |WATER MGMNT     |F             |Salary        |NULL         |116280.0     |NULL       |\n|ABDULLAH,  DANIEL N     |FIREFIGHTER-EMT                           |FIRE            |F             |Salary        |NULL         |99324.0      |NULL       |\n|ABDULLAH,  RASHAD       |ELECTRICAL MECHANIC (AUTOMOTIVE)          |GENERAL SERVICES|F             |Hourly        |40           |NULL         |49.35      |\n|ABDULLA,  MARYEM E      |ASST CORPORATION COUNSEL I                |LAW             |F             |Salary        |NULL         |61884.0      |NULL       |\n|ABDUL-SHAKUR,  TAHIR    |SANITATION LABORER                        |STREETS & SAN   |F             |Hourly        |40           |NULL         |24.46      |\n|ABEJERO,  JASON V       |POLICE OFFICER                            |POLICE          |F             |Salary        |NULL         |90024.0      |NULL       |\n|ABERCROMBIE IV,  EARL S |PARAMEDIC I/C                             |FIRE            |F             |Salary        |NULL         |91080.0      |NULL       |\n|ABERNETHY,  LYDIA M     |POLICE OFFICER                            |POLICE          |F             |Salary        |NULL         |48078.0      |NULL       |\n|ABES,  JOSE A           |POLICE OFFICER                            |POLICE          |F             |Salary        |NULL         |48078.0      |NULL       |\n|ABFALL,  RICHARD C      |POLICE OFFICER                            |POLICE          |F             |Salary        |NULL         |72510.0      |NULL       |\n|ABNEY,  PATRICK         |POLICE OFFICER                            |POLICE          |F             |Salary        |NULL         |80016.0      |NULL       |\n|ABOUASSI,  CHADI        |POLICE OFFICER                            |POLICE          |F             |Salary        |NULL         |72510.0      |NULL       |\n|ABOUELKHEIR,  HASSAN A  |SENIOR PROGRAMMER/ANALYST                 |FAMILY & SUPPORT|F             |Salary        |NULL         |114780.0     |NULL       |\n|ABOUZEID,  TAMER Y      |INVESTIGATOR-COPA                         |COPA            |F             |Salary        |NULL         |66204.0      |NULL       |\n|ABRAHAM,  GIRLEY T      |CIVIL ENGINEER IV                         |WATER MGMNT     |F             |Salary        |NULL         |114780.0     |NULL       |\n|ABRAHAM,  KELVIN        |TRAFFIC ENGINEER IV                       |TRANSPORTN      |F             |Salary        |NULL         |76584.0      |NULL       |\n|ABRAHAM,  NANCY A       |POLICE OFFICER                            |POLICE          |F             |Salary        |NULL         |84054.0      |NULL       |\n|ABRAM,  ANTHONY A       |POLICE OFFICER                            |POLICE          |F             |Salary        |NULL         |76266.0      |NULL       |\n|ABRAMAVICIUS,  ANNA A   |SUPERINTENDENT OF SPECIAL TRAFFIC SERVICES|OEMC            |F             |Salary        |NULL         |70272.0      |NULL       |\n|ABRAMS,  DANIELLE T     |SANITATION LABORER                        |STREETS & SAN   |F             |Hourly        |40           |NULL         |37.76      |\n|ABRAMSON,  NICHOLAS     |POLICE OFFICER                            |POLICE          |F             |Salary        |NULL         |76266.0      |NULL       |\n|ABRAMS,  SAMUEL A       |POOL MOTOR TRUCK DRIVER                   |STREETS & SAN   |F             |Hourly        |40           |NULL         |36.45      |\n|ABRAMS,  TIFFANY        |OPERATING ENGINEER-GROUP C                |WATER MGMNT     |F             |Hourly        |40           |NULL         |49.26      |\n|ABRATANSKI,  MARK A     |FIREFIGHTER-EMT                           |FIRE            |F             |Salary        |NULL         |92274.0      |NULL       |\n|ABREU,  DILAN           |SEWER BRICKLAYER                          |WATER MGMNT     |F             |Hourly        |40           |NULL         |46.88      |\n|ABREU,  ROBERTO J       |TRAFFIC SIGNAL REPAIRMAN                  |TRANSPORTN      |F             |Salary        |NULL         |111072.0     |NULL       |\n|ABREU,  ROSITA          |PERSONAL COMPUTER OPERATOR III            |HEALTH          |F             |Salary        |NULL         |73104.0      |NULL       |\n|ABREU,  VICTOR          |FIREFIGHTER-EMT                           |FIRE            |F             |Salary        |NULL         |99324.0      |NULL       |\n|ABRON,  FLOYD           |POLICE OFFICER                            |POLICE          |F             |Salary        |NULL         |93354.0      |NULL       |\n|ABRON,  KIMYENNA D      |POLICE OFFICER                            |POLICE          |F             |Salary        |NULL         |72510.0      |NULL       |\n|ABRONS,  KENNETH L      |ELECTRICAL MECHANIC                       |AVIATION        |F             |Hourly        |40           |NULL         |49.35      |\n+------------------------+------------------------------------------+----------------+--------------+--------------+-------------+-------------+-----------+\nonly showing top 50 rows\n"
     ]
    }
   ],
   "source": [
    "emp_data.withColumnRenamed('NAME','EMP_NAME')\\\n",
    "    .withColumnRenamed('JOB_TITLE','TITLE').show(50,False)"
   ]
  },
  {
   "cell_type": "markdown",
   "metadata": {
    "application/vnd.databricks.v1+cell": {
     "cellMetadata": {
      "byteLimit": 2048000,
      "rowLimit": 10000
     },
     "inputWidgets": {},
     "nuid": "72b8e384-dfc4-4dff-84c3-779f4fa632eb",
     "showTitle": false,
     "tableResultSettingsMap": {},
     "title": ""
    }
   },
   "source": [
    "#### Drop Column\n",
    "To drop a column we need to use **_drop_** method on the required column"
   ]
  },
  {
   "cell_type": "code",
   "execution_count": 0,
   "metadata": {
    "application/vnd.databricks.v1+cell": {
     "cellMetadata": {
      "byteLimit": 2048000,
      "rowLimit": 10000
     },
     "inputWidgets": {},
     "nuid": "cc4a8a27-37b5-46d5-99df-613d97d3586c",
     "showTitle": false,
     "tableResultSettingsMap": {},
     "title": ""
    }
   },
   "outputs": [
    {
     "output_type": "stream",
     "name": "stdout",
     "output_type": "stream",
     "text": [
      "+------------------------+------------------------------------------+----------------+--------------+-------------+-------------+-----------+\n|NAME                    |JOB_TITLE                                 |DEPARTMENET     |FULL_PART_TIME|TYPICAL_HOURS|ANNUAL_SALARY|HOURLY_RATE|\n+------------------------+------------------------------------------+----------------+--------------+-------------+-------------+-----------+\n|AARON,  JEFFERY M       |SERGEANT                                  |POLICE          |F             |NULL         |101442.0     |NULL       |\n|AARON,  KARINA          |POLICE OFFICER (ASSIGNED AS DETECTIVE)    |POLICE          |F             |NULL         |94122.0      |NULL       |\n|AARON,  KIMBERLEI R     |CHIEF CONTRACT EXPEDITER                  |GENERAL SERVICES|F             |NULL         |111024.0     |NULL       |\n|ABAD JR,  VICENTE M     |CIVIL ENGINEER IV                         |WATER MGMNT     |F             |NULL         |114780.0     |NULL       |\n|ABARCA,  EMMANUEL       |CONCRETE LABORER                          |TRANSPORTN      |F             |40           |NULL         |43.72      |\n|ABARCA,  FRANCES J      |POLICE OFFICER                            |POLICE          |F             |NULL         |48078.0      |NULL       |\n|ABASCAL,  REECE E       |TRAFFIC CONTROL AIDE-HOURLY               |OEMC            |NULL          |20           |NULL         |19.86      |\n|ABBATACOLA,  ROBERT J   |ELECTRICAL MECHANIC                       |AVIATION        |F             |40           |NULL         |49.35      |\n|ABBATEMARCO,  JAMES J   |FIRE ENGINEER-EMT                         |FIRE            |NULL          |NULL         |103350.0     |NULL       |\n|ABBATE,  TERRY M        |POLICE OFFICER                            |POLICE          |NULL          |NULL         |93354.0      |NULL       |\n|ABBOTT,  BETTY L        |SENIOR PROGRAMMER/ANALYST                 |FAMILY & SUPPORT|P             |20           |NULL         |2.65       |\n|ABBOTT,  CARMELLA       |POLICE OFFICER                            |POLICE          |F             |NULL         |68616.0      |NULL       |\n|ABDALLAH,  MARAM M      |PARAMEDIC                                 |FIRE            |F             |NULL         |56304.0      |NULL       |\n|ABDALLAH,  ZAID         |POLICE OFFICER                            |POLICE          |F             |NULL         |84054.0      |NULL       |\n|ABDELHADI,  ABDALMAHD   |POLICE OFFICER                            |POLICE          |NULL          |NULL         |87006.0      |NULL       |\n|ABDELLATIF,  AREF R     |FIREFIGHTER/PARAMEDIC                     |FIRE            |F             |NULL         |105804.0     |NULL       |\n|ABDELLATIF,  HASSAN     |POLICE OFFICER                            |POLICE          |F             |NULL         |68616.0      |NULL       |\n|ABDELMAJEID,  AZIZ      |SERGEANT                                  |POLICE          |F             |NULL         |101442.0     |NULL       |\n|ABDOLLAHZADEH,  ALI     |FIREFIGHTER/PARAMEDIC                     |FIRE            |F             |NULL         |94476.0      |NULL       |\n|ABDUL-KARIM,  MUHAMMAD A|ENGINEERING TECHNICIAN VI                 |WATER MGMNT     |F             |NULL         |116280.0     |NULL       |\n|ABDULLAH,  DANIEL N     |FIREFIGHTER-EMT                           |FIRE            |F             |NULL         |99324.0      |NULL       |\n|ABDULLAH,  RASHAD       |ELECTRICAL MECHANIC (AUTOMOTIVE)          |GENERAL SERVICES|F             |40           |NULL         |49.35      |\n|ABDULLA,  MARYEM E      |ASST CORPORATION COUNSEL I                |LAW             |F             |NULL         |61884.0      |NULL       |\n|ABDUL-SHAKUR,  TAHIR    |SANITATION LABORER                        |STREETS & SAN   |F             |40           |NULL         |24.46      |\n|ABEJERO,  JASON V       |POLICE OFFICER                            |POLICE          |F             |NULL         |90024.0      |NULL       |\n|ABERCROMBIE IV,  EARL S |PARAMEDIC I/C                             |FIRE            |F             |NULL         |91080.0      |NULL       |\n|ABERNETHY,  LYDIA M     |POLICE OFFICER                            |POLICE          |F             |NULL         |48078.0      |NULL       |\n|ABES,  JOSE A           |POLICE OFFICER                            |POLICE          |F             |NULL         |48078.0      |NULL       |\n|ABFALL,  RICHARD C      |POLICE OFFICER                            |POLICE          |F             |NULL         |72510.0      |NULL       |\n|ABNEY,  PATRICK         |POLICE OFFICER                            |POLICE          |F             |NULL         |80016.0      |NULL       |\n|ABOUASSI,  CHADI        |POLICE OFFICER                            |POLICE          |F             |NULL         |72510.0      |NULL       |\n|ABOUELKHEIR,  HASSAN A  |SENIOR PROGRAMMER/ANALYST                 |FAMILY & SUPPORT|F             |NULL         |114780.0     |NULL       |\n|ABOUZEID,  TAMER Y      |INVESTIGATOR-COPA                         |COPA            |F             |NULL         |66204.0      |NULL       |\n|ABRAHAM,  GIRLEY T      |CIVIL ENGINEER IV                         |WATER MGMNT     |F             |NULL         |114780.0     |NULL       |\n|ABRAHAM,  KELVIN        |TRAFFIC ENGINEER IV                       |TRANSPORTN      |F             |NULL         |76584.0      |NULL       |\n|ABRAHAM,  NANCY A       |POLICE OFFICER                            |POLICE          |F             |NULL         |84054.0      |NULL       |\n|ABRAM,  ANTHONY A       |POLICE OFFICER                            |POLICE          |F             |NULL         |76266.0      |NULL       |\n|ABRAMAVICIUS,  ANNA A   |SUPERINTENDENT OF SPECIAL TRAFFIC SERVICES|OEMC            |F             |NULL         |70272.0      |NULL       |\n|ABRAMS,  DANIELLE T     |SANITATION LABORER                        |STREETS & SAN   |F             |40           |NULL         |37.76      |\n|ABRAMSON,  NICHOLAS     |POLICE OFFICER                            |POLICE          |F             |NULL         |76266.0      |NULL       |\n|ABRAMS,  SAMUEL A       |POOL MOTOR TRUCK DRIVER                   |STREETS & SAN   |F             |40           |NULL         |36.45      |\n|ABRAMS,  TIFFANY        |OPERATING ENGINEER-GROUP C                |WATER MGMNT     |F             |40           |NULL         |49.26      |\n|ABRATANSKI,  MARK A     |FIREFIGHTER-EMT                           |FIRE            |F             |NULL         |92274.0      |NULL       |\n|ABREU,  DILAN           |SEWER BRICKLAYER                          |WATER MGMNT     |F             |40           |NULL         |46.88      |\n|ABREU,  ROBERTO J       |TRAFFIC SIGNAL REPAIRMAN                  |TRANSPORTN      |F             |NULL         |111072.0     |NULL       |\n|ABREU,  ROSITA          |PERSONAL COMPUTER OPERATOR III            |HEALTH          |F             |NULL         |73104.0      |NULL       |\n|ABREU,  VICTOR          |FIREFIGHTER-EMT                           |FIRE            |F             |NULL         |99324.0      |NULL       |\n|ABRON,  FLOYD           |POLICE OFFICER                            |POLICE          |F             |NULL         |93354.0      |NULL       |\n|ABRON,  KIMYENNA D      |POLICE OFFICER                            |POLICE          |F             |NULL         |72510.0      |NULL       |\n|ABRONS,  KENNETH L      |ELECTRICAL MECHANIC                       |AVIATION        |F             |40           |NULL         |49.35      |\n+------------------------+------------------------------------------+----------------+--------------+-------------+-------------+-----------+\nonly showing top 50 rows\n"
     ]
    }
   ],
   "source": [
    "emp_data.drop('MONTHLY_HOURLY').show(50,False)"
   ]
  },
  {
   "cell_type": "markdown",
   "metadata": {
    "application/vnd.databricks.v1+cell": {
     "cellMetadata": {
      "byteLimit": 2048000,
      "rowLimit": 10000
     },
     "inputWidgets": {},
     "nuid": "ab0e7435-ee0a-4e93-840d-3e80e80976e0",
     "showTitle": false,
     "tableResultSettingsMap": {},
     "title": ""
    }
   },
   "source": [
    "#### Alter Column Data Type\n",
    "To alter a column data type, we can use the **_cast_** method on the required column"
   ]
  },
  {
   "cell_type": "code",
   "execution_count": 0,
   "metadata": {
    "application/vnd.databricks.v1+cell": {
     "cellMetadata": {
      "byteLimit": 2048000,
      "rowLimit": 10000
     },
     "inputWidgets": {},
     "nuid": "a75d07a9-176d-4667-9648-cf31eb346a4f",
     "showTitle": false,
     "tableResultSettingsMap": {},
     "title": ""
    }
   },
   "outputs": [
    {
     "output_type": "stream",
     "name": "stdout",
     "output_type": "stream",
     "text": [
      "+--------------------+--------------+\n|(ANNUAL_SALARY / 30)|MONTHLY_SALARY|\n+--------------------+--------------+\n|3381.4              |8453          |\n|3137.4              |7843          |\n|3700.8              |9252          |\n|3826.0              |9565          |\n|NULL                |NULL          |\n|1602.6              |4006          |\n|NULL                |NULL          |\n|NULL                |NULL          |\n|3445.0              |8612          |\n|3111.8              |7779          |\n|NULL                |NULL          |\n|2287.2              |5718          |\n|1876.8              |4692          |\n|2801.8              |7004          |\n|2900.2              |7250          |\n|3526.8              |8817          |\n|2287.2              |5718          |\n|3381.4              |8453          |\n|3149.2              |7873          |\n|3876.0              |9690          |\n|3310.8              |8277          |\n|NULL                |NULL          |\n|2062.8              |5157          |\n|NULL                |NULL          |\n|3000.8              |7502          |\n|3036.0              |7590          |\n|1602.6              |4006          |\n|1602.6              |4006          |\n|2417.0              |6042          |\n|2667.2              |6668          |\n|2417.0              |6042          |\n|3826.0              |9565          |\n|2206.8              |5517          |\n|3826.0              |9565          |\n|2552.8              |6382          |\n|2801.8              |7004          |\n|2542.2              |6355          |\n|2342.4              |5856          |\n|NULL                |NULL          |\n|2542.2              |6355          |\n|NULL                |NULL          |\n|NULL                |NULL          |\n|3075.8              |7689          |\n|NULL                |NULL          |\n|3702.4              |9256          |\n|2436.8              |6092          |\n|3310.8              |8277          |\n|3111.8              |7779          |\n|2417.0              |6042          |\n|NULL                |NULL          |\n+--------------------+--------------+\nonly showing top 50 rows\n"
     ]
    }
   ],
   "source": [
    "emp_data.select(expr('ANNUAL_SALARY/30'), expr('ANNUAL_SALARY/12 as MONTHLY_SALARY ').cast(IntegerType())).show(50,False)"
   ]
  },
  {
   "cell_type": "code",
   "execution_count": 0,
   "metadata": {
    "application/vnd.databricks.v1+cell": {
     "cellMetadata": {
      "byteLimit": 2048000,
      "rowLimit": 10000
     },
     "inputWidgets": {},
     "nuid": "675d0ddd-14e1-407b-bf47-a504aa27c074",
     "showTitle": false,
     "tableResultSettingsMap": {},
     "title": ""
    }
   },
   "outputs": [
    {
     "output_type": "stream",
     "name": "stdout",
     "output_type": "stream",
     "text": [
      "root\n |-- (ANNUAL_SALARY / 30): double (nullable = true)\n |-- MONTHLY_SALARY: integer (nullable = true)\n\n"
     ]
    }
   ],
   "source": [
    "emp_data.select(expr('ANNUAL_SALARY/30'), expr('ANNUAL_SALARY/12 as MONTHLY_SALARY ').cast(IntegerType())).printSchema()"
   ]
  },
  {
   "cell_type": "markdown",
   "metadata": {
    "application/vnd.databricks.v1+cell": {
     "cellMetadata": {
      "byteLimit": 2048000,
      "rowLimit": 10000
     },
     "inputWidgets": {},
     "nuid": "0736b334-1ddb-4320-be8b-fded698aa14c",
     "showTitle": false,
     "tableResultSettingsMap": {},
     "title": ""
    }
   },
   "source": [
    "### Multiple DataFrames Operations\n",
    "\n",
    "A common scenario in most applications is that we need to join, or merge between two different \n",
    "datasets which have two different information we need to bring together. \n",
    "\n",
    "_we will use Sales data and Product data._"
   ]
  },
  {
   "cell_type": "code",
   "execution_count": 0,
   "metadata": {
    "application/vnd.databricks.v1+cell": {
     "cellMetadata": {
      "byteLimit": 2048000,
      "rowLimit": 10000
     },
     "inputWidgets": {},
     "nuid": "93e3a2fc-94fa-48f1-8ad0-878a6f0aa5aa",
     "showTitle": false,
     "tableResultSettingsMap": {},
     "title": ""
    }
   },
   "outputs": [],
   "source": [
    "Sales_scema = StructType([\n",
    "  StructField(\"REQ_ID\", IntegerType(), True), \n",
    "StructField(\"EMP_ID\", IntegerType(), True), \n",
    "StructField(\"CUSTOMER_ID\", IntegerType(), True), \n",
    "StructField(\"PRODUCT_ID\", IntegerType(), True), \n",
    "StructField(\"PRICE\", IntegerType(), True)\n",
    "])\n",
    "\n",
    "product_schema = StructType([\n",
    "  StructField(\"PRODUCT_ID\", IntegerType(), True), \n",
    "  StructField(\"PRODUCT_NAME\", StringType(), True), \n",
    "  StructField(\"MANUFACTURER_NAME\", StringType(), True), \n",
    "  StructField(\"PRODUCT_COLOR\", StringType(), True) \n",
    "])"
   ]
  },
  {
   "cell_type": "code",
   "execution_count": 0,
   "metadata": {
    "application/vnd.databricks.v1+cell": {
     "cellMetadata": {
      "byteLimit": 2048000,
      "rowLimit": 10000
     },
     "inputWidgets": {},
     "nuid": "fed87ec5-311a-48a5-9dbd-55ecfb3f7fa2",
     "showTitle": false,
     "tableResultSettingsMap": {},
     "title": ""
    }
   },
   "outputs": [],
   "source": [
    "# loading Datasets\n",
    "sales_df = spark.read.csv('/Volumes/workspace/default/data/sales_data.csv', header=True, schema=Sales_scema)\n",
    "product_df = spark.read.csv('/Volumes/workspace/default/data/product_info.csv', header=True, schema=product_schema)"
   ]
  },
  {
   "cell_type": "markdown",
   "metadata": {
    "application/vnd.databricks.v1+cell": {
     "cellMetadata": {
      "byteLimit": 2048000,
      "rowLimit": 10000
     },
     "inputWidgets": {},
     "nuid": "3f20666c-88dd-4dbe-b307-0e5166d0b6b5",
     "showTitle": false,
     "tableResultSettingsMap": {},
     "title": ""
    }
   },
   "source": [
    "#### Inner Join\n",
    "Inner join will join between left and right DataFrame based on matching keys in both DataFrames, and \n",
    "will return only selected records from both for the matched keys.\n",
    "\n",
    "Left DataFrame.join(Right DataFrame, Join Condition, Join type) "
   ]
  },
  {
   "cell_type": "code",
   "execution_count": 0,
   "metadata": {
    "application/vnd.databricks.v1+cell": {
     "cellMetadata": {
      "byteLimit": 2048000,
      "rowLimit": 10000
     },
     "inputWidgets": {},
     "nuid": "18381c17-6eda-441e-8f5c-2fcc55874791",
     "showTitle": false,
     "tableResultSettingsMap": {},
     "title": ""
    }
   },
   "outputs": [],
   "source": [
    "detialed_sales = sales_df.join(product_df, sales_df['PRODUCT_ID'] == product_df['PRODUCT_ID'])"
   ]
  },
  {
   "cell_type": "code",
   "execution_count": 0,
   "metadata": {
    "application/vnd.databricks.v1+cell": {
     "cellMetadata": {
      "byteLimit": 2048000,
      "rowLimit": 10000
     },
     "inputWidgets": {},
     "nuid": "6622e77e-9335-40fb-b84a-5e8a20434f68",
     "showTitle": false,
     "tableResultSettingsMap": {},
     "title": ""
    }
   },
   "outputs": [
    {
     "output_type": "stream",
     "name": "stdout",
     "output_type": "stream",
     "text": [
      "+------+------+-----------+----------+-----+----------+------------+-----------------+-------------+\n|REQ_ID|EMP_ID|CUSTOMER_ID|PRODUCT_ID|PRICE|PRODUCT_ID|PRODUCT_NAME|MANUFACTURER_NAME|PRODUCT_COLOR|\n+------+------+-----------+----------+-----+----------+------------+-----------------+-------------+\n|1     |101   |1001       |12        |2500 |12        |HTC One     |HTC              |Black        |\n|2     |101   |1002       |15        |3000 |15        |Galaxy A3   |Samsung          |White        |\n|3     |102   |1002       |13        |5999 |13        |HTC One     |HTC              |Gray         |\n|4     |103   |1005       |17        |11000|17        |Galaxy A3   |Samsung          |Blue         |\n|5     |102   |1003       |14        |3999 |14        |HTC One     |HTC              |Blue         |\n|6     |104   |1005       |22        |5999 |22        |IPHONE 6    |Apple            |white        |\n|7     |101   |1001       |16        |11000|16        |Galaxy A3   |Samsung          |Black        |\n|8     |103   |1001       |15        |3000 |15        |Galaxy A3   |Samsung          |White        |\n|9     |105   |1003       |20        |5999 |20        |Galaxy A5   |Samsung          |Blue         |\n|10    |102   |1002       |12        |2500 |12        |HTC One     |HTC              |Black        |\n|11    |106   |1006       |18        |4999 |18        |Galaxy A5   |Samsung          |White        |\n|12    |106   |1008       |19        |4500 |19        |Galaxy A5   |Samsung          |Black        |\n|13    |108   |1002       |21        |3560 |21        |IPHONE 6    |Apple            |Gold         |\n|14    |107   |1010       |17        |11000|17        |Galaxy A3   |Samsung          |Blue         |\n|15    |110   |1003       |16        |11000|16        |Galaxy A3   |Samsung          |Black        |\n|16    |109   |1007       |20        |5999 |20        |Galaxy A5   |Samsung          |Blue         |\n|17    |111   |1007       |22        |5999 |22        |IPHONE 6    |Apple            |white        |\n|18    |110   |1006       |21        |3560 |21        |IPHONE 6    |Apple            |Gold         |\n|19    |108   |1009       |18        |4999 |18        |Galaxy A5   |Samsung          |White        |\n|20    |109   |1010       |19        |4500 |19        |Galaxy A5   |Samsung          |Black        |\n+------+------+-----------+----------+-----+----------+------------+-----------------+-------------+\n\n"
     ]
    }
   ],
   "source": [
    "detialed_sales.show(50,False)\n"
   ]
  },
  {
   "cell_type": "markdown",
   "metadata": {
    "application/vnd.databricks.v1+cell": {
     "cellMetadata": {
      "byteLimit": 2048000,
      "rowLimit": 10000
     },
     "inputWidgets": {},
     "nuid": "d10eaf31-1e44-43ce-bd35-d8682a0e3b70",
     "showTitle": false,
     "tableResultSettingsMap": {},
     "title": ""
    }
   },
   "source": [
    "#### Left Join\n",
    "Spark will get all data from the left side DataFrame, and matched records from right side DataFrame, \n",
    "and in case a key is not matching we will get right side DataFrame column with NULL values "
   ]
  },
  {
   "cell_type": "code",
   "execution_count": 0,
   "metadata": {
    "application/vnd.databricks.v1+cell": {
     "cellMetadata": {
      "byteLimit": 2048000,
      "rowLimit": 10000
     },
     "inputWidgets": {},
     "nuid": "496ee09b-b1cf-4290-a7ae-a5430a652166",
     "showTitle": false,
     "tableResultSettingsMap": {},
     "title": ""
    }
   },
   "outputs": [],
   "source": [
    "detialed_sales = sales_df.join(product_df, sales_df['PRODUCT_ID'] == product_df['PRODUCT_ID'], 'left')"
   ]
  },
  {
   "cell_type": "code",
   "execution_count": 0,
   "metadata": {
    "application/vnd.databricks.v1+cell": {
     "cellMetadata": {
      "byteLimit": 2048000,
      "rowLimit": 10000
     },
     "inputWidgets": {},
     "nuid": "3e25bde3-0d12-4729-afdf-902074ed6e7a",
     "showTitle": false,
     "tableResultSettingsMap": {},
     "title": ""
    }
   },
   "outputs": [
    {
     "output_type": "stream",
     "name": "stdout",
     "output_type": "stream",
     "text": [
      "+------+------+-----------+----------+-----+----------+------------+-----------------+-------------+\n|REQ_ID|EMP_ID|CUSTOMER_ID|PRODUCT_ID|PRICE|PRODUCT_ID|PRODUCT_NAME|MANUFACTURER_NAME|PRODUCT_COLOR|\n+------+------+-----------+----------+-----+----------+------------+-----------------+-------------+\n|1     |101   |1001       |12        |2500 |12        |HTC One     |HTC              |Black        |\n|2     |101   |1002       |15        |3000 |15        |Galaxy A3   |Samsung          |White        |\n|3     |102   |1002       |13        |5999 |13        |HTC One     |HTC              |Gray         |\n|4     |103   |1005       |17        |11000|17        |Galaxy A3   |Samsung          |Blue         |\n|5     |102   |1003       |14        |3999 |14        |HTC One     |HTC              |Blue         |\n|6     |104   |1005       |22        |5999 |22        |IPHONE 6    |Apple            |white        |\n|7     |101   |1001       |16        |11000|16        |Galaxy A3   |Samsung          |Black        |\n|8     |103   |1001       |15        |3000 |15        |Galaxy A3   |Samsung          |White        |\n|9     |105   |1003       |20        |5999 |20        |Galaxy A5   |Samsung          |Blue         |\n|10    |102   |1002       |12        |2500 |12        |HTC One     |HTC              |Black        |\n|11    |106   |1006       |18        |4999 |18        |Galaxy A5   |Samsung          |White        |\n|12    |106   |1008       |19        |4500 |19        |Galaxy A5   |Samsung          |Black        |\n|13    |108   |1002       |21        |3560 |21        |IPHONE 6    |Apple            |Gold         |\n|14    |107   |1010       |17        |11000|17        |Galaxy A3   |Samsung          |Blue         |\n|15    |110   |1003       |16        |11000|16        |Galaxy A3   |Samsung          |Black        |\n|16    |109   |1007       |20        |5999 |20        |Galaxy A5   |Samsung          |Blue         |\n|17    |111   |1007       |22        |5999 |22        |IPHONE 6    |Apple            |white        |\n|18    |110   |1006       |21        |3560 |21        |IPHONE 6    |Apple            |Gold         |\n|19    |108   |1009       |18        |4999 |18        |Galaxy A5   |Samsung          |White        |\n|20    |109   |1010       |19        |4500 |19        |Galaxy A5   |Samsung          |Black        |\n|21    |210   |1020       |30        |4500 |NULL      |NULL        |NULL             |NULL         |\n|22    |106   |1001       |45        |5000 |NULL      |NULL        |NULL             |NULL         |\n+------+------+-----------+----------+-----+----------+------------+-----------------+-------------+\n\n"
     ]
    }
   ],
   "source": [
    "detialed_sales.show(50,False)"
   ]
  },
  {
   "cell_type": "markdown",
   "metadata": {
    "application/vnd.databricks.v1+cell": {
     "cellMetadata": {
      "byteLimit": 2048000,
      "rowLimit": 10000
     },
     "inputWidgets": {},
     "nuid": "b274f401-97e5-40eb-9ef4-4bc8702c0a84",
     "showTitle": false,
     "tableResultSettingsMap": {},
     "title": ""
    }
   },
   "source": [
    "#### Right Join\n",
    "Spark will get all data from the right side DataFrame, and matched records from left side DataFrame, \n",
    "and in case a key is not matching we will get left side DataFrame column with NULL values"
   ]
  },
  {
   "cell_type": "code",
   "execution_count": 0,
   "metadata": {
    "application/vnd.databricks.v1+cell": {
     "cellMetadata": {
      "byteLimit": 2048000,
      "rowLimit": 10000
     },
     "inputWidgets": {},
     "nuid": "aa4563b1-1e8c-4e66-88f5-55bfafe04524",
     "showTitle": false,
     "tableResultSettingsMap": {},
     "title": ""
    }
   },
   "outputs": [
    {
     "output_type": "stream",
     "name": "stdout",
     "output_type": "stream",
     "text": [
      "+------+------+-----------+----------+-----+----------+------------+-----------------+-------------+\n|REQ_ID|EMP_ID|CUSTOMER_ID|PRODUCT_ID|PRICE|PRODUCT_ID|PRODUCT_NAME|MANUFACTURER_NAME|PRODUCT_COLOR|\n+------+------+-----------+----------+-----+----------+------------+-----------------+-------------+\n|NULL  |NULL  |NULL       |NULL      |NULL |24        |Honor 10    |Huawei           |Cyan         |\n|8     |103   |1001       |15        |3000 |15        |Galaxy A3   |Samsung          |White        |\n|16    |109   |1007       |20        |5999 |20        |Galaxy A5   |Samsung          |Blue         |\n|18    |110   |1006       |21        |3560 |21        |IPHONE 6    |Apple            |Gold         |\n|17    |111   |1007       |22        |5999 |22        |IPHONE 6    |Apple            |white        |\n|14    |107   |1010       |17        |11000|17        |Galaxy A3   |Samsung          |Blue         |\n|NULL  |NULL  |NULL       |NULL      |NULL |23        |GT2         |Huawei           |Black        |\n|3     |102   |1002       |13        |5999 |13        |HTC One     |HTC              |Gray         |\n|15    |110   |1003       |16        |11000|16        |Galaxy A3   |Samsung          |Black        |\n|20    |109   |1010       |19        |4500 |19        |Galaxy A5   |Samsung          |Black        |\n|NULL  |NULL  |NULL       |NULL      |NULL |25        |Mac Book pro|Apple            |White        |\n|19    |108   |1009       |18        |4999 |18        |Galaxy A5   |Samsung          |White        |\n|5     |102   |1003       |14        |3999 |14        |HTC One     |HTC              |Blue         |\n|10    |102   |1002       |12        |2500 |12        |HTC One     |HTC              |Black        |\n|2     |101   |1002       |15        |3000 |15        |Galaxy A3   |Samsung          |White        |\n|9     |105   |1003       |20        |5999 |20        |Galaxy A5   |Samsung          |Blue         |\n|13    |108   |1002       |21        |3560 |21        |IPHONE 6    |Apple            |Gold         |\n|6     |104   |1005       |22        |5999 |22        |IPHONE 6    |Apple            |white        |\n|4     |103   |1005       |17        |11000|17        |Galaxy A3   |Samsung          |Blue         |\n|7     |101   |1001       |16        |11000|16        |Galaxy A3   |Samsung          |Black        |\n|12    |106   |1008       |19        |4500 |19        |Galaxy A5   |Samsung          |Black        |\n|11    |106   |1006       |18        |4999 |18        |Galaxy A5   |Samsung          |White        |\n|1     |101   |1001       |12        |2500 |12        |HTC One     |HTC              |Black        |\n+------+------+-----------+----------+-----+----------+------------+-----------------+-------------+\n\n"
     ]
    }
   ],
   "source": [
    "detialed_sales = sales_df.join(product_df,sales_df['PRODUCT_ID'] == product_df['PRODUCT_ID'], 'right')\n",
    "detialed_sales.show(50,False)"
   ]
  },
  {
   "cell_type": "markdown",
   "metadata": {
    "application/vnd.databricks.v1+cell": {
     "cellMetadata": {
      "byteLimit": 2048000,
      "rowLimit": 10000
     },
     "inputWidgets": {},
     "nuid": "2d4221e8-0992-4684-adc0-f52ddc96cc9d",
     "showTitle": false,
     "tableResultSettingsMap": {},
     "title": ""
    }
   },
   "source": [
    "#### Full Join\n",
    "In Full outer join we get all the records from left and right side DataFrames, and in case of keys don’t \n",
    "has no equivalent value from any side other side columns will be NULL values as we can see from \n",
    "following example"
   ]
  },
  {
   "cell_type": "code",
   "execution_count": 0,
   "metadata": {
    "application/vnd.databricks.v1+cell": {
     "cellMetadata": {
      "byteLimit": 2048000,
      "rowLimit": 10000
     },
     "inputWidgets": {},
     "nuid": "dfa5ff42-5146-43bb-8a13-2fe5594fb377",
     "showTitle": false,
     "tableResultSettingsMap": {},
     "title": ""
    }
   },
   "outputs": [],
   "source": [
    "detialed_sales = sales_df.join(product_df,sales_df['PRODUCT_ID'] == product_df['PRODUCT_ID'], 'full')\n"
   ]
  },
  {
   "cell_type": "code",
   "execution_count": 0,
   "metadata": {
    "application/vnd.databricks.v1+cell": {
     "cellMetadata": {
      "byteLimit": 2048000,
      "rowLimit": 10000
     },
     "inputWidgets": {},
     "nuid": "131b22b3-a9b5-42ce-bdd9-846512423a91",
     "showTitle": false,
     "tableResultSettingsMap": {},
     "title": ""
    }
   },
   "outputs": [
    {
     "output_type": "stream",
     "name": "stdout",
     "output_type": "stream",
     "text": [
      "+------+------+-----------+----------+-----+----------+------------+-----------------+-------------+\n|REQ_ID|EMP_ID|CUSTOMER_ID|PRODUCT_ID|PRICE|PRODUCT_ID|PRODUCT_NAME|MANUFACTURER_NAME|PRODUCT_COLOR|\n+------+------+-----------+----------+-----+----------+------------+-----------------+-------------+\n|NULL  |NULL  |NULL       |NULL      |NULL |24        |Honor 10    |Huawei           |Cyan         |\n|8     |103   |1001       |15        |3000 |15        |Galaxy A3   |Samsung          |White        |\n|16    |109   |1007       |20        |5999 |20        |Galaxy A5   |Samsung          |Blue         |\n|18    |110   |1006       |21        |3560 |21        |IPHONE 6    |Apple            |Gold         |\n|17    |111   |1007       |22        |5999 |22        |IPHONE 6    |Apple            |white        |\n|14    |107   |1010       |17        |11000|17        |Galaxy A3   |Samsung          |Blue         |\n|NULL  |NULL  |NULL       |NULL      |NULL |23        |GT2         |Huawei           |Black        |\n|3     |102   |1002       |13        |5999 |13        |HTC One     |HTC              |Gray         |\n|15    |110   |1003       |16        |11000|16        |Galaxy A3   |Samsung          |Black        |\n|20    |109   |1010       |19        |4500 |19        |Galaxy A5   |Samsung          |Black        |\n|NULL  |NULL  |NULL       |NULL      |NULL |25        |Mac Book pro|Apple            |White        |\n|19    |108   |1009       |18        |4999 |18        |Galaxy A5   |Samsung          |White        |\n|5     |102   |1003       |14        |3999 |14        |HTC One     |HTC              |Blue         |\n|10    |102   |1002       |12        |2500 |12        |HTC One     |HTC              |Black        |\n|2     |101   |1002       |15        |3000 |15        |Galaxy A3   |Samsung          |White        |\n|9     |105   |1003       |20        |5999 |20        |Galaxy A5   |Samsung          |Blue         |\n|13    |108   |1002       |21        |3560 |21        |IPHONE 6    |Apple            |Gold         |\n|6     |104   |1005       |22        |5999 |22        |IPHONE 6    |Apple            |white        |\n|4     |103   |1005       |17        |11000|17        |Galaxy A3   |Samsung          |Blue         |\n|7     |101   |1001       |16        |11000|16        |Galaxy A3   |Samsung          |Black        |\n|12    |106   |1008       |19        |4500 |19        |Galaxy A5   |Samsung          |Black        |\n|11    |106   |1006       |18        |4999 |18        |Galaxy A5   |Samsung          |White        |\n|1     |101   |1001       |12        |2500 |12        |HTC One     |HTC              |Black        |\n|21    |210   |1020       |30        |4500 |NULL      |NULL        |NULL             |NULL         |\n|22    |106   |1001       |45        |5000 |NULL      |NULL        |NULL             |NULL         |\n+------+------+-----------+----------+-----+----------+------------+-----------------+-------------+\n\n"
     ]
    }
   ],
   "source": [
    "detialed_sales.show(50,False)"
   ]
  },
  {
   "cell_type": "markdown",
   "metadata": {
    "application/vnd.databricks.v1+cell": {
     "cellMetadata": {
      "byteLimit": 2048000,
      "rowLimit": 10000
     },
     "inputWidgets": {},
     "nuid": "3abe6402-7beb-4d12-bdab-be40aa85ea5c",
     "showTitle": false,
     "tableResultSettingsMap": {},
     "title": ""
    }
   },
   "source": [
    "#### Special Joins\n",
    "we have two special join types which has a behavior of a lookup more than a join behavior as following \n",
    "-  **left_semi**: lookup on right side DataFrame using left side DataFrame join keys, and return left \n",
    "side records only which has a matching values (exist) in right side DataFrame, in simple way  \n",
    "lookup on right side DataFrame and get matching records only. \n",
    "\n",
    "- **left_anti** :  lookup on right side DataFrame using left side DataFrame join keys, and return left \n",
    "side records only which has a no matching values (exist) in right side DataFrame, in way lookup \n",
    "on right side DataFrame and get not matching (not existing) records only. "
   ]
  },
  {
   "cell_type": "markdown",
   "metadata": {
    "application/vnd.databricks.v1+cell": {
     "cellMetadata": {
      "byteLimit": 2048000,
      "rowLimit": 10000
     },
     "inputWidgets": {},
     "nuid": "12b16b11-ed5f-410d-81f9-7fa332f76051",
     "showTitle": false,
     "tableResultSettingsMap": {},
     "title": ""
    }
   },
   "source": [
    "##### Left Semi Join"
   ]
  },
  {
   "cell_type": "code",
   "execution_count": 0,
   "metadata": {
    "application/vnd.databricks.v1+cell": {
     "cellMetadata": {
      "byteLimit": 2048000,
      "rowLimit": 10000
     },
     "inputWidgets": {},
     "nuid": "d280956f-06d5-4db1-88fd-643e72d6f342",
     "showTitle": false,
     "tableResultSettingsMap": {},
     "title": ""
    }
   },
   "outputs": [
    {
     "output_type": "stream",
     "name": "stdout",
     "output_type": "stream",
     "text": [
      "+------+------+-----------+----------+-----+\n|REQ_ID|EMP_ID|CUSTOMER_ID|PRODUCT_ID|PRICE|\n+------+------+-----------+----------+-----+\n|1     |101   |1001       |12        |2500 |\n|2     |101   |1002       |15        |3000 |\n|3     |102   |1002       |13        |5999 |\n|4     |103   |1005       |17        |11000|\n|5     |102   |1003       |14        |3999 |\n|6     |104   |1005       |22        |5999 |\n|7     |101   |1001       |16        |11000|\n|8     |103   |1001       |15        |3000 |\n|9     |105   |1003       |20        |5999 |\n|10    |102   |1002       |12        |2500 |\n|11    |106   |1006       |18        |4999 |\n|12    |106   |1008       |19        |4500 |\n|13    |108   |1002       |21        |3560 |\n|14    |107   |1010       |17        |11000|\n|15    |110   |1003       |16        |11000|\n|16    |109   |1007       |20        |5999 |\n|17    |111   |1007       |22        |5999 |\n|18    |110   |1006       |21        |3560 |\n|19    |108   |1009       |18        |4999 |\n|20    |109   |1010       |19        |4500 |\n+------+------+-----------+----------+-----+\n\n"
     ]
    }
   ],
   "source": [
    "detialed_sales = sales_df.join(product_df,sales_df['PRODUCT_ID'] == product_df['PRODUCT_ID'], 'left_semi')\n",
    "detialed_sales.show(50,False)"
   ]
  },
  {
   "cell_type": "markdown",
   "metadata": {
    "application/vnd.databricks.v1+cell": {
     "cellMetadata": {
      "byteLimit": 2048000,
      "rowLimit": 10000
     },
     "inputWidgets": {},
     "nuid": "f54f6993-9b58-4636-9275-0a06d6169371",
     "showTitle": false,
     "tableResultSettingsMap": {},
     "title": ""
    }
   },
   "source": [
    "##### Left Anti Join"
   ]
  },
  {
   "cell_type": "code",
   "execution_count": 0,
   "metadata": {
    "application/vnd.databricks.v1+cell": {
     "cellMetadata": {
      "byteLimit": 2048000,
      "rowLimit": 10000
     },
     "inputWidgets": {},
     "nuid": "bfe293c7-d5c5-4d05-9b16-8189dca9eda4",
     "showTitle": false,
     "tableResultSettingsMap": {},
     "title": ""
    }
   },
   "outputs": [
    {
     "output_type": "stream",
     "name": "stdout",
     "output_type": "stream",
     "text": [
      "+------+------+-----------+----------+-----+\n|REQ_ID|EMP_ID|CUSTOMER_ID|PRODUCT_ID|PRICE|\n+------+------+-----------+----------+-----+\n|21    |210   |1020       |30        |4500 |\n|22    |106   |1001       |45        |5000 |\n+------+------+-----------+----------+-----+\n\n"
     ]
    }
   ],
   "source": [
    "detialed_sales = sales_df.join(product_df,sales_df['PRODUCT_ID'] == product_df['PRODUCT_ID'], 'left_anti')\n",
    "detialed_sales.show(50,False)"
   ]
  },
  {
   "cell_type": "markdown",
   "metadata": {
    "application/vnd.databricks.v1+cell": {
     "cellMetadata": {
      "byteLimit": 2048000,
      "rowLimit": 10000
     },
     "inputWidgets": {},
     "nuid": "6b117605-944b-4b4a-b6e8-5fbe9134f45b",
     "showTitle": false,
     "tableResultSettingsMap": {},
     "title": ""
    }
   },
   "source": [
    "#### Joins tips tp reach max performace\n",
    "\n",
    "- **Tip#1 :  Filter as early as possible**\n",
    "    - To reduce the shuffle of data between worker nodes and avoid network congestion it is recommended \n",
    "to filter records from one of DataFrames to be joined or even both if possible to reduce the amount of \n",
    "data need to be shuffled and to enhance application performance.\n",
    "-  **Tip#2 : Broadcast small DataFrames**\n",
    "    - Spark has a useful technique to enhance joins and reduce shuffle between worker nodes, in case we \n",
    "have one of the two DataFrames are small like a lookup data or a reference data, we can broadcast this \n",
    "DataFrame to all worker nodes which has the partitions for the other larger DataFrame, then we will \n",
    "not need to do any kind of shuffling between nodes which will enhance the application performance \n",
    "positively. s_ales_data.join(**broadcast**(product_data),joinCondition,\"inner\").explain(false\n",
    " ) _\n",
    " \n",
    " - **Tip#3: Co-locate DataFrames** \n",
    "    - If partitions from both joined DataFrame exist in the same worker node, there will be no need for \n",
    "shuffling and join performance will be maximum as both left side and right side data collocated on the \n",
    "same worker node. Two RDDs will be colocated if they have the same partitioner and were shuffled as \n",
    "part of the same action."
   ]
  },
  {
   "cell_type": "markdown",
   "metadata": {
    "application/vnd.databricks.v1+cell": {
     "cellMetadata": {
      "byteLimit": 2048000,
      "rowLimit": 10000
     },
     "inputWidgets": {},
     "nuid": "37ce6ecc-5c23-4470-ac07-de020aec3798",
     "showTitle": false,
     "tableResultSettingsMap": {},
     "title": ""
    }
   },
   "source": [
    "### Analytical Queries \n",
    "The target from big data applications after all is to get insights, aggregation and analytical functions are \n",
    "our tools to get the required insights from our data, spark rich with analytical and aggregation \n",
    "functions that can provide us with required insights."
   ]
  },
  {
   "cell_type": "markdown",
   "metadata": {
    "application/vnd.databricks.v1+cell": {
     "cellMetadata": {
      "byteLimit": 2048000,
      "rowLimit": 10000
     },
     "inputWidgets": {},
     "nuid": "f727cd2d-0f8d-428f-bada-cf35880b3017",
     "showTitle": false,
     "tableResultSettingsMap": {},
     "title": ""
    }
   },
   "source": [
    "#### Count & DistinctCount"
   ]
  },
  {
   "cell_type": "code",
   "execution_count": 0,
   "metadata": {
    "application/vnd.databricks.v1+cell": {
     "cellMetadata": {
      "byteLimit": 2048000,
      "rowLimit": 10000
     },
     "inputWidgets": {},
     "nuid": "6fcd8381-40a9-4ca1-a8f1-ede6532a353e",
     "showTitle": false,
     "tableResultSettingsMap": {},
     "title": ""
    }
   },
   "outputs": [
    {
     "output_type": "execute_result",
     "data": {
      "text/plain": [
       "22"
      ]
     },
     "execution_count": 60,
     "metadata": {},
     "output_type": "execute_result"
    }
   ],
   "source": [
    "# getting all records count \n",
    "sales_df.count()"
   ]
  },
  {
   "cell_type": "code",
   "execution_count": 0,
   "metadata": {
    "application/vnd.databricks.v1+cell": {
     "cellMetadata": {
      "byteLimit": 2048000,
      "rowLimit": 10000
     },
     "inputWidgets": {},
     "nuid": "a0aeb343-bd5d-4d8b-9604-939a9d04c00d",
     "showTitle": false,
     "tableResultSettingsMap": {},
     "title": ""
    }
   },
   "outputs": [
    {
     "output_type": "stream",
     "name": "stdout",
     "output_type": "stream",
     "text": [
      "+------------------+\n|count(CUSTOMER_ID)|\n+------------------+\n|                22|\n+------------------+\n\n"
     ]
    }
   ],
   "source": [
    "# we can specify column \n",
    "sales_df.select(count('CUSTOMER_ID')).show()"
   ]
  },
  {
   "cell_type": "code",
   "execution_count": 0,
   "metadata": {
    "application/vnd.databricks.v1+cell": {
     "cellMetadata": {
      "byteLimit": 2048000,
      "rowLimit": 10000
     },
     "inputWidgets": {},
     "nuid": "5a691428-5cbb-4215-8248-56726662538b",
     "showTitle": false,
     "tableResultSettingsMap": {},
     "title": ""
    }
   },
   "outputs": [
    {
     "output_type": "stream",
     "name": "stdout",
     "output_type": "stream",
     "text": [
      "+--------+\n|count(1)|\n+--------+\n|   33586|\n+--------+\n\n"
     ]
    }
   ],
   "source": [
    "# count consider nulls when counting all the the records but not when specifying a column\n",
    "emp_data.select(count('*')).show()\n"
   ]
  },
  {
   "cell_type": "code",
   "execution_count": 0,
   "metadata": {
    "application/vnd.databricks.v1+cell": {
     "cellMetadata": {
      "byteLimit": 2048000,
      "rowLimit": 10000
     },
     "inputWidgets": {},
     "nuid": "7395a68a-2ee7-491d-b1c6-6b0a13459d76",
     "showTitle": false,
     "tableResultSettingsMap": {},
     "title": ""
    }
   },
   "outputs": [
    {
     "output_type": "stream",
     "name": "stdout",
     "output_type": "stream",
     "text": [
      "+--------------------+\n|count(ANNUAL_SALARY)|\n+--------------------+\n|               25635|\n+--------------------+\n\n"
     ]
    }
   ],
   "source": [
    "# let's specify the column \n",
    "emp_data.select(count('ANNUAL_SALARY')).show()\n",
    "# we will not get the same number as count('column') will not count nulls"
   ]
  },
  {
   "cell_type": "code",
   "execution_count": 0,
   "metadata": {
    "application/vnd.databricks.v1+cell": {
     "cellMetadata": {
      "byteLimit": 2048000,
      "rowLimit": 10000
     },
     "inputWidgets": {},
     "nuid": "6ee2ce4f-c8ff-4122-aa79-894aeaaea06b",
     "showTitle": false,
     "tableResultSettingsMap": {},
     "title": ""
    }
   },
   "outputs": [
    {
     "output_type": "stream",
     "name": "stdout",
     "output_type": "stream",
     "text": [
      "+---------------------------+\n|count(DISTINCT CUSTOMER_ID)|\n+---------------------------+\n|                         10|\n+---------------------------+\n\n"
     ]
    }
   ],
   "source": [
    "# we also have the function CountDistinct which will count the distinct values in a column\n",
    "sales_df.select(countDistinct('CUSTOMER_ID')).show()"
   ]
  },
  {
   "cell_type": "markdown",
   "metadata": {
    "application/vnd.databricks.v1+cell": {
     "cellMetadata": {
      "byteLimit": 2048000,
      "rowLimit": 10000
     },
     "inputWidgets": {},
     "nuid": "22195c41-2125-4e39-b21a-31316429159d",
     "showTitle": false,
     "tableResultSettingsMap": {},
     "title": ""
    }
   },
   "source": [
    "#### Min & Max "
   ]
  },
  {
   "cell_type": "code",
   "execution_count": 0,
   "metadata": {
    "application/vnd.databricks.v1+cell": {
     "cellMetadata": {
      "byteLimit": 2048000,
      "rowLimit": 10000
     },
     "inputWidgets": {},
     "nuid": "a570fcc0-123f-45b2-bb9c-370f422b6dee",
     "showTitle": false,
     "tableResultSettingsMap": {},
     "title": ""
    }
   },
   "outputs": [
    {
     "output_type": "stream",
     "name": "stdout",
     "output_type": "stream",
     "text": [
      "+----------+\n|max(PRICE)|\n+----------+\n|     11000|\n+----------+\n\n"
     ]
    }
   ],
   "source": [
    "# to get max value of a column we use max()\n",
    "sales_df.select(max('PRICE')).show()"
   ]
  },
  {
   "cell_type": "code",
   "execution_count": 0,
   "metadata": {
    "application/vnd.databricks.v1+cell": {
     "cellMetadata": {
      "byteLimit": 2048000,
      "rowLimit": 10000
     },
     "inputWidgets": {},
     "nuid": "4caa26b8-3765-42fb-8caf-1e5547529eab",
     "showTitle": false,
     "tableResultSettingsMap": {},
     "title": ""
    }
   },
   "outputs": [
    {
     "output_type": "stream",
     "name": "stdout",
     "output_type": "stream",
     "text": [
      "+----------+\n|min(PRICE)|\n+----------+\n|      2500|\n+----------+\n\n"
     ]
    }
   ],
   "source": [
    "# to get the min value of a column we use min()\n",
    "sales_df.select(min('PRICE')).show()"
   ]
  },
  {
   "cell_type": "code",
   "execution_count": 0,
   "metadata": {
    "application/vnd.databricks.v1+cell": {
     "cellMetadata": {
      "byteLimit": 2048000,
      "rowLimit": 10000
     },
     "inputWidgets": {},
     "nuid": "99d2c763-0881-4e93-8f90-4c51a353cc00",
     "showTitle": false,
     "tableResultSettingsMap": {},
     "title": ""
    }
   },
   "outputs": [
    {
     "output_type": "stream",
     "name": "stdout",
     "output_type": "stream",
     "text": [
      "+-----------------+\n|max((PRICE * 10))|\n+-----------------+\n|           110000|\n+-----------------+\n\n"
     ]
    }
   ],
   "source": [
    "'''\n",
    "As you notice we can pass the column name directly as a string or pass an expression as following:\n",
    "'''\n",
    "sales_df.select(max(expr('PRICE * 10'))).show()"
   ]
  },
  {
   "cell_type": "code",
   "execution_count": 0,
   "metadata": {
    "application/vnd.databricks.v1+cell": {
     "cellMetadata": {
      "byteLimit": 2048000,
      "rowLimit": 10000
     },
     "inputWidgets": {},
     "nuid": "4307c37e-07a7-4a95-9c52-f78a50ee5695",
     "showTitle": false,
     "tableResultSettingsMap": {},
     "title": ""
    }
   },
   "outputs": [
    {
     "output_type": "stream",
     "name": "stdout",
     "output_type": "stream",
     "text": [
      "+---------+---------+------------+\n|min_price|max_price|total_orders|\n+---------+---------+------------+\n|     2500|    11000|          22|\n+---------+---------+------------+\n\n"
     ]
    }
   ],
   "source": [
    "# we can cimbine all in one \n",
    "sales_df.select(min('PRICE').alias('min_price'),max('PRICE').alias('max_price'),count('*').alias('total_orders')).show()"
   ]
  },
  {
   "cell_type": "markdown",
   "metadata": {
    "application/vnd.databricks.v1+cell": {
     "cellMetadata": {
      "byteLimit": 2048000,
      "rowLimit": 10000
     },
     "inputWidgets": {},
     "nuid": "0e90d898-981f-4278-8004-f0c4cd6850f4",
     "showTitle": false,
     "tableResultSettingsMap": {},
     "title": ""
    }
   },
   "source": [
    "#### Sum & Avarege"
   ]
  },
  {
   "cell_type": "code",
   "execution_count": 0,
   "metadata": {
    "application/vnd.databricks.v1+cell": {
     "cellMetadata": {
      "byteLimit": 2048000,
      "rowLimit": 10000
     },
     "inputWidgets": {},
     "nuid": "803493d5-cd48-4130-932e-8c2c55a9c023",
     "showTitle": false,
     "tableResultSettingsMap": {},
     "title": ""
    }
   },
   "outputs": [
    {
     "output_type": "stream",
     "name": "stdout",
     "output_type": "stream",
     "text": [
      "+----------+\n|sum(PRICE)|\n+----------+\n|    124612|\n+----------+\n\n"
     ]
    }
   ],
   "source": [
    "# to get the sum of a column we use sum()\n",
    "sales_df.select(sum('PRICE')).show()"
   ]
  },
  {
   "cell_type": "code",
   "execution_count": 0,
   "metadata": {
    "application/vnd.databricks.v1+cell": {
     "cellMetadata": {
      "byteLimit": 2048000,
      "rowLimit": 10000
     },
     "inputWidgets": {},
     "nuid": "8c6c8488-9838-4f07-8224-037f689422bb",
     "showTitle": false,
     "tableResultSettingsMap": {},
     "title": ""
    }
   },
   "outputs": [
    {
     "output_type": "stream",
     "name": "stderr",
     "output_type": "stream",
     "text": [
      "/databricks/python/lib/python3.11/site-packages/pyspark/sql/connect/functions/builtin.py:1403: FutureWarning: Deprecated in 3.4, use sum_distinct instead.\n  warnings.warn(\"Deprecated in 3.4, use sum_distinct instead.\", FutureWarning)\n"
     ]
    },
    {
     "output_type": "stream",
     "name": "stdout",
     "output_type": "stream",
     "text": [
      "+-------------------+\n|sum(DISTINCT PRICE)|\n+-------------------+\n|              44557|\n+-------------------+\n\n"
     ]
    }
   ],
   "source": [
    "# to get the sum of distinct values in a column we use sumDistinct()\n",
    "sales_df.select(sumDistinct('PRICE')).show()"
   ]
  },
  {
   "cell_type": "code",
   "execution_count": 0,
   "metadata": {
    "application/vnd.databricks.v1+cell": {
     "cellMetadata": {
      "byteLimit": 2048000,
      "rowLimit": 10000
     },
     "inputWidgets": {},
     "nuid": "2de9e06f-2fa4-4067-a420-24e41395e0e5",
     "showTitle": false,
     "tableResultSettingsMap": {},
     "title": ""
    }
   },
   "outputs": [
    {
     "output_type": "stream",
     "name": "stdout",
     "output_type": "stream",
     "text": [
      "+----------+-----------------------+\n|PRODUCT_ID|CAST(sum(PRICE) AS INT)|\n+----------+-----------------------+\n|        12|                   5000|\n|        13|                   5999|\n|        14|                   3999|\n|        15|                   6000|\n|        16|                  22000|\n|        17|                  22000|\n|        18|                   9998|\n|        19|                   9000|\n|        20|                  11998|\n|        21|                   7120|\n|        22|                  11998|\n|        30|                   4500|\n|        45|                   5000|\n+----------+-----------------------+\n\n"
     ]
    }
   ],
   "source": [
    "sales_df.groupBy('PRODUCT_ID').agg(sum('PRICE').cast(IntegerType())).orderBy('PRODUCT_ID').show()"
   ]
  },
  {
   "cell_type": "code",
   "execution_count": 0,
   "metadata": {
    "application/vnd.databricks.v1+cell": {
     "cellMetadata": {
      "byteLimit": 2048000,
      "rowLimit": 10000
     },
     "inputWidgets": {},
     "nuid": "4a1bd0be-8f82-4f99-88a7-4b7e73598a3a",
     "showTitle": false,
     "tableResultSettingsMap": {},
     "title": ""
    }
   },
   "outputs": [
    {
     "output_type": "stream",
     "name": "stdout",
     "output_type": "stream",
     "text": [
      "root\n |-- PRODUCT_ID: integer (nullable = true)\n |-- PRODUCT_NAME: string (nullable = true)\n |-- MANUFACTURER_NAME: string (nullable = true)\n |-- PRODUCT_COLOR: string (nullable = true)\n\n"
     ]
    }
   ],
   "source": [
    "product_df.printSchema()"
   ]
  },
  {
   "cell_type": "code",
   "execution_count": 0,
   "metadata": {
    "application/vnd.databricks.v1+cell": {
     "cellMetadata": {
      "byteLimit": 2048000,
      "rowLimit": 10000
     },
     "inputWidgets": {},
     "nuid": "98b0b5df-e6f4-4383-9a6f-ae97ce808589",
     "showTitle": false,
     "tableResultSettingsMap": {},
     "title": ""
    }
   },
   "outputs": [
    {
     "output_type": "stream",
     "name": "stdout",
     "output_type": "stream",
     "text": [
      "root\n |-- REQ_ID: integer (nullable = true)\n |-- EMP_ID: integer (nullable = true)\n |-- CUSTOMER_ID: integer (nullable = true)\n |-- PRODUCT_ID: integer (nullable = true)\n |-- PRICE: integer (nullable = true)\n\n"
     ]
    }
   ],
   "source": [
    "sales_df.printSchema()"
   ]
  },
  {
   "cell_type": "markdown",
   "metadata": {
    "application/vnd.databricks.v1+cell": {
     "cellMetadata": {},
     "inputWidgets": {},
     "nuid": "aeadf585-7bdb-4344-9add-0713644edaba",
     "showTitle": false,
     "tableResultSettingsMap": {},
     "title": ""
    }
   },
   "source": [
    "#### Exercise\n",
    "\n",
    "write application to generate sales report with the following:\n",
    "  - Customer ID\n",
    "  - Average Sales (AVG_PURCHASE)\n",
    "  - Minimum Sales (MIN_PURCHASE)\n",
    "  - Products Pruchased \n",
    "  - Employees Assigned"
   ]
  },
  {
   "cell_type": "code",
   "execution_count": 0,
   "metadata": {
    "application/vnd.databricks.v1+cell": {
     "cellMetadata": {
      "byteLimit": 2048000,
      "rowLimit": 10000
     },
     "inputWidgets": {},
     "nuid": "d3bd82b9-12ce-44b6-99f7-3c4216ad377c",
     "showTitle": false,
     "tableResultSettingsMap": {},
     "title": ""
    }
   },
   "outputs": [
    {
     "output_type": "stream",
     "name": "stdout",
     "output_type": "stream",
     "text": [
      "+------+------+-----------+----------+-----+\n|REQ_ID|EMP_ID|CUSTOMER_ID|PRODUCT_ID|PRICE|\n+------+------+-----------+----------+-----+\n|1     |101   |1001       |12        |2500 |\n|2     |101   |1002       |15        |3000 |\n|3     |102   |1002       |13        |5999 |\n|4     |103   |1005       |17        |11000|\n|5     |102   |1003       |14        |3999 |\n|6     |104   |1005       |22        |5999 |\n|7     |101   |1001       |16        |11000|\n|8     |103   |1001       |15        |3000 |\n|9     |105   |1003       |20        |5999 |\n|10    |102   |1002       |12        |2500 |\n+------+------+-----------+----------+-----+\nonly showing top 10 rows\n"
     ]
    }
   ],
   "source": [
    "sales_df.show(10,False)"
   ]
  },
  {
   "cell_type": "code",
   "execution_count": 0,
   "metadata": {
    "application/vnd.databricks.v1+cell": {
     "cellMetadata": {
      "byteLimit": 2048000,
      "rowLimit": 10000
     },
     "inputWidgets": {},
     "nuid": "86149aa4-0346-4ee7-b72a-066fff62b3f1",
     "showTitle": false,
     "tableResultSettingsMap": {},
     "title": ""
    }
   },
   "outputs": [
    {
     "output_type": "stream",
     "name": "stdout",
     "output_type": "stream",
     "text": [
      "+----------+------------+-----------------+-------------+\n|PRODUCT_ID|PRODUCT_NAME|MANUFACTURER_NAME|PRODUCT_COLOR|\n+----------+------------+-----------------+-------------+\n|12        |HTC One     |HTC              |Black        |\n|13        |HTC One     |HTC              |Gray         |\n|14        |HTC One     |HTC              |Blue         |\n|15        |Galaxy A3   |Samsung          |White        |\n|16        |Galaxy A3   |Samsung          |Black        |\n|17        |Galaxy A3   |Samsung          |Blue         |\n|18        |Galaxy A5   |Samsung          |White        |\n|19        |Galaxy A5   |Samsung          |Black        |\n|20        |Galaxy A5   |Samsung          |Blue         |\n|21        |IPHONE 6    |Apple            |Gold         |\n+----------+------------+-----------------+-------------+\nonly showing top 10 rows\n"
     ]
    }
   ],
   "source": [
    "product_df.show(10,False)"
   ]
  },
  {
   "cell_type": "code",
   "execution_count": 0,
   "metadata": {
    "application/vnd.databricks.v1+cell": {
     "cellMetadata": {
      "byteLimit": 2048000,
      "rowLimit": 10000
     },
     "inputWidgets": {},
     "nuid": "dea12cc9-a4b7-49c6-90fe-2684f3539dcc",
     "showTitle": false,
     "tableResultSettingsMap": {},
     "title": ""
    }
   },
   "outputs": [],
   "source": [
    "sales_df = sales_df.withColumnRenamed('PRODUCT_ID','S_PRODUCT_ID')\n",
    "product_df = product_df.withColumnRenamed('PRODUCT_ID','P_PRODUCT_ID')\n",
    "sales_prod = sales_df.join(product_df, sales_df.S_PRODUCT_ID == product_df.P_PRODUCT_ID, 'left')\n",
    "\n"
   ]
  },
  {
   "cell_type": "code",
   "execution_count": 0,
   "metadata": {
    "application/vnd.databricks.v1+cell": {
     "cellMetadata": {
      "byteLimit": 2048000,
      "rowLimit": 10000
     },
     "inputWidgets": {},
     "nuid": "aae67984-47cc-4ac0-b21b-f5a11345d8d0",
     "showTitle": false,
     "tableResultSettingsMap": {},
     "title": ""
    }
   },
   "outputs": [
    {
     "output_type": "stream",
     "name": "stdout",
     "output_type": "stream",
     "text": [
      "+------+------+-----------+------------+-----+------------+------------+-----------------+-------------+\n|REQ_ID|EMP_ID|CUSTOMER_ID|S_PRODUCT_ID|PRICE|P_PRODUCT_ID|PRODUCT_NAME|MANUFACTURER_NAME|PRODUCT_COLOR|\n+------+------+-----------+------------+-----+------------+------------+-----------------+-------------+\n|1     |101   |1001       |12          |2500 |12          |HTC One     |HTC              |Black        |\n|2     |101   |1002       |15          |3000 |15          |Galaxy A3   |Samsung          |White        |\n|3     |102   |1002       |13          |5999 |13          |HTC One     |HTC              |Gray         |\n|4     |103   |1005       |17          |11000|17          |Galaxy A3   |Samsung          |Blue         |\n|5     |102   |1003       |14          |3999 |14          |HTC One     |HTC              |Blue         |\n|6     |104   |1005       |22          |5999 |22          |IPHONE 6    |Apple            |white        |\n|7     |101   |1001       |16          |11000|16          |Galaxy A3   |Samsung          |Black        |\n|8     |103   |1001       |15          |3000 |15          |Galaxy A3   |Samsung          |White        |\n|9     |105   |1003       |20          |5999 |20          |Galaxy A5   |Samsung          |Blue         |\n|10    |102   |1002       |12          |2500 |12          |HTC One     |HTC              |Black        |\n+------+------+-----------+------------+-----+------------+------------+-----------------+-------------+\nonly showing top 10 rows\n"
     ]
    }
   ],
   "source": [
    "sales_prod.show(10,False)\n"
   ]
  },
  {
   "cell_type": "code",
   "execution_count": 0,
   "metadata": {
    "application/vnd.databricks.v1+cell": {
     "cellMetadata": {
      "byteLimit": 2048000,
      "rowLimit": 10000
     },
     "inputWidgets": {},
     "nuid": "166a808a-330a-4470-ba3c-29b895769384",
     "showTitle": false,
     "tableResultSettingsMap": {},
     "title": ""
    }
   },
   "outputs": [
    {
     "output_type": "stream",
     "name": "stdout",
     "output_type": "stream",
     "text": [
      "+-----------+-----------------+------------+------------+------------------+------------------+\n|CUSTOMER_ID|AVG_PURCHASE     |MAX_PURCHASE|MIN_PURCHASE|PRODUCTS_PURCHASED|EMPLOYEES_ASSIGNED|\n+-----------+-----------------+------------+------------+------------------+------------------+\n|1001       |5375.0           |11000       |2500        |4                 |4                 |\n|1002       |3764.75          |5999        |2500        |4                 |4                 |\n|1003       |6999.333333333333|11000       |3999        |3                 |3                 |\n|1005       |8499.5           |11000       |5999        |2                 |2                 |\n|1006       |4279.5           |4999        |3560        |2                 |2                 |\n|1007       |5999.0           |5999        |5999        |2                 |2                 |\n|1008       |4500.0           |4500        |4500        |1                 |1                 |\n|1009       |4999.0           |4999        |4999        |1                 |1                 |\n|1010       |7750.0           |11000       |4500        |2                 |2                 |\n|1020       |4500.0           |4500        |4500        |1                 |1                 |\n+-----------+-----------------+------------+------------+------------------+------------------+\n\n"
     ]
    }
   ],
   "source": [
    "sales_prod.groupby('CUSTOMER_ID').agg(avg(col('PRICE')).alias('AVG_PURCHASE'),max(col('PRICE')).alias('MAX_PURCHASE'),min(col('PRICE')).alias('MIN_PURCHASE'),count(col('S_PRODUCT_ID')).alias('PRODUCTS_PURCHASED'),count(col('EMP_ID')).alias('EMPLOYEES_ASSIGNED')).orderBy('CUSTOMER_ID').show(truncate=False)"
   ]
  },
  {
   "cell_type": "code",
   "execution_count": 0,
   "metadata": {
    "application/vnd.databricks.v1+cell": {
     "cellMetadata": {},
     "inputWidgets": {},
     "nuid": "cf217548-3ae5-4397-a7aa-27e6bdf45d37",
     "showTitle": false,
     "tableResultSettingsMap": {},
     "title": ""
    }
   },
   "outputs": [],
   "source": []
  }
 ],
 "metadata": {
  "application/vnd.databricks.v1+notebook": {
   "computePreferences": {
    "hardware": {
     "accelerator": null,
     "gpuPoolId": null,
     "memory": null
    }
   },
   "dashboards": [],
   "environmentMetadata": {
    "base_environment": "",
    "environment_version": "2"
   },
   "inputWidgetPreferences": null,
   "language": "python",
   "notebookMetadata": {
    "pythonIndentUnit": 4
   },
   "notebookName": "Ch3_code_demo",
   "widgets": {}
  },
  "language_info": {
   "name": "python"
  }
 },
 "nbformat": 4,
 "nbformat_minor": 0
}